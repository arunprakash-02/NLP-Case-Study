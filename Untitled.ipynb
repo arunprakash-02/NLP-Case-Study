{
 "cells": [
  {
   "cell_type": "code",
   "execution_count": 1,
   "id": "cbf43a54-9c4e-4f85-90c8-c6852aabdd8f",
   "metadata": {},
   "outputs": [],
   "source": [
    "import gensim"
   ]
  },
  {
   "cell_type": "code",
   "execution_count": 3,
   "id": "842c6aa9-468e-469c-a73f-0495ae6c8fbf",
   "metadata": {},
   "outputs": [],
   "source": [
    "from gensim.models import Word2Vec"
   ]
  },
  {
   "cell_type": "code",
   "execution_count": 4,
   "id": "4f7d750c-b31b-4e0f-b79c-87db336e702e",
   "metadata": {},
   "outputs": [],
   "source": [
    "sentences = [ [\"cat\", \"say\", \"meow\"], [\"dog\", \"say\", \"woof\"], [\"cat\", \"chase\", \"mouse\"], [\"dog\", \"chase\", \"cat\"], ]"
   ]
  },
  {
   "cell_type": "code",
   "execution_count": 5,
   "id": "c44d08d7-563a-4477-8d96-78c8cc2cd788",
   "metadata": {},
   "outputs": [],
   "source": [
    "model=Word2Vec(sentences,vector_size=50,window=3,min_count=1)\n",
    "vector=model.wv['cat']"
   ]
  },
  {
   "cell_type": "code",
   "execution_count": 6,
   "id": "7967d7af-df51-4aa1-ae87-044f3e35f899",
   "metadata": {},
   "outputs": [
    {
     "data": {
      "text/plain": [
       "(50,)"
      ]
     },
     "execution_count": 6,
     "metadata": {},
     "output_type": "execute_result"
    }
   ],
   "source": [
    "vector.shape"
   ]
  },
  {
   "cell_type": "code",
   "execution_count": 7,
   "id": "2d0a141d-fb07-4682-8164-70dd273d2c77",
   "metadata": {},
   "outputs": [
    {
     "data": {
      "text/plain": [
       "array([-1.0724545e-03,  4.7286271e-04,  1.0206699e-02,  1.8018546e-02,\n",
       "       -1.8605899e-02, -1.4233618e-02,  1.2917745e-02,  1.7945977e-02,\n",
       "       -1.0030856e-02, -7.5267432e-03,  1.4761009e-02, -3.0669428e-03,\n",
       "       -9.0732267e-03,  1.3108104e-02, -9.7203208e-03, -3.6320353e-03,\n",
       "        5.7531595e-03,  1.9837476e-03, -1.6570430e-02, -1.8897636e-02,\n",
       "        1.4623532e-02,  1.0140524e-02,  1.3515387e-02,  1.5257311e-03,\n",
       "        1.2701781e-02, -6.8107317e-03, -1.8928028e-03,  1.1537147e-02,\n",
       "       -1.5043275e-02, -7.8722071e-03, -1.5023164e-02, -1.8600845e-03,\n",
       "        1.9076237e-02, -1.4638334e-02, -4.6675373e-03, -3.8754821e-03,\n",
       "        1.6154874e-02, -1.1861792e-02,  9.0324880e-05, -9.5074680e-03,\n",
       "       -1.9207101e-02,  1.0014586e-02, -1.7519170e-02, -8.7836506e-03,\n",
       "       -7.0199967e-05, -5.9236289e-04, -1.5322480e-02,  1.9229487e-02,\n",
       "        9.9641159e-03,  1.8466286e-02], dtype=float32)"
      ]
     },
     "execution_count": 7,
     "metadata": {},
     "output_type": "execute_result"
    }
   ],
   "source": [
    "vector"
   ]
  },
  {
   "cell_type": "code",
   "execution_count": 8,
   "id": "967ea463-0d09-4b77-80ce-32ccef296d83",
   "metadata": {},
   "outputs": [],
   "source": [
    "similar_words=model.wv.most_similar('cat',topn=3)\n"
   ]
  },
  {
   "cell_type": "code",
   "execution_count": 10,
   "id": "4bdb8ae0-86ab-4109-a646-06d2019c2cb1",
   "metadata": {},
   "outputs": [
    {
     "name": "stdout",
     "output_type": "stream",
     "text": [
      "dog:0.1267007291316986\n",
      "chase:0.042373016476631165\n",
      "woof:0.012442173436284065\n"
     ]
    }
   ],
   "source": [
    "for word,similarity in similar_words:\n",
    "    print(f\"{word}:{similarity}\")"
   ]
  },
  {
   "cell_type": "code",
   "execution_count": 11,
   "id": "7049dc3c-e4be-4cc2-91c9-eb1231eba999",
   "metadata": {},
   "outputs": [],
   "source": [
    "model.save('word2vecclass.model')#saveing and loading model"
   ]
  },
  {
   "cell_type": "code",
   "execution_count": 13,
   "id": "a721fe6d-5091-4fb7-80eb-483a0eb16cd1",
   "metadata": {},
   "outputs": [],
   "source": [
    "loaded_model=Word2Vec.load('word2vecclass.model')"
   ]
  },
  {
   "cell_type": "code",
   "execution_count": 14,
   "id": "45e3c2ef-3f90-4850-a44f-0944dc0f55cd",
   "metadata": {
    "scrolled": true
   },
   "outputs": [
    {
     "name": "stdout",
     "output_type": "stream",
     "text": [
      "[-1.0724545e-03  4.7286271e-04  1.0206699e-02  1.8018546e-02\n",
      " -1.8605899e-02 -1.4233618e-02  1.2917745e-02  1.7945977e-02\n",
      " -1.0030856e-02 -7.5267432e-03  1.4761009e-02 -3.0669428e-03\n",
      " -9.0732267e-03  1.3108104e-02 -9.7203208e-03 -3.6320353e-03\n",
      "  5.7531595e-03  1.9837476e-03 -1.6570430e-02 -1.8897636e-02\n",
      "  1.4623532e-02  1.0140524e-02  1.3515387e-02  1.5257311e-03\n",
      "  1.2701781e-02 -6.8107317e-03 -1.8928028e-03  1.1537147e-02\n",
      " -1.5043275e-02 -7.8722071e-03 -1.5023164e-02 -1.8600845e-03\n",
      "  1.9076237e-02 -1.4638334e-02 -4.6675373e-03 -3.8754821e-03\n",
      "  1.6154874e-02 -1.1861792e-02  9.0324880e-05 -9.5074680e-03\n",
      " -1.9207101e-02  1.0014586e-02 -1.7519170e-02 -8.7836506e-03\n",
      " -7.0199967e-05 -5.9236289e-04 -1.5322480e-02  1.9229487e-02\n",
      "  9.9641159e-03  1.8466286e-02]\n"
     ]
    }
   ],
   "source": [
    "print(loaded_model.wv['cat'])"
   ]
  },
  {
   "cell_type": "code",
   "execution_count": 17,
   "id": "a54c65b3-87be-451d-97b0-dc9b24b0258a",
   "metadata": {},
   "outputs": [],
   "source": [
    "import gensim.downloader as api"
   ]
  },
  {
   "cell_type": "code",
   "execution_count": 18,
   "id": "f996ee89-3714-432d-a4c3-7dee3b0f08b9",
   "metadata": {},
   "outputs": [
    {
     "name": "stdout",
     "output_type": "stream",
     "text": [
      "[==================================================] 100.0% 31.6/31.6MB downloaded\n"
     ]
    }
   ],
   "source": [
    "dataset=api.load('text8')"
   ]
  },
  {
   "cell_type": "code",
   "execution_count": 19,
   "id": "0e8c57c7-1ae9-4749-8ff4-48d634deb7fb",
   "metadata": {},
   "outputs": [],
   "source": [
    "data=[d for d in dataset]"
   ]
  },
  {
   "cell_type": "code",
   "execution_count": 22,
   "id": "24e73467-ef27-412e-b825-1afb9d3de453",
   "metadata": {},
   "outputs": [
    {
     "data": {
      "text/plain": [
       "['anarchism',\n",
       " 'originated',\n",
       " 'as',\n",
       " 'a',\n",
       " 'term',\n",
       " 'of',\n",
       " 'abuse',\n",
       " 'first',\n",
       " 'used',\n",
       " 'against',\n",
       " 'early',\n",
       " 'working',\n",
       " 'class',\n",
       " 'radicals',\n",
       " 'including',\n",
       " 'the',\n",
       " 'diggers',\n",
       " 'of',\n",
       " 'the',\n",
       " 'english',\n",
       " 'revolution',\n",
       " 'and',\n",
       " 'the',\n",
       " 'sans',\n",
       " 'culottes',\n",
       " 'of',\n",
       " 'the',\n",
       " 'french',\n",
       " 'revolution',\n",
       " 'whilst']"
      ]
     },
     "execution_count": 22,
     "metadata": {},
     "output_type": "execute_result"
    }
   ],
   "source": [
    "data[0][:30]"
   ]
  },
  {
   "cell_type": "code",
   "execution_count": 23,
   "id": "af1c7c9e-0cd6-4ad7-b194-025ae456c49a",
   "metadata": {},
   "outputs": [
    {
     "data": {
      "text/plain": [
       "1701"
      ]
     },
     "execution_count": 23,
     "metadata": {},
     "output_type": "execute_result"
    }
   ],
   "source": [
    "len(data)"
   ]
  },
  {
   "cell_type": "code",
   "execution_count": 24,
   "id": "dd3cf059-fb0b-427d-ba03-7cc48e00fbf7",
   "metadata": {},
   "outputs": [],
   "source": [
    "model=Word2Vec(data,vector_size=50,window=3,min_count=1)\n",
    "vector=model.wv['pen']"
   ]
  },
  {
   "cell_type": "code",
   "execution_count": 25,
   "id": "684cd689-b94c-4a1c-83eb-26e6c1924c51",
   "metadata": {},
   "outputs": [
    {
     "name": "stdout",
     "output_type": "stream",
     "text": [
      "irish:0.7147798538208008\n",
      "dutch:0.6879233121871948\n",
      "danish:0.674299955368042\n"
     ]
    }
   ],
   "source": [
    "similar_words=model.wv.most_similar('english',topn=3)\n",
    "for word,similarity in similar_words:\n",
    "    print(f\"{word}:{similarity}\")"
   ]
  },
  {
   "cell_type": "code",
   "execution_count": 26,
   "id": "66ecf671-e9d7-4a45-aac0-d474b6be9656",
   "metadata": {},
   "outputs": [
    {
     "name": "stdout",
     "output_type": "stream",
     "text": [
      "dog:0.8677093982696533\n",
      "goat:0.8303232192993164\n",
      "panda:0.7947947382926941\n"
     ]
    }
   ],
   "source": [
    "similar_words=model.wv.most_similar('cat',topn=3)\n",
    "for word,similarity in similar_words:\n",
    "    print(f\"{word}:{similarity}\")"
   ]
  },
  {
   "cell_type": "code",
   "execution_count": 30,
   "id": "d93765f3-1750-4279-b76c-a1a2a463e422",
   "metadata": {
    "scrolled": true
   },
   "outputs": [
    {
     "data": {
      "text/plain": [
       "(50,)"
      ]
     },
     "execution_count": 30,
     "metadata": {},
     "output_type": "execute_result"
    }
   ],
   "source": [
    "vector.shape"
   ]
  },
  {
   "cell_type": "code",
   "execution_count": 31,
   "id": "749c076c-a6c7-4746-b739-9d7d3a718e4d",
   "metadata": {},
   "outputs": [],
   "source": [
    "glove_file='/Users/arunprakash/Desktop/glove.6B/glove.6B.100d.txt'"
   ]
  },
  {
   "cell_type": "code",
   "execution_count": 32,
   "id": "a14972be-dcee-42f0-91b5-2e589ef64a26",
   "metadata": {},
   "outputs": [],
   "source": [
    "from gensim.models import KeyedVectors\n",
    "glove_model=KeyedVectors.load_word2vec_format(glove_file,binary=False,no_header=True)"
   ]
  },
  {
   "cell_type": "code",
   "execution_count": 34,
   "id": "e2cb3afd-8e01-4d18-baea-eaec4e7843e2",
   "metadata": {},
   "outputs": [],
   "source": [
    "vector=glove_model['pen']"
   ]
  },
  {
   "cell_type": "code",
   "execution_count": 35,
   "id": "ed228c6c-532e-4ed0-bb36-1b1d5abc3b01",
   "metadata": {},
   "outputs": [
    {
     "data": {
      "text/plain": [
       "(100,)"
      ]
     },
     "execution_count": 35,
     "metadata": {},
     "output_type": "execute_result"
    }
   ],
   "source": [
    "vector.shape"
   ]
  },
  {
   "cell_type": "code",
   "execution_count": 36,
   "id": "59d28bf1-18fd-4c2f-b877-c84efd884834",
   "metadata": {},
   "outputs": [
    {
     "data": {
      "text/plain": [
       "array([-0.34552  ,  0.29789  , -0.37904  , -0.31938  ,  0.62888  ,\n",
       "        0.61416  ,  0.49733  , -0.41696  , -0.3151   , -0.20626  ,\n",
       "       -0.97058  ,  0.38394  , -0.73213  , -0.51389  , -0.13533  ,\n",
       "        0.81919  ,  0.13479  , -0.54161  ,  0.36336  , -0.44535  ,\n",
       "        0.30318  ,  0.89861  ,  0.18018  ,  0.017982 ,  0.97207  ,\n",
       "       -0.3767   , -0.34253  , -0.62245  ,  0.53802  , -0.45462  ,\n",
       "        0.37347  ,  0.66855  ,  0.045919 ,  0.31317  ,  0.57272  ,\n",
       "        0.13682  ,  0.077149 ,  0.1073   , -0.38126  , -0.33555  ,\n",
       "       -0.35833  , -0.28619  , -0.3241   , -1.1862   , -0.59932  ,\n",
       "       -0.19396  , -0.36689  , -0.40929  , -0.55322  ,  0.049855 ,\n",
       "       -0.39643  ,  0.36457  ,  0.09228  ,  0.83146  , -0.38847  ,\n",
       "       -1.126    ,  0.29753  ,  0.62646  ,  0.47811  , -0.22676  ,\n",
       "        0.71105  ,  0.63182  , -0.36587  ,  0.54473  ,  0.16763  ,\n",
       "        0.16875  ,  0.16516  ,  0.33061  , -0.12752  , -0.16011  ,\n",
       "       -0.26389  ,  0.45155  ,  0.3081   , -0.62813  , -0.57092  ,\n",
       "        0.39991  ,  0.69702  ,  0.2313   , -0.61316  ,  0.58607  ,\n",
       "        0.19509  , -0.36331  , -0.13374  , -0.72725  , -1.0138   ,\n",
       "       -0.51908  ,  0.6747   ,  0.15295  ,  0.7359   ,  0.23369  ,\n",
       "        0.15363  , -0.0087955,  1.3251   ,  0.93143  ,  0.1579   ,\n",
       "        0.051251 , -0.24631  , -0.38782  ,  0.20755  , -0.49034  ],\n",
       "      dtype=float32)"
      ]
     },
     "execution_count": 36,
     "metadata": {},
     "output_type": "execute_result"
    }
   ],
   "source": [
    "vector"
   ]
  },
  {
   "cell_type": "code",
   "execution_count": 37,
   "id": "c36babc5-a582-4420-87fd-86aa20a4e412",
   "metadata": {},
   "outputs": [
    {
     "name": "stdout",
     "output_type": "stream",
     "text": [
      "dog:0.8798074722290039\n",
      "rabbit:0.7424427270889282\n",
      "cats:0.732300341129303\n"
     ]
    }
   ],
   "source": [
    "similar_words=glove_model.most_similar('cat',topn=3)\n",
    "for word,similarity in similar_words:\n",
    "    print(f\"{word}:{similarity}\")"
   ]
  },
  {
   "cell_type": "code",
   "execution_count": 38,
   "id": "0baf46ee-a351-476e-97aa-1583cc4cc590",
   "metadata": {},
   "outputs": [
    {
     "name": "stdout",
     "output_type": "stream",
     "text": [
      "laws:0.876535952091217\n",
      "legal:0.7683643102645874\n",
      "rules:0.74900221824646\n"
     ]
    }
   ],
   "source": [
    "similar_words=glove_model.most_similar('law',topn=3)\n",
    "for word,similarity in similar_words:\n",
    "    print(f\"{word}:{similarity}\")"
   ]
  },
  {
   "cell_type": "code",
   "execution_count": 39,
   "id": "18b8bad2-d5b3-4c37-b75c-2f98e16adf60",
   "metadata": {},
   "outputs": [
    {
     "name": "stdout",
     "output_type": "stream",
     "text": [
      "breast:0.8210737705230713\n",
      "prostate:0.8065967559814453\n",
      "disease:0.7853679060935974\n"
     ]
    }
   ],
   "source": [
    "similar_words=glove_model.most_similar('cancer',topn=3)\n",
    "for word,similarity in similar_words:\n",
    "    print(f\"{word}:{similarity}\")"
   ]
  },
  {
   "cell_type": "code",
   "execution_count": 40,
   "id": "2df284cc-b7fd-44b2-bc74-d02fba4cca19",
   "metadata": {},
   "outputs": [
    {
     "name": "stdout",
     "output_type": "stream",
     "text": [
      "cia:0.742180585861206\n",
      "information:0.7210196852684021\n",
      "security:0.6963101625442505\n"
     ]
    }
   ],
   "source": [
    "similar_words=glove_model.most_similar('intelligence',topn=3)\n",
    "for word,similarity in similar_words:\n",
    "    print(f\"{word}:{similarity}\")"
   ]
  },
  {
   "cell_type": "code",
   "execution_count": 49,
   "id": "bd7a2654-9b24-4f4e-8171-8d02466d1a9d",
   "metadata": {},
   "outputs": [
    {
     "name": "stdout",
     "output_type": "stream",
     "text": [
      "wipro:0.870945155620575\n",
      "satyam:0.7801211476325989\n",
      "tata:0.6558910012245178\n"
     ]
    }
   ],
   "source": [
    "similar_words=glove_model.most_similar('infosys',topn=3)\n",
    "for word,similarity in similar_words:\n",
    "    print(f\"{word}:{similarity}\")"
   ]
  },
  {
   "cell_type": "code",
   "execution_count": 54,
   "id": "07230571-4691-4c94-a0cf-602b88070a28",
   "metadata": {},
   "outputs": [
    {
     "name": "stdout",
     "output_type": "stream",
     "text": [
      "volt:0.6090763807296753\n",
      "nvidia:0.5855021476745605\n",
      "motors:0.574411153793335\n"
     ]
    }
   ],
   "source": [
    "similar_words=glove_model.most_similar('tesla',topn=3)\n",
    "for word,similarity in similar_words:\n",
    "    print(f\"{word}:{similarity}\")"
   ]
  },
  {
   "cell_type": "code",
   "execution_count": null,
   "id": "1fa6ec31-7091-4d06-93b6-3f02f4d43f3f",
   "metadata": {},
   "outputs": [],
   "source": []
  }
 ],
 "metadata": {
  "kernelspec": {
   "display_name": "Python 3 (ipykernel)",
   "language": "python",
   "name": "python3"
  },
  "language_info": {
   "codemirror_mode": {
    "name": "ipython",
    "version": 3
   },
   "file_extension": ".py",
   "mimetype": "text/x-python",
   "name": "python",
   "nbconvert_exporter": "python",
   "pygments_lexer": "ipython3",
   "version": "3.11.7"
  }
 },
 "nbformat": 4,
 "nbformat_minor": 5
}
