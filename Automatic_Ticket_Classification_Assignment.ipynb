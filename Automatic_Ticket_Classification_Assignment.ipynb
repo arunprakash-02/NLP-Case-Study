{
 "cells": [
  {
   "cell_type": "markdown",
   "metadata": {
    "id": "rhR-ZUkwJrFn"
   },
   "source": [
    "## Problem Statement \n",
    "\n",
    "You need to build a model that is able to classify customer complaints based on the products/services. By doing so, you can segregate these tickets into their relevant categories and, therefore, help in the quick resolution of the issue.\n",
    "\n",
    "You will be doing topic modelling on the <b>.json</b> data provided by the company. Since this data is not labelled, you need to apply NMF to analyse patterns and classify tickets into the following five clusters based on their products/services:\n",
    "\n",
    "* Credit card / Prepaid card\n",
    "\n",
    "* Bank account services\n",
    "\n",
    "* Theft/Dispute reporting\n",
    "\n",
    "* Mortgages/loans\n",
    "\n",
    "* Others \n",
    "\n",
    "\n",
    "With the help of topic modelling, you will be able to map each ticket onto its respective department/category. You can then use this data to train any supervised model such as logistic regression, decision tree or random forest. Using this trained model, you can classify any new customer complaint support ticket into its relevant department."
   ]
  },
  {
   "cell_type": "markdown",
   "metadata": {
    "id": "mcgXVNyaLUFS"
   },
   "source": [
    "## Pipelines that needs to be performed:\n",
    "\n",
    "You need to perform the following eight major tasks to complete the assignment:\n",
    "\n",
    "1.  Data loading\n",
    "\n",
    "2. Text preprocessing\n",
    "\n",
    "3. Exploratory data analysis (EDA)\n",
    "\n",
    "4. Feature extraction\n",
    "\n",
    "5. Topic modelling \n",
    "\n",
    "6. Model building using supervised learning\n",
    "\n",
    "7. Model training and evaluation\n",
    "\n",
    "8. Model inference"
   ]
  },
  {
   "cell_type": "markdown",
   "metadata": {
    "id": "JuLFIymAL58u"
   },
   "source": [
    "## Importing the necessary libraries"
   ]
  },
  {
   "cell_type": "code",
   "execution_count": 58,
   "metadata": {
    "id": "O-Q9pqrcJrFr"
   },
   "outputs": [
    {
     "name": "stderr",
     "output_type": "stream",
     "text": [
      "[nltk_data] Downloading package wordnet to\n",
      "[nltk_data]     /Users/arunprakash/nltk_data...\n",
      "[nltk_data]   Package wordnet is already up-to-date!\n",
      "[nltk_data] Downloading package punkt to\n",
      "[nltk_data]     /Users/arunprakash/nltk_data...\n",
      "[nltk_data]   Package punkt is already up-to-date!\n",
      "[nltk_data] Downloading package stopwords to\n",
      "[nltk_data]     /Users/arunprakash/nltk_data...\n",
      "[nltk_data]   Package stopwords is already up-to-date!\n",
      "[nltk_data] Downloading package averaged_perceptron_tagger to\n",
      "[nltk_data]     /Users/arunprakash/nltk_data...\n",
      "[nltk_data]   Package averaged_perceptron_tagger is already up-to-\n",
      "[nltk_data]       date!\n"
     ]
    }
   ],
   "source": [
    "import json \n",
    "import statsmodels.api as sm\n",
    "import numpy as np\n",
    "import pandas as pd\n",
    "import re, nltk, spacy, string\n",
    "import en_core_web_sm\n",
    "nlp = en_core_web_sm.load()\n",
    "import seaborn as sns\n",
    "import matplotlib.pyplot as plt\n",
    "%matplotlib inline\n",
    "\n",
    "from collections import Counter\n",
    "from sklearn.model_selection import train_test_split\n",
    "\n",
    "from sklearn.feature_extraction.text import CountVectorizer, TfidfVectorizer,TfidfTransformer\n",
    "from nltk.stem import WordNetLemmatizer\n",
    "import nltk\n",
    "nltk.download('wordnet')\n",
    "nltk.download('punkt')\n",
    "nltk.download('stopwords') \n",
    "nltk.download('averaged_perceptron_tagger')\n",
    "from nltk.corpus import stopwords\n",
    "from nltk.tokenize import word_tokenize\n",
    "from nltk import pos_tag\n",
    "from nltk import bigrams\n",
    "from nltk import trigrams"
   ]
  },
  {
   "cell_type": "markdown",
   "metadata": {
    "id": "KtRLCsNVJrFt"
   },
   "source": [
    "## Loading the data\n",
    "\n",
    "The data is in JSON format and we need to convert it to a dataframe."
   ]
  },
  {
   "cell_type": "code",
   "execution_count": 2,
   "metadata": {},
   "outputs": [],
   "source": [
    "pd.set_option('display.max_colwidth', None)\n",
    "\n",
    "# Display the entire DataFrame without truncation\n",
    "pd.set_option('display.max_columns', None)  # Show all columns\n",
    "pd.set_option('display.width', None)       # Adjust display width"
   ]
  },
  {
   "cell_type": "code",
   "execution_count": 3,
   "metadata": {
    "id": "puVzIf_iJrFt"
   },
   "outputs": [],
   "source": [
    "# Opening JSON file \n",
    "with open('/Users/arunprakash/Desktop/complaints-2021-05-14_08_16.json', 'r') as file:\n",
    "    data = json.load(file)\n",
    "#Write the path to your data file and load it \n",
    "  \n",
    "# returns JSON object as  \n",
    "# a dictionary \n",
    "\n",
    "df=pd.json_normalize(data)"
   ]
  },
  {
   "cell_type": "markdown",
   "metadata": {
    "id": "_xYpH-sAJrFu"
   },
   "source": [
    "## Data preparation"
   ]
  },
  {
   "cell_type": "code",
   "execution_count": 4,
   "metadata": {},
   "outputs": [
    {
     "data": {
      "text/plain": [
       "(78313, 22)"
      ]
     },
     "execution_count": 4,
     "metadata": {},
     "output_type": "execute_result"
    }
   ],
   "source": [
    "df.shape"
   ]
  },
  {
   "cell_type": "code",
   "execution_count": 5,
   "metadata": {
    "id": "Lf8ufHH5JrFu",
    "scrolled": true
   },
   "outputs": [
    {
     "data": {
      "text/html": [
       "<div>\n",
       "<style scoped>\n",
       "    .dataframe tbody tr th:only-of-type {\n",
       "        vertical-align: middle;\n",
       "    }\n",
       "\n",
       "    .dataframe tbody tr th {\n",
       "        vertical-align: top;\n",
       "    }\n",
       "\n",
       "    .dataframe thead th {\n",
       "        text-align: right;\n",
       "    }\n",
       "</style>\n",
       "<table border=\"1\" class=\"dataframe\">\n",
       "  <thead>\n",
       "    <tr style=\"text-align: right;\">\n",
       "      <th></th>\n",
       "      <th>0</th>\n",
       "      <th>1</th>\n",
       "      <th>2</th>\n",
       "      <th>3</th>\n",
       "      <th>4</th>\n",
       "    </tr>\n",
       "  </thead>\n",
       "  <tbody>\n",
       "    <tr>\n",
       "      <th>_index</th>\n",
       "      <td>complaint-public-v2</td>\n",
       "      <td>complaint-public-v2</td>\n",
       "      <td>complaint-public-v2</td>\n",
       "      <td>complaint-public-v2</td>\n",
       "      <td>complaint-public-v2</td>\n",
       "    </tr>\n",
       "    <tr>\n",
       "      <th>_type</th>\n",
       "      <td>complaint</td>\n",
       "      <td>complaint</td>\n",
       "      <td>complaint</td>\n",
       "      <td>complaint</td>\n",
       "      <td>complaint</td>\n",
       "    </tr>\n",
       "    <tr>\n",
       "      <th>_id</th>\n",
       "      <td>3211475</td>\n",
       "      <td>3229299</td>\n",
       "      <td>3199379</td>\n",
       "      <td>2673060</td>\n",
       "      <td>3203545</td>\n",
       "    </tr>\n",
       "    <tr>\n",
       "      <th>_score</th>\n",
       "      <td>0.0</td>\n",
       "      <td>0.0</td>\n",
       "      <td>0.0</td>\n",
       "      <td>0.0</td>\n",
       "      <td>0.0</td>\n",
       "    </tr>\n",
       "    <tr>\n",
       "      <th>_source.tags</th>\n",
       "      <td>None</td>\n",
       "      <td>Servicemember</td>\n",
       "      <td>None</td>\n",
       "      <td>None</td>\n",
       "      <td>None</td>\n",
       "    </tr>\n",
       "    <tr>\n",
       "      <th>_source.zip_code</th>\n",
       "      <td>90301</td>\n",
       "      <td>319XX</td>\n",
       "      <td>77069</td>\n",
       "      <td>48066</td>\n",
       "      <td>10473</td>\n",
       "    </tr>\n",
       "    <tr>\n",
       "      <th>_source.complaint_id</th>\n",
       "      <td>3211475</td>\n",
       "      <td>3229299</td>\n",
       "      <td>3199379</td>\n",
       "      <td>2673060</td>\n",
       "      <td>3203545</td>\n",
       "    </tr>\n",
       "    <tr>\n",
       "      <th>_source.issue</th>\n",
       "      <td>Attempts to collect debt not owed</td>\n",
       "      <td>Written notification about debt</td>\n",
       "      <td>Other features, terms, or problems</td>\n",
       "      <td>Trouble during payment process</td>\n",
       "      <td>Fees or interest</td>\n",
       "    </tr>\n",
       "    <tr>\n",
       "      <th>_source.date_received</th>\n",
       "      <td>2019-04-13T12:00:00-05:00</td>\n",
       "      <td>2019-05-01T12:00:00-05:00</td>\n",
       "      <td>2019-04-02T12:00:00-05:00</td>\n",
       "      <td>2017-09-13T12:00:00-05:00</td>\n",
       "      <td>2019-04-05T12:00:00-05:00</td>\n",
       "    </tr>\n",
       "    <tr>\n",
       "      <th>_source.state</th>\n",
       "      <td>CA</td>\n",
       "      <td>GA</td>\n",
       "      <td>TX</td>\n",
       "      <td>MI</td>\n",
       "      <td>NY</td>\n",
       "    </tr>\n",
       "    <tr>\n",
       "      <th>_source.consumer_disputed</th>\n",
       "      <td>N/A</td>\n",
       "      <td>N/A</td>\n",
       "      <td>N/A</td>\n",
       "      <td>N/A</td>\n",
       "      <td>N/A</td>\n",
       "    </tr>\n",
       "    <tr>\n",
       "      <th>_source.product</th>\n",
       "      <td>Debt collection</td>\n",
       "      <td>Debt collection</td>\n",
       "      <td>Credit card or prepaid card</td>\n",
       "      <td>Mortgage</td>\n",
       "      <td>Credit card or prepaid card</td>\n",
       "    </tr>\n",
       "    <tr>\n",
       "      <th>_source.company_response</th>\n",
       "      <td>Closed with explanation</td>\n",
       "      <td>Closed with explanation</td>\n",
       "      <td>Closed with explanation</td>\n",
       "      <td>Closed with explanation</td>\n",
       "      <td>Closed with explanation</td>\n",
       "    </tr>\n",
       "    <tr>\n",
       "      <th>_source.company</th>\n",
       "      <td>JPMORGAN CHASE &amp; CO.</td>\n",
       "      <td>JPMORGAN CHASE &amp; CO.</td>\n",
       "      <td>JPMORGAN CHASE &amp; CO.</td>\n",
       "      <td>JPMORGAN CHASE &amp; CO.</td>\n",
       "      <td>JPMORGAN CHASE &amp; CO.</td>\n",
       "    </tr>\n",
       "    <tr>\n",
       "      <th>_source.submitted_via</th>\n",
       "      <td>Web</td>\n",
       "      <td>Web</td>\n",
       "      <td>Web</td>\n",
       "      <td>Web</td>\n",
       "      <td>Referral</td>\n",
       "    </tr>\n",
       "    <tr>\n",
       "      <th>_source.date_sent_to_company</th>\n",
       "      <td>2019-04-13T12:00:00-05:00</td>\n",
       "      <td>2019-05-01T12:00:00-05:00</td>\n",
       "      <td>2019-04-02T12:00:00-05:00</td>\n",
       "      <td>2017-09-14T12:00:00-05:00</td>\n",
       "      <td>2019-04-05T12:00:00-05:00</td>\n",
       "    </tr>\n",
       "    <tr>\n",
       "      <th>_source.company_public_response</th>\n",
       "      <td>None</td>\n",
       "      <td>None</td>\n",
       "      <td>None</td>\n",
       "      <td>None</td>\n",
       "      <td>None</td>\n",
       "    </tr>\n",
       "    <tr>\n",
       "      <th>_source.sub_product</th>\n",
       "      <td>Credit card debt</td>\n",
       "      <td>Credit card debt</td>\n",
       "      <td>General-purpose credit card or charge card</td>\n",
       "      <td>Conventional home mortgage</td>\n",
       "      <td>General-purpose credit card or charge card</td>\n",
       "    </tr>\n",
       "    <tr>\n",
       "      <th>_source.timely</th>\n",
       "      <td>Yes</td>\n",
       "      <td>Yes</td>\n",
       "      <td>Yes</td>\n",
       "      <td>Yes</td>\n",
       "      <td>Yes</td>\n",
       "    </tr>\n",
       "    <tr>\n",
       "      <th>_source.complaint_what_happened</th>\n",
       "      <td></td>\n",
       "      <td>Good morning my name is XXXX XXXX and I appreciate it if you could help me put a stop to Chase Bank cardmember services. \\nIn 2018 I wrote to Chase asking for debt verification and what they sent me a statement which is not acceptable. I am asking the bank to validate the debt. Instead I been receiving mail every month from them attempting to collect a debt. \\nI have a right to know this information as a consumer. \\n\\nChase account # XXXX XXXX XXXX XXXX Thanks in advance for your help.</td>\n",
       "      <td>I upgraded my XXXX XXXX card in XX/XX/2018 and was told by the agent who did the upgrade my anniversary date would not change. It turned the agent was giving me the wrong information in order to upgrade the account. XXXX   changed my anniversary date from XX/XX/XXXX to XX/XX/XXXX without my consent! XXXX has the recording of the agent who was misled me.</td>\n",
       "      <td></td>\n",
       "      <td></td>\n",
       "    </tr>\n",
       "    <tr>\n",
       "      <th>_source.sub_issue</th>\n",
       "      <td>Debt is not yours</td>\n",
       "      <td>Didn't receive enough information to verify debt</td>\n",
       "      <td>Problem with rewards from credit card</td>\n",
       "      <td>None</td>\n",
       "      <td>Charged too much interest</td>\n",
       "    </tr>\n",
       "    <tr>\n",
       "      <th>_source.consumer_consent_provided</th>\n",
       "      <td>Consent not provided</td>\n",
       "      <td>Consent provided</td>\n",
       "      <td>Consent provided</td>\n",
       "      <td>Consent not provided</td>\n",
       "      <td>N/A</td>\n",
       "    </tr>\n",
       "  </tbody>\n",
       "</table>\n",
       "</div>"
      ],
      "text/plain": [
       "                                                                   0  \\\n",
       "_index                                           complaint-public-v2   \n",
       "_type                                                      complaint   \n",
       "_id                                                          3211475   \n",
       "_score                                                           0.0   \n",
       "_source.tags                                                    None   \n",
       "_source.zip_code                                               90301   \n",
       "_source.complaint_id                                         3211475   \n",
       "_source.issue                      Attempts to collect debt not owed   \n",
       "_source.date_received                      2019-04-13T12:00:00-05:00   \n",
       "_source.state                                                     CA   \n",
       "_source.consumer_disputed                                        N/A   \n",
       "_source.product                                      Debt collection   \n",
       "_source.company_response                     Closed with explanation   \n",
       "_source.company                                 JPMORGAN CHASE & CO.   \n",
       "_source.submitted_via                                            Web   \n",
       "_source.date_sent_to_company               2019-04-13T12:00:00-05:00   \n",
       "_source.company_public_response                                 None   \n",
       "_source.sub_product                                 Credit card debt   \n",
       "_source.timely                                                   Yes   \n",
       "_source.complaint_what_happened                                        \n",
       "_source.sub_issue                                  Debt is not yours   \n",
       "_source.consumer_consent_provided               Consent not provided   \n",
       "\n",
       "                                                                                                                                                                                                                                                                                                                                                                                                                                                                                                                                            1  \\\n",
       "_index                                                                                                                                                                                                                                                                                                                                                                                                                                                                                                                    complaint-public-v2   \n",
       "_type                                                                                                                                                                                                                                                                                                                                                                                                                                                                                                                               complaint   \n",
       "_id                                                                                                                                                                                                                                                                                                                                                                                                                                                                                                                                   3229299   \n",
       "_score                                                                                                                                                                                                                                                                                                                                                                                                                                                                                                                                    0.0   \n",
       "_source.tags                                                                                                                                                                                                                                                                                                                                                                                                                                                                                                                    Servicemember   \n",
       "_source.zip_code                                                                                                                                                                                                                                                                                                                                                                                                                                                                                                                        319XX   \n",
       "_source.complaint_id                                                                                                                                                                                                                                                                                                                                                                                                                                                                                                                  3229299   \n",
       "_source.issue                                                                                                                                                                                                                                                                                                                                                                                                                                                                                                 Written notification about debt   \n",
       "_source.date_received                                                                                                                                                                                                                                                                                                                                                                                                                                                                                               2019-05-01T12:00:00-05:00   \n",
       "_source.state                                                                                                                                                                                                                                                                                                                                                                                                                                                                                                                              GA   \n",
       "_source.consumer_disputed                                                                                                                                                                                                                                                                                                                                                                                                                                                                                                                 N/A   \n",
       "_source.product                                                                                                                                                                                                                                                                                                                                                                                                                                                                                                               Debt collection   \n",
       "_source.company_response                                                                                                                                                                                                                                                                                                                                                                                                                                                                                              Closed with explanation   \n",
       "_source.company                                                                                                                                                                                                                                                                                                                                                                                                                                                                                                          JPMORGAN CHASE & CO.   \n",
       "_source.submitted_via                                                                                                                                                                                                                                                                                                                                                                                                                                                                                                                     Web   \n",
       "_source.date_sent_to_company                                                                                                                                                                                                                                                                                                                                                                                                                                                                                        2019-05-01T12:00:00-05:00   \n",
       "_source.company_public_response                                                                                                                                                                                                                                                                                                                                                                                                                                                                                                          None   \n",
       "_source.sub_product                                                                                                                                                                                                                                                                                                                                                                                                                                                                                                          Credit card debt   \n",
       "_source.timely                                                                                                                                                                                                                                                                                                                                                                                                                                                                                                                            Yes   \n",
       "_source.complaint_what_happened    Good morning my name is XXXX XXXX and I appreciate it if you could help me put a stop to Chase Bank cardmember services. \\nIn 2018 I wrote to Chase asking for debt verification and what they sent me a statement which is not acceptable. I am asking the bank to validate the debt. Instead I been receiving mail every month from them attempting to collect a debt. \\nI have a right to know this information as a consumer. \\n\\nChase account # XXXX XXXX XXXX XXXX Thanks in advance for your help.   \n",
       "_source.sub_issue                                                                                                                                                                                                                                                                                                                                                                                                                                                                            Didn't receive enough information to verify debt   \n",
       "_source.consumer_consent_provided                                                                                                                                                                                                                                                                                                                                                                                                                                                                                            Consent provided   \n",
       "\n",
       "                                                                                                                                                                                                                                                                                                                                                                                                     2  \\\n",
       "_index                                                                                                                                                                                                                                                                                                                                                                             complaint-public-v2   \n",
       "_type                                                                                                                                                                                                                                                                                                                                                                                        complaint   \n",
       "_id                                                                                                                                                                                                                                                                                                                                                                                            3199379   \n",
       "_score                                                                                                                                                                                                                                                                                                                                                                                             0.0   \n",
       "_source.tags                                                                                                                                                                                                                                                                                                                                                                                      None   \n",
       "_source.zip_code                                                                                                                                                                                                                                                                                                                                                                                 77069   \n",
       "_source.complaint_id                                                                                                                                                                                                                                                                                                                                                                           3199379   \n",
       "_source.issue                                                                                                                                                                                                                                                                                                                                                       Other features, terms, or problems   \n",
       "_source.date_received                                                                                                                                                                                                                                                                                                                                                        2019-04-02T12:00:00-05:00   \n",
       "_source.state                                                                                                                                                                                                                                                                                                                                                                                       TX   \n",
       "_source.consumer_disputed                                                                                                                                                                                                                                                                                                                                                                          N/A   \n",
       "_source.product                                                                                                                                                                                                                                                                                                                                                            Credit card or prepaid card   \n",
       "_source.company_response                                                                                                                                                                                                                                                                                                                                                       Closed with explanation   \n",
       "_source.company                                                                                                                                                                                                                                                                                                                                                                   JPMORGAN CHASE & CO.   \n",
       "_source.submitted_via                                                                                                                                                                                                                                                                                                                                                                              Web   \n",
       "_source.date_sent_to_company                                                                                                                                                                                                                                                                                                                                                 2019-04-02T12:00:00-05:00   \n",
       "_source.company_public_response                                                                                                                                                                                                                                                                                                                                                                   None   \n",
       "_source.sub_product                                                                                                                                                                                                                                                                                                                                         General-purpose credit card or charge card   \n",
       "_source.timely                                                                                                                                                                                                                                                                                                                                                                                     Yes   \n",
       "_source.complaint_what_happened    I upgraded my XXXX XXXX card in XX/XX/2018 and was told by the agent who did the upgrade my anniversary date would not change. It turned the agent was giving me the wrong information in order to upgrade the account. XXXX   changed my anniversary date from XX/XX/XXXX to XX/XX/XXXX without my consent! XXXX has the recording of the agent who was misled me.   \n",
       "_source.sub_issue                                                                                                                                                                                                                                                                                                                                                Problem with rewards from credit card   \n",
       "_source.consumer_consent_provided                                                                                                                                                                                                                                                                                                                                                     Consent provided   \n",
       "\n",
       "                                                                3  \\\n",
       "_index                                        complaint-public-v2   \n",
       "_type                                                   complaint   \n",
       "_id                                                       2673060   \n",
       "_score                                                        0.0   \n",
       "_source.tags                                                 None   \n",
       "_source.zip_code                                            48066   \n",
       "_source.complaint_id                                      2673060   \n",
       "_source.issue                      Trouble during payment process   \n",
       "_source.date_received                   2017-09-13T12:00:00-05:00   \n",
       "_source.state                                                  MI   \n",
       "_source.consumer_disputed                                     N/A   \n",
       "_source.product                                          Mortgage   \n",
       "_source.company_response                  Closed with explanation   \n",
       "_source.company                              JPMORGAN CHASE & CO.   \n",
       "_source.submitted_via                                         Web   \n",
       "_source.date_sent_to_company            2017-09-14T12:00:00-05:00   \n",
       "_source.company_public_response                              None   \n",
       "_source.sub_product                    Conventional home mortgage   \n",
       "_source.timely                                                Yes   \n",
       "_source.complaint_what_happened                                     \n",
       "_source.sub_issue                                            None   \n",
       "_source.consumer_consent_provided            Consent not provided   \n",
       "\n",
       "                                                                            4  \n",
       "_index                                                    complaint-public-v2  \n",
       "_type                                                               complaint  \n",
       "_id                                                                   3203545  \n",
       "_score                                                                    0.0  \n",
       "_source.tags                                                             None  \n",
       "_source.zip_code                                                        10473  \n",
       "_source.complaint_id                                                  3203545  \n",
       "_source.issue                                                Fees or interest  \n",
       "_source.date_received                               2019-04-05T12:00:00-05:00  \n",
       "_source.state                                                              NY  \n",
       "_source.consumer_disputed                                                 N/A  \n",
       "_source.product                                   Credit card or prepaid card  \n",
       "_source.company_response                              Closed with explanation  \n",
       "_source.company                                          JPMORGAN CHASE & CO.  \n",
       "_source.submitted_via                                                Referral  \n",
       "_source.date_sent_to_company                        2019-04-05T12:00:00-05:00  \n",
       "_source.company_public_response                                          None  \n",
       "_source.sub_product                General-purpose credit card or charge card  \n",
       "_source.timely                                                            Yes  \n",
       "_source.complaint_what_happened                                                \n",
       "_source.sub_issue                                   Charged too much interest  \n",
       "_source.consumer_consent_provided                                         N/A  "
      ]
     },
     "execution_count": 5,
     "metadata": {},
     "output_type": "execute_result"
    }
   ],
   "source": [
    "# Inspect the dataframe to understand the given data.\n",
    "df.head(5).T"
   ]
  },
  {
   "cell_type": "code",
   "execution_count": 6,
   "metadata": {
    "id": "Dwcty-wmJrFw"
   },
   "outputs": [],
   "source": [
    "#print the column names\n",
    "df.columns\n",
    "data = df.copy()"
   ]
  },
  {
   "cell_type": "code",
   "execution_count": 7,
   "metadata": {},
   "outputs": [
    {
     "data": {
      "text/plain": [
       "(78313, 22)"
      ]
     },
     "execution_count": 7,
     "metadata": {},
     "output_type": "execute_result"
    }
   ],
   "source": [
    "data.shape"
   ]
  },
  {
   "cell_type": "code",
   "execution_count": 8,
   "metadata": {
    "id": "FYCtKXD1JrFw"
   },
   "outputs": [
    {
     "name": "stderr",
     "output_type": "stream",
     "text": [
      "/var/folders/tr/42qwy2ls2fl0bgjdhg8yw4jr0000gn/T/ipykernel_15776/218096539.py:2: FutureWarning: The default value of regex will change from True to False in a future version.\n",
      "  df.columns=df.columns.str.replace(\"_source.\",\"\")\n"
     ]
    },
    {
     "data": {
      "text/plain": [
       "Index(['index', 'type', 'id', 'score', 'tags', 'zip_code', 'complaint_id',\n",
       "       'issue', 'date_received', 'state', 'consumer_disputed', 'product',\n",
       "       'company_response', 'company', 'submitted_via', 'date_sent_to_company',\n",
       "       'company_public_response', 'sub_product', 'timely',\n",
       "       'complaint_what_happened', 'sub_issue', 'consumer_consent_provided'],\n",
       "      dtype='object')"
      ]
     },
     "execution_count": 8,
     "metadata": {},
     "output_type": "execute_result"
    }
   ],
   "source": [
    "#Assign new column names\n",
    "df.columns=df.columns.str.replace(\"_source.\",\"\")\n",
    "df.columns=df.columns.str.replace(\"^_(\\w)\",r\"\\1\",regex=True)\n",
    "df.columns"
   ]
  },
  {
   "cell_type": "code",
   "execution_count": 9,
   "metadata": {
    "id": "grQUPFL5JrFx"
   },
   "outputs": [],
   "source": [
    "#Assign nan in place of blanks in the complaints column\n",
    "df['complaint_what_happened']=df['complaint_what_happened'].replace(r\"^\\s*$\", np.nan, regex=True)\n"
   ]
  },
  {
   "cell_type": "code",
   "execution_count": 10,
   "metadata": {
    "id": "Jfxd8VSmJrFy"
   },
   "outputs": [],
   "source": [
    "#Remove all rows where complaints column is nan\n",
    "df.dropna(subset=['complaint_what_happened'],inplace=True)"
   ]
  },
  {
   "cell_type": "markdown",
   "metadata": {
    "id": "L944HZpsJrFy"
   },
   "source": [
    "## Prepare the text for topic modeling\n",
    "\n",
    "Once you have removed all the blank complaints, you need to:\n",
    "\n",
    "* Make the text lowercase\n",
    "* Remove text in square brackets\n",
    "* Remove punctuation\n",
    "* Remove words containing numbers\n",
    "\n",
    "\n",
    "Once you have done these cleaning operations you need to perform the following:\n",
    "* Lemmatize the texts\n",
    "* Extract the POS tags of the lemmatized text and remove all the words which have tags other than NN[tag == \"NN\"].\n"
   ]
  },
  {
   "cell_type": "code",
   "execution_count": 11,
   "metadata": {
    "id": "qm7SjjSkJrFz"
   },
   "outputs": [],
   "source": [
    "# Write your function here to clean the text and remove all the unnecessary elements.\n",
    "def preprocess(document):\n",
    "    #'Make the text lowercase ,Remove text in square brackets,Remove punctuation,Remove words containing numbers'\n",
    "\n",
    "    # change sentence to lower case\n",
    "    document = document.lower()\n",
    "    # remove text in curly bracket\n",
    "    pattern = r\"\\{.*?\\}\"\n",
    "    document = re.sub(pattern,\"\",document)\n",
    "    # remove puntuation\n",
    "    puntuation = r'[^\\w\\s]'\n",
    "    document = re.sub(puntuation,\"\",document)\n",
    "    # remove word containing numbers\n",
    "    numbers = r\"\\d\"\n",
    "    document = re.sub(numbers,\"\",document)\n",
    "    # remove word containing new line\n",
    "    pattern = r\"\\n\"\n",
    "    document = re.sub(pattern,\"\",document)\n",
    "    # tokenize into words\n",
    "    words = word_tokenize(document)\n",
    "    # stopword removal\n",
    "    \n",
    "    filtered_words=[]\n",
    "    stop_words = set(stopwords.words('english'))\n",
    "    filtered_words = [word for word in words if word not in stop_words]\n",
    "    \n",
    "    #lemitize\n",
    "    wordnet_lemitzer=WordNetLemmatizer()\n",
    "    \n",
    "    words = [wordnet_lemitzer.lemmatize(word, pos='v') for word in filtered_words]\n",
    "    document=\" \".join(words)\n",
    "    return document"
   ]
  },
  {
   "cell_type": "code",
   "execution_count": 12,
   "metadata": {},
   "outputs": [],
   "source": [
    "#Create a dataframe('df_clean') that will have only the complaints and the lemmatized complaints \n",
    "df_clean=pd.DataFrame()\n",
    "df_clean['complaints']=df['complaint_what_happened']"
   ]
  },
  {
   "cell_type": "code",
   "execution_count": 13,
   "metadata": {
    "id": "zgOu8t8HJrFz"
   },
   "outputs": [],
   "source": [
    "#Write your function to Lemmatize the texts\n",
    "df_clean['lemmatized complaints']= df['complaint_what_happened'].apply(preprocess)"
   ]
  },
  {
   "cell_type": "code",
   "execution_count": 14,
   "metadata": {
    "id": "Kk7fc4DuJrF1"
   },
   "outputs": [],
   "source": [
    "#Write your function to extract the POS tags \n",
    "\n",
    "def pos_tag_text(text):\n",
    "    pos_tags = pos_tag(word_tokenize(text))  # Tokenize and tag words\n",
    "    nn_tags = []                             # List to store nouns (NN)\n",
    "    \n",
    "    for word, tag in pos_tags:               # Loop through tagged words\n",
    "        if tag == 'NN':                      # Check if the tag is 'NN'\n",
    "            nn_tags.append((word, tag))      # Append to the list\n",
    "    \n",
    "    return nn_tags if nn_tags else None      # Return list or None if empty\n",
    "\n",
    "# Perform POS tagging\n",
    "df_clean[\"complaint_POS_removed\"] = df_clean['lemmatized complaints'].apply(pos_tag_text)\n",
    "\n",
    "#this column should contain lemmatized text with all the words removed which have tags other than NN[tag == \"NN\"].\n"
   ]
  },
  {
   "cell_type": "code",
   "execution_count": 15,
   "metadata": {
    "id": "AjxfchvFJrF2",
    "scrolled": true
   },
   "outputs": [
    {
     "data": {
      "text/plain": [
       "(21072, 3)"
      ]
     },
     "execution_count": 15,
     "metadata": {},
     "output_type": "execute_result"
    }
   ],
   "source": [
    "#The clean dataframe should now contain the raw complaint, lemmatized complaint and the complaint after removing POS tags.\n",
    "df_clean.shape"
   ]
  },
  {
   "cell_type": "markdown",
   "metadata": {
    "id": "_7Un1AElJrF2"
   },
   "source": [
    "## Exploratory data analysis to get familiar with the data.\n",
    "\n",
    "Write the code in this task to perform the following:\n",
    "\n",
    "*   Visualise the data according to the 'Complaint' character length\n",
    "*   Using a word cloud find the top 40 words by frequency among all the articles after processing the text\n",
    "*   Find the top unigrams,bigrams and trigrams by frequency among all the complaints after processing the text. ‘\n",
    "\n",
    "\n"
   ]
  },
  {
   "cell_type": "code",
   "execution_count": null,
   "metadata": {
    "scrolled": true
   },
   "outputs": [],
   "source": [
    "\n",
    "transformed_data=np.log1p(df_clean.complaints.str.len())\n",
    "sns.displot(transformed_data)\n",
    "plt.show()"
   ]
  },
  {
   "cell_type": "markdown",
   "metadata": {
    "id": "T9jD_6SeJrF3"
   },
   "source": [
    "#### Find the top 40 words by frequency among all the articles after processing the text."
   ]
  },
  {
   "cell_type": "code",
   "execution_count": null,
   "metadata": {
    "scrolled": true
   },
   "outputs": [],
   "source": [
    "!pip install wordcloud"
   ]
  },
  {
   "cell_type": "code",
   "execution_count": null,
   "metadata": {
    "id": "QcfdvtfZJrF3"
   },
   "outputs": [],
   "source": [
    "#Using a word cloud find the top 40 words by frequency among all the articles after processing the text\n",
    "from wordcloud import WordCloud\n",
    "stop_words = set(stopwords.words('english'))\n",
    "wordcloud = WordCloud(stopwords=stop_words,max_words=40).generate(str(df_clean.complaint_POS_removed))\n",
    "plt.figure(figsize=(10,6))\n",
    "plt.imshow(wordcloud)\n",
    "plt.axis('off')\n",
    "plt.show()\n",
    "    "
   ]
  },
  {
   "cell_type": "code",
   "execution_count": null,
   "metadata": {
    "id": "OkSmc3UaJrF4"
   },
   "outputs": [],
   "source": [
    "#Removing -PRON- from the text corpus\n",
    "#df_clean['Complaint_clean'] = df_clean['complaint_POS_removed'].str.replace('-PRON-', '')"
   ]
  },
  {
   "cell_type": "markdown",
   "metadata": {
    "id": "5DfCSbbmJrF4"
   },
   "source": [
    "#### Find the top unigrams,bigrams and trigrams by frequency among all the complaints after processing the text."
   ]
  },
  {
   "cell_type": "markdown",
   "metadata": {
    "id": "5mbk5DS5JrF4",
    "scrolled": true
   },
   "source": [
    "#Write your code here to find the top 30 unigram frequency among the complaints in the cleaned datafram(df_clean). \n"
   ]
  },
  {
   "cell_type": "code",
   "execution_count": null,
   "metadata": {},
   "outputs": [],
   "source": [
    "# Drop null rows and ensure all complaints are strings\n",
    "df_clean = df_clean.dropna(subset=['lemmatized complaints'])\n",
    "df_clean['lemmatized complaints'] = df_clean['lemmatized complaints'].astype(str)"
   ]
  },
  {
   "cell_type": "code",
   "execution_count": null,
   "metadata": {
    "scrolled": true
   },
   "outputs": [],
   "source": [
    "\n",
    "# Tokenize and flatten the list\n",
    "tokens = df_clean['lemmatized complaints'].str.split().sum()\n",
    "\n",
    "# Count unigram frequencies\n",
    "counts = Counter(tokens)\n",
    "\n",
    "# Get the top 30 unigrams\n",
    "top_30_unigrams = counts.most_common(30)\n",
    "\n",
    "\n"
   ]
  },
  {
   "cell_type": "code",
   "execution_count": null,
   "metadata": {},
   "outputs": [],
   "source": [
    "# Display the results\n",
    "print(\"Top 30 Unigrams:\")\n",
    "for word, count in top_30_unigrams:\n",
    "    print(f\"{word}: {count}\")"
   ]
  },
  {
   "cell_type": "code",
   "execution_count": null,
   "metadata": {
    "id": "YX7fedm1JrF8"
   },
   "outputs": [],
   "source": [
    "#Print the top 10 words in the unigram frequency\n",
    "top_10_unigrams = counts.most_common(10)\n",
    "print(\"top 10 words in unigram frequency\")\n",
    "print(top_10_unigrams)"
   ]
  },
  {
   "cell_type": "code",
   "execution_count": null,
   "metadata": {
    "id": "aV7kD7w8JrF8"
   },
   "outputs": [],
   "source": [
    "#Write your code here to find the top 30 bigram frequency among the complaints in the cleaned datafram(df_clean). \n",
    "\n",
    "tokens = df_clean['lemmatized complaints'].str.split().sum()\n",
    "bigrams = list(bigrams(tokens))\n",
    "counts = Counter(bigrams)\n",
    "\n",
    "# Get the top 30 unigrams\n",
    "top_30_bigrams = counts.most_common(30)"
   ]
  },
  {
   "cell_type": "code",
   "execution_count": null,
   "metadata": {},
   "outputs": [],
   "source": [
    "# Display the results\n",
    "print(\"Top 30 bigrams:\")\n",
    "for word, count in top_30_bigrams:\n",
    "    print(f\"{word}: {count}\")"
   ]
  },
  {
   "cell_type": "code",
   "execution_count": null,
   "metadata": {
    "id": "NPnMNIpyJrF9"
   },
   "outputs": [],
   "source": [
    "#Print the top 10 words in the bigram frequency\n",
    "top_10_bigrams = counts.most_common(10)\n",
    "print(\"top 10 words in bigram frequency\")\n",
    "print(top_10_bigrams)"
   ]
  },
  {
   "cell_type": "code",
   "execution_count": null,
   "metadata": {
    "id": "Xkh7vtbtJrF-"
   },
   "outputs": [],
   "source": [
    "#Write your code here to find the top 30 trigram frequency among the complaints in the cleaned datafram(df_clean). \n",
    "\n",
    "tokens = df_clean['lemmatized complaints'].str.split().sum()\n",
    "trigrams = list(trigrams(tokens))\n",
    "counts = Counter(trigrams)\n",
    "\n",
    "# Get the top 30 unigrams\n",
    "top_30_trigrams = counts.most_common(30)"
   ]
  },
  {
   "cell_type": "code",
   "execution_count": null,
   "metadata": {},
   "outputs": [],
   "source": [
    "# Display the results\n",
    "print(\"Top 30 trigrams:\")\n",
    "for word, count in top_30_trigrams:\n",
    "    print(f\"{word}: {count}\")"
   ]
  },
  {
   "cell_type": "code",
   "execution_count": null,
   "metadata": {
    "id": "REcVxNfvJrF-"
   },
   "outputs": [],
   "source": [
    "#Print the top 10 words in the trigram frequency\n",
    "top_10_trigrams = counts.most_common(10)\n",
    "print(\"top 10 words in trigram frequency\")\n",
    "print(top_10_trigrams)"
   ]
  },
  {
   "cell_type": "markdown",
   "metadata": {
    "id": "yUXzFji0JrF_"
   },
   "source": [
    "## The personal details of customer has been masked in the dataset with xxxx. Let's remove the masked text as this will be of no use for our analysis"
   ]
  },
  {
   "cell_type": "code",
   "execution_count": 16,
   "metadata": {},
   "outputs": [],
   "source": [
    "def xremoval(document):\n",
    "    \n",
    "    # remove word containing new line\n",
    "    pattern = r\"x{4,}\"\n",
    "    document = re.sub(pattern,\"\",document)\n",
    "    \n",
    "    return document"
   ]
  },
  {
   "cell_type": "code",
   "execution_count": 17,
   "metadata": {
    "id": "wKda-a_IJrF_",
    "scrolled": true
   },
   "outputs": [],
   "source": [
    "#df_clean['Complaint_clean'] = df_clean['Complaint_clean'].str.replace('xxxx','')\n",
    "df_clean['lemmatized complaints_clean']= df_clean['lemmatized complaints'].apply(xremoval)"
   ]
  },
  {
   "cell_type": "code",
   "execution_count": 19,
   "metadata": {
    "id": "9UIFk8fQJrF_",
    "scrolled": true
   },
   "outputs": [
    {
     "data": {
      "text/html": [
       "<div>\n",
       "<style scoped>\n",
       "    .dataframe tbody tr th:only-of-type {\n",
       "        vertical-align: middle;\n",
       "    }\n",
       "\n",
       "    .dataframe tbody tr th {\n",
       "        vertical-align: top;\n",
       "    }\n",
       "\n",
       "    .dataframe thead th {\n",
       "        text-align: right;\n",
       "    }\n",
       "</style>\n",
       "<table border=\"1\" class=\"dataframe\">\n",
       "  <thead>\n",
       "    <tr style=\"text-align: right;\">\n",
       "      <th></th>\n",
       "      <th>complaints</th>\n",
       "      <th>lemmatized complaints</th>\n",
       "      <th>complaint_POS_removed</th>\n",
       "      <th>lemmatized complaints_clean</th>\n",
       "    </tr>\n",
       "  </thead>\n",
       "  <tbody>\n",
       "    <tr>\n",
       "      <th>1</th>\n",
       "      <td>Good morning my name is XXXX XXXX and I appreciate it if you could help me put a stop to Chase Bank cardmember services. \\nIn 2018 I wrote to Chase asking for debt verification and what they sent me a statement which is not acceptable. I am asking the bank to validate the debt. Instead I been receiving mail every month from them attempting to collect a debt. \\nI have a right to know this information as a consumer. \\n\\nChase account # XXXX XXXX XXXX XXXX Thanks in advance for your help.</td>\n",
       "      <td>good morning name xxxx xxxx appreciate could help put stop chase bank cardmember service write chase ask debt verification send statement acceptable ask bank validate debt instead receive mail every month attempt collect debt right know information consumer chase account xxxx xxxx xxxx xxxx thank advance help</td>\n",
       "      <td>[(morning, NN), (name, NN), (appreciate, NN), (chase, NN), (bank, NN), (cardmember, NN), (service, NN), (chase, NN), (debt, NN), (verification, NN), (statement, NN), (bank, NN), (debt, NN), (mail, NN), (month, NN), (attempt, NN), (debt, NN), (right, NN), (information, NN), (consumer, NN), (chase, NN), (account, NN), (advance, NN), (help, NN)]</td>\n",
       "      <td>good morning name   appreciate could help put stop chase bank cardmember service write chase ask debt verification send statement acceptable ask bank validate debt instead receive mail every month attempt collect debt right know information consumer chase account     thank advance help</td>\n",
       "    </tr>\n",
       "    <tr>\n",
       "      <th>2</th>\n",
       "      <td>I upgraded my XXXX XXXX card in XX/XX/2018 and was told by the agent who did the upgrade my anniversary date would not change. It turned the agent was giving me the wrong information in order to upgrade the account. XXXX   changed my anniversary date from XX/XX/XXXX to XX/XX/XXXX without my consent! XXXX has the recording of the agent who was misled me.</td>\n",
       "      <td>upgrade xxxx xxxx card xxxx tell agent upgrade anniversary date would change turn agent give wrong information order upgrade account xxxx change anniversary date xxxxxxxx xxxxxxxx without consent xxxx record agent mislead</td>\n",
       "      <td>[(card, NN), (tell, NN), (agent, NN), (date, NN), (information, NN), (order, NN), (upgrade, NN), (account, NN), (change, NN), (anniversary, NN), (date, NN), (consent, NN), (xxxx, NN), (record, NN), (agent, NN), (mislead, NN)]</td>\n",
       "      <td>upgrade   card  tell agent upgrade anniversary date would change turn agent give wrong information order upgrade account  change anniversary date   without consent  record agent mislead</td>\n",
       "    </tr>\n",
       "    <tr>\n",
       "      <th>10</th>\n",
       "      <td>Chase Card was reported on XX/XX/2019. However, fraudulent application have been submitted my identity without my consent to fraudulently obtain services. Do not extend credit without verifying the identity of the applicant.</td>\n",
       "      <td>chase card report xxxx however fraudulent application submit identity without consent fraudulently obtain service extend credit without verify identity applicant</td>\n",
       "      <td>[(card, NN), (report, NN), (application, NN), (submit, NN), (identity, NN), (consent, NN), (service, NN), (credit, NN), (identity, NN), (applicant, NN)]</td>\n",
       "      <td>chase card report  however fraudulent application submit identity without consent fraudulently obtain service extend credit without verify identity applicant</td>\n",
       "    </tr>\n",
       "    <tr>\n",
       "      <th>11</th>\n",
       "      <td>On XX/XX/2018, while trying to book a XXXX  XXXX  ticket, I came across an offer for {$300.00} to be applied towards the ticket if I applied for a rewards card. I put in my information for the offer and within less than a minute, was notified via the screen that a decision could not be made. I immediately contacted XXXX and was referred to Chase Bank. I then immediately contacted Chase bank within no more than 10minutes of getting the notification on the screen and I was told by the Chase representative I spoke with that my application was denied but she could not state why. I asked for more information about the XXXX  offer and she explained that even if I had been approved, the credit offer only gets applied after the first account statement and could not be used to purchase the ticket. I then explicitly told her I was glad I got denied and I was ABSOLUTELY no longer interested in the account. I asked that the application be withdrawn and the representative obliged. This all happened no later than 10mins after putting in the application on XX/XX/2018. Notwithstanding my explicit request not to proceed with the application and contrary to what I was told by the Chase representative, Chase did in fact go ahead to open a credit account in my name on XX/XX/2018. This is now being reported in my Credit Report and Chase has refused to correct this information on my credit report even though they went ahead to process an application which I did not consent to and out of their error.</td>\n",
       "      <td>xxxx try book xxxx xxxx ticket come across offer apply towards ticket apply reward card put information offer within less minute notify via screen decision could make immediately contact xxxx refer chase bank immediately contact chase bank within minutes get notification screen tell chase representative speak application deny could state ask information xxxx offer explain even approve credit offer get apply first account statement could use purchase ticket explicitly tell glad get deny absolutely longer interest account ask application withdraw representative oblige happen later mins put application xxxx notwithstanding explicit request proceed application contrary tell chase representative chase fact go ahead open credit account name xxxx report credit report chase refuse correct information credit report even though go ahead process application consent error</td>\n",
       "      <td>[(try, NN), (book, NN), (ticket, NN), (come, NN), (offer, NN), (apply, NN), (ticket, NN), (card, NN), (information, NN), (offer, NN), (notify, NN), (decision, NN), (refer, NN), (chase, NN), (bank, NN), (chase, NN), (bank, NN), (screen, NN), (speak, NN), (application, NN), (deny, NN), (state, NN), (information, NN), (xxxx, NN), (offer, NN), (credit, NN), (offer, NN), (account, NN), (statement, NN), (purchase, NN), (ticket, NN), (get, NN), (deny, NN), (interest, NN), (account, NN), (application, NN), (representative, NN), (oblige, NN), (application, NN), (xxxx, NN), (request, NN), (proceed, NN), (application, NN), (tell, NN), (chase, NN), (chase, NN), (fact, NN), (credit, NN), (account, NN), (name, NN), (report, NN), (credit, NN), (report, NN), (chase, NN), (information, NN), (credit, NN), (report, NN), (application, NN), (consent, NN), (error, NN)]</td>\n",
       "      <td>try book   ticket come across offer apply towards ticket apply reward card put information offer within less minute notify via screen decision could make immediately contact  refer chase bank immediately contact chase bank within minutes get notification screen tell chase representative speak application deny could state ask information  offer explain even approve credit offer get apply first account statement could use purchase ticket explicitly tell glad get deny absolutely longer interest account ask application withdraw representative oblige happen later mins put application  notwithstanding explicit request proceed application contrary tell chase representative chase fact go ahead open credit account name  report credit report chase refuse correct information credit report even though go ahead process application consent error</td>\n",
       "    </tr>\n",
       "    <tr>\n",
       "      <th>14</th>\n",
       "      <td>my grand son give me check for {$1600.00} i deposit it into my chase account after fund clear my chase bank closed my account never paid me my money they said they need to speek with my grand son check was clear money was taking by my chase bank refuse to pay me my money my grand son called chase 2 times they told him i should call not him to verify the check owner he is out the country most the time  date happen XX/XX/2018 check number XXXX claim number is XXXX with chase</td>\n",
       "      <td>grand son give check deposit chase account fund clear chase bank close account never pay money say need speek grand son check clear money take chase bank refuse pay money grand son call chase time tell call verify check owner country time date happen xxxx check number xxxx claim number xxxx chase</td>\n",
       "      <td>[(son, NN), (check, NN), (deposit, NN), (chase, NN), (account, NN), (fund, NN), (bank, NN), (account, NN), (money, NN), (son, NN), (check, NN), (money, NN), (bank, NN), (refuse, NN), (pay, NN), (money, NN), (son, NN), (call, NN), (time, NN), (check, NN), (owner, NN), (country, NN), (time, NN), (date, NN), (number, NN), (claim, NN), (number, NN), (chase, NN)]</td>\n",
       "      <td>grand son give check deposit chase account fund clear chase bank close account never pay money say need speek grand son check clear money take chase bank refuse pay money grand son call chase time tell call verify check owner country time date happen  check number  claim number  chase</td>\n",
       "    </tr>\n",
       "  </tbody>\n",
       "</table>\n",
       "</div>"
      ],
      "text/plain": [
       "                                                                                                                                                                                                                                                                                                                                                                                                                                                                                                                                                                                                                                                                                                                                                                                                                                                                                                                                                                                                                                                                                                                                                                                                                                                                                                                                                                                                                                                                                                                                                        complaints  \\\n",
       "1                                                                                                                                                                                                                                                                                                                                                                                                                                                                                                                                                                                                                                                                                                                                                                                                                                                                                                                                                                                                                                                       Good morning my name is XXXX XXXX and I appreciate it if you could help me put a stop to Chase Bank cardmember services. \\nIn 2018 I wrote to Chase asking for debt verification and what they sent me a statement which is not acceptable. I am asking the bank to validate the debt. Instead I been receiving mail every month from them attempting to collect a debt. \\nI have a right to know this information as a consumer. \\n\\nChase account # XXXX XXXX XXXX XXXX Thanks in advance for your help.   \n",
       "2                                                                                                                                                                                                                                                                                                                                                                                                                                                                                                                                                                                                                                                                                                                                                                                                                                                                                                                                                                                                                                                                                                                                                                                              I upgraded my XXXX XXXX card in XX/XX/2018 and was told by the agent who did the upgrade my anniversary date would not change. It turned the agent was giving me the wrong information in order to upgrade the account. XXXX   changed my anniversary date from XX/XX/XXXX to XX/XX/XXXX without my consent! XXXX has the recording of the agent who was misled me.   \n",
       "10                                                                                                                                                                                                                                                                                                                                                                                                                                                                                                                                                                                                                                                                                                                                                                                                                                                                                                                                                                                                                                                                                                                                                                                                                                                                                                                                Chase Card was reported on XX/XX/2019. However, fraudulent application have been submitted my identity without my consent to fraudulently obtain services. Do not extend credit without verifying the identity of the applicant.   \n",
       "11  On XX/XX/2018, while trying to book a XXXX  XXXX  ticket, I came across an offer for {$300.00} to be applied towards the ticket if I applied for a rewards card. I put in my information for the offer and within less than a minute, was notified via the screen that a decision could not be made. I immediately contacted XXXX and was referred to Chase Bank. I then immediately contacted Chase bank within no more than 10minutes of getting the notification on the screen and I was told by the Chase representative I spoke with that my application was denied but she could not state why. I asked for more information about the XXXX  offer and she explained that even if I had been approved, the credit offer only gets applied after the first account statement and could not be used to purchase the ticket. I then explicitly told her I was glad I got denied and I was ABSOLUTELY no longer interested in the account. I asked that the application be withdrawn and the representative obliged. This all happened no later than 10mins after putting in the application on XX/XX/2018. Notwithstanding my explicit request not to proceed with the application and contrary to what I was told by the Chase representative, Chase did in fact go ahead to open a credit account in my name on XX/XX/2018. This is now being reported in my Credit Report and Chase has refused to correct this information on my credit report even though they went ahead to process an application which I did not consent to and out of their error.   \n",
       "14                                                                                                                                                                                                                                                                                                                                                                                                                                                                                                                                                                                                                                                                                                                                                                                                                                                                                                                                                                                                                                                                   my grand son give me check for {$1600.00} i deposit it into my chase account after fund clear my chase bank closed my account never paid me my money they said they need to speek with my grand son check was clear money was taking by my chase bank refuse to pay me my money my grand son called chase 2 times they told him i should call not him to verify the check owner he is out the country most the time  date happen XX/XX/2018 check number XXXX claim number is XXXX with chase   \n",
       "\n",
       "                                                                                                                                                                                                                                                                                                                                                                                                                                                                                                                                                                                                                                                                                                                                                                                                                                                                                       lemmatized complaints  \\\n",
       "1                                                                                                                                                                                                                                                                                                                                                                                                                                                                                                                                                                                     good morning name xxxx xxxx appreciate could help put stop chase bank cardmember service write chase ask debt verification send statement acceptable ask bank validate debt instead receive mail every month attempt collect debt right know information consumer chase account xxxx xxxx xxxx xxxx thank advance help   \n",
       "2                                                                                                                                                                                                                                                                                                                                                                                                                                                                                                                                                                                                                                                                              upgrade xxxx xxxx card xxxx tell agent upgrade anniversary date would change turn agent give wrong information order upgrade account xxxx change anniversary date xxxxxxxx xxxxxxxx without consent xxxx record agent mislead   \n",
       "10                                                                                                                                                                                                                                                                                                                                                                                                                                                                                                                                                                                                                                                                                                                                         chase card report xxxx however fraudulent application submit identity without consent fraudulently obtain service extend credit without verify identity applicant   \n",
       "11  xxxx try book xxxx xxxx ticket come across offer apply towards ticket apply reward card put information offer within less minute notify via screen decision could make immediately contact xxxx refer chase bank immediately contact chase bank within minutes get notification screen tell chase representative speak application deny could state ask information xxxx offer explain even approve credit offer get apply first account statement could use purchase ticket explicitly tell glad get deny absolutely longer interest account ask application withdraw representative oblige happen later mins put application xxxx notwithstanding explicit request proceed application contrary tell chase representative chase fact go ahead open credit account name xxxx report credit report chase refuse correct information credit report even though go ahead process application consent error   \n",
       "14                                                                                                                                                                                                                                                                                                                                                                                                                                                                                                                                                                                                 grand son give check deposit chase account fund clear chase bank close account never pay money say need speek grand son check clear money take chase bank refuse pay money grand son call chase time tell call verify check owner country time date happen xxxx check number xxxx claim number xxxx chase   \n",
       "\n",
       "                                                                                                                                                                                                                                                                                                                                                                                                                                                                                                                                                                                                                                                                                                                                                                                                                                                                          complaint_POS_removed  \\\n",
       "1                                                                                                                                                                                                                                                                                                                                                                                                                                                                                                                                      [(morning, NN), (name, NN), (appreciate, NN), (chase, NN), (bank, NN), (cardmember, NN), (service, NN), (chase, NN), (debt, NN), (verification, NN), (statement, NN), (bank, NN), (debt, NN), (mail, NN), (month, NN), (attempt, NN), (debt, NN), (right, NN), (information, NN), (consumer, NN), (chase, NN), (account, NN), (advance, NN), (help, NN)]   \n",
       "2                                                                                                                                                                                                                                                                                                                                                                                                                                                                                                                                                                                                                                                             [(card, NN), (tell, NN), (agent, NN), (date, NN), (information, NN), (order, NN), (upgrade, NN), (account, NN), (change, NN), (anniversary, NN), (date, NN), (consent, NN), (xxxx, NN), (record, NN), (agent, NN), (mislead, NN)]   \n",
       "10                                                                                                                                                                                                                                                                                                                                                                                                                                                                                                                                                                                                                                                                                                                                     [(card, NN), (report, NN), (application, NN), (submit, NN), (identity, NN), (consent, NN), (service, NN), (credit, NN), (identity, NN), (applicant, NN)]   \n",
       "11  [(try, NN), (book, NN), (ticket, NN), (come, NN), (offer, NN), (apply, NN), (ticket, NN), (card, NN), (information, NN), (offer, NN), (notify, NN), (decision, NN), (refer, NN), (chase, NN), (bank, NN), (chase, NN), (bank, NN), (screen, NN), (speak, NN), (application, NN), (deny, NN), (state, NN), (information, NN), (xxxx, NN), (offer, NN), (credit, NN), (offer, NN), (account, NN), (statement, NN), (purchase, NN), (ticket, NN), (get, NN), (deny, NN), (interest, NN), (account, NN), (application, NN), (representative, NN), (oblige, NN), (application, NN), (xxxx, NN), (request, NN), (proceed, NN), (application, NN), (tell, NN), (chase, NN), (chase, NN), (fact, NN), (credit, NN), (account, NN), (name, NN), (report, NN), (credit, NN), (report, NN), (chase, NN), (information, NN), (credit, NN), (report, NN), (application, NN), (consent, NN), (error, NN)]   \n",
       "14                                                                                                                                                                                                                                                                                                                                                                                                                                                                                                                     [(son, NN), (check, NN), (deposit, NN), (chase, NN), (account, NN), (fund, NN), (bank, NN), (account, NN), (money, NN), (son, NN), (check, NN), (money, NN), (bank, NN), (refuse, NN), (pay, NN), (money, NN), (son, NN), (call, NN), (time, NN), (check, NN), (owner, NN), (country, NN), (time, NN), (date, NN), (number, NN), (claim, NN), (number, NN), (chase, NN)]   \n",
       "\n",
       "                                                                                                                                                                                                                                                                                                                                                                                                                                                                                                                                                                                                                                                                                                                                                                                                                                                     lemmatized complaints_clean  \n",
       "1                                                                                                                                                                                                                                                                                                                                                                                                                                                                                                                                                                                 good morning name   appreciate could help put stop chase bank cardmember service write chase ask debt verification send statement acceptable ask bank validate debt instead receive mail every month attempt collect debt right know information consumer chase account     thank advance help  \n",
       "2                                                                                                                                                                                                                                                                                                                                                                                                                                                                                                                                                                                                                                                                                      upgrade   card  tell agent upgrade anniversary date would change turn agent give wrong information order upgrade account  change anniversary date   without consent  record agent mislead  \n",
       "10                                                                                                                                                                                                                                                                                                                                                                                                                                                                                                                                                                                                                                                                                                                 chase card report  however fraudulent application submit identity without consent fraudulently obtain service extend credit without verify identity applicant  \n",
       "11   try book   ticket come across offer apply towards ticket apply reward card put information offer within less minute notify via screen decision could make immediately contact  refer chase bank immediately contact chase bank within minutes get notification screen tell chase representative speak application deny could state ask information  offer explain even approve credit offer get apply first account statement could use purchase ticket explicitly tell glad get deny absolutely longer interest account ask application withdraw representative oblige happen later mins put application  notwithstanding explicit request proceed application contrary tell chase representative chase fact go ahead open credit account name  report credit report chase refuse correct information credit report even though go ahead process application consent error  \n",
       "14                                                                                                                                                                                                                                                                                                                                                                                                                                                                                                                                                                                 grand son give check deposit chase account fund clear chase bank close account never pay money say need speek grand son check clear money take chase bank refuse pay money grand son call chase time tell call verify check owner country time date happen  check number  claim number  chase  "
      ]
     },
     "execution_count": 19,
     "metadata": {},
     "output_type": "execute_result"
    }
   ],
   "source": [
    "#All masked texts has been removed\n",
    "df_clean.head()"
   ]
  },
  {
   "cell_type": "markdown",
   "metadata": {
    "id": "k-I0k0QtJrGA"
   },
   "source": [
    "## Feature Extraction\n",
    "Convert the raw texts to a matrix of TF-IDF features\n",
    "\n",
    "**max_df** is used for removing terms that appear too frequently, also known as \"corpus-specific stop words\"\n",
    "max_df = 0.95 means \"ignore terms that appear in more than 95% of the complaints\"\n",
    "\n",
    "**min_df** is used for removing terms that appear too infrequently\n",
    "min_df = 2 means \"ignore terms that appear in less than 2 complaints\""
   ]
  },
  {
   "cell_type": "code",
   "execution_count": 20,
   "metadata": {
    "id": "Y8fGwaCPJrGA"
   },
   "outputs": [],
   "source": [
    "#Write your code here to initialise the TfidfVectorizer \n",
    "vectorizer = TfidfVectorizer(max_df=0.95, min_df=2, stop_words='english')\n"
   ]
  },
  {
   "cell_type": "markdown",
   "metadata": {
    "id": "yYzD85nTJrGA"
   },
   "source": [
    "#### Create a document term matrix using fit_transform\n",
    "\n",
    "The contents of a document term matrix are tuples of (complaint_id,token_id) tf-idf score:\n",
    "The tuples that are not there have a tf-idf score of 0"
   ]
  },
  {
   "cell_type": "code",
   "execution_count": 22,
   "metadata": {
    "id": "ffzdDpp_JrGB",
    "scrolled": true
   },
   "outputs": [],
   "source": [
    "#Write your code here to create the Document Term Matrix by transforming the complaints column present in df_clean.\n",
    "dtm = vectorizer.fit_transform(df_clean['lemmatized complaints_clean'])\n"
   ]
  },
  {
   "cell_type": "markdown",
   "metadata": {
    "id": "7Q9lwvNEJrGB"
   },
   "source": [
    "## Topic Modelling using NMF\n",
    "\n",
    "Non-Negative Matrix Factorization (NMF) is an unsupervised technique so there are no labeling of topics that the model will be trained on. The way it works is that, NMF decomposes (or factorizes) high-dimensional vectors into a lower-dimensional representation. These lower-dimensional vectors are non-negative which also means their coefficients are non-negative.\n",
    "\n",
    "In this task you have to perform the following:\n",
    "\n",
    "* Find the best number of clusters \n",
    "* Apply the best number to create word clusters\n",
    "* Inspect & validate the correction of each cluster wrt the complaints \n",
    "* Correct the labels if needed \n",
    "* Map the clusters to topics/cluster names"
   ]
  },
  {
   "cell_type": "code",
   "execution_count": 23,
   "metadata": {
    "id": "amLT4omWJrGB"
   },
   "outputs": [],
   "source": [
    "from sklearn.decomposition import NMF"
   ]
  },
  {
   "cell_type": "markdown",
   "metadata": {
    "id": "0wYR1xUTJrGD"
   },
   "source": [
    "## Manual Topic Modeling\n",
    "You need to do take the trial & error approach to find the best num of topics for your NMF model.\n",
    "\n",
    "The only parameter that is required is the number of components i.e. the number of topics we want. This is the most crucial step in the whole topic modeling process and will greatly affect how good your final topics are."
   ]
  },
  {
   "cell_type": "code",
   "execution_count": null,
   "metadata": {
    "id": "sgd2A6bhJrGD"
   },
   "outputs": [],
   "source": [
    "#Load your nmf_model with the n_components i.e 5\n",
    "#Case1"
   ]
  },
  {
   "cell_type": "code",
   "execution_count": null,
   "metadata": {},
   "outputs": [],
   "source": [
    "num_topics = 15 #write the value you want to test out\n",
    "\n",
    "#keep the random_state =40\n",
    "nmf_model = NMF(n_components=num_topics,max_iter=1000,random_state=40)\n",
    "W=nmf_model.fit_transform(dtm)\n",
    "H=nmf_model.components_\n",
    "#write your code here\n",
    "df_clean.shape"
   ]
  },
  {
   "cell_type": "code",
   "execution_count": null,
   "metadata": {},
   "outputs": [],
   "source": [
    "# Top 15 words per topic\n",
    "\n",
    "words = np.array(vectorizer.get_feature_names_out())\n",
    "topic_words = pd.DataFrame(np.zeros((num_topics, 15)), index=[f'Topic {i + 1}' for i in range(num_topics)],\n",
    "                           columns=[f'Word {i + 1}' for i in range(15)]).astype(str)\n",
    "for i in range(num_topics):\n",
    "    ix = H[i].argsort()[::-1][:15]\n",
    "    topic_words.iloc[i] = words[ix]\n",
    "\n",
    "topic_words\n",
    "df_clean.shape"
   ]
  },
  {
   "cell_type": "code",
   "execution_count": null,
   "metadata": {},
   "outputs": [],
   "source": [
    "#Case2\n",
    "num_topics = 10 #write the value you want to test out\n",
    "\n",
    "#keep the random_state =40\n",
    "nmf_model = NMF(n_components=num_topics,max_iter=1000,random_state=40)\n",
    "W=nmf_model.fit_transform(dtm)\n",
    "H=nmf_model.components_\n",
    "#write your code here\n",
    "df_clean.shape"
   ]
  },
  {
   "cell_type": "code",
   "execution_count": null,
   "metadata": {},
   "outputs": [],
   "source": [
    "# Top 15 words per topic\n",
    "\n",
    "words = np.array(vectorizer.get_feature_names_out())\n",
    "topic_words = pd.DataFrame(np.zeros((num_topics, 15)), index=[f'Topic {i + 1}' for i in range(num_topics)],\n",
    "                           columns=[f'Word {i + 1}' for i in range(15)]).astype(str)\n",
    "for i in range(num_topics):\n",
    "    ix = H[i].argsort()[::-1][:15]\n",
    "    topic_words.iloc[i] = words[ix]\n",
    "\n",
    "topic_words\n"
   ]
  },
  {
   "cell_type": "code",
   "execution_count": 41,
   "metadata": {},
   "outputs": [
    {
     "data": {
      "text/plain": [
       "12195"
      ]
     },
     "execution_count": 41,
     "metadata": {},
     "output_type": "execute_result"
    }
   ],
   "source": [
    "#Case3\n",
    "num_topics = 5 #write the value you want to test out\n",
    "\n",
    "#keep the random_state =40\n",
    "nmf_model = NMF(n_components=num_topics,max_iter=1000,random_state=40)\n",
    "W=nmf_model.fit_transform(dtm)\n",
    "H=nmf_model.components_\n",
    "len(vectorizer.get_feature_names_out())\n"
   ]
  },
  {
   "cell_type": "code",
   "execution_count": 42,
   "metadata": {
    "id": "16kRfat5JrGE"
   },
   "outputs": [
    {
     "data": {
      "text/html": [
       "<div>\n",
       "<style scoped>\n",
       "    .dataframe tbody tr th:only-of-type {\n",
       "        vertical-align: middle;\n",
       "    }\n",
       "\n",
       "    .dataframe tbody tr th {\n",
       "        vertical-align: top;\n",
       "    }\n",
       "\n",
       "    .dataframe thead th {\n",
       "        text-align: right;\n",
       "    }\n",
       "</style>\n",
       "<table border=\"1\" class=\"dataframe\">\n",
       "  <thead>\n",
       "    <tr style=\"text-align: right;\">\n",
       "      <th></th>\n",
       "      <th>Topic 1</th>\n",
       "      <th>Topic 2</th>\n",
       "      <th>Topic 3</th>\n",
       "      <th>Topic 4</th>\n",
       "      <th>Topic 5</th>\n",
       "    </tr>\n",
       "  </thead>\n",
       "  <tbody>\n",
       "    <tr>\n",
       "      <th>Word 1</th>\n",
       "      <td>account</td>\n",
       "      <td>credit</td>\n",
       "      <td>loan</td>\n",
       "      <td>charge</td>\n",
       "      <td>payment</td>\n",
       "    </tr>\n",
       "    <tr>\n",
       "      <th>Word 2</th>\n",
       "      <td>check</td>\n",
       "      <td>report</td>\n",
       "      <td>mortgage</td>\n",
       "      <td>card</td>\n",
       "      <td>late</td>\n",
       "    </tr>\n",
       "    <tr>\n",
       "      <th>Word 3</th>\n",
       "      <td>bank</td>\n",
       "      <td>card</td>\n",
       "      <td>chase</td>\n",
       "      <td>chase</td>\n",
       "      <td>pay</td>\n",
       "    </tr>\n",
       "    <tr>\n",
       "      <th>Word 4</th>\n",
       "      <td>chase</td>\n",
       "      <td>inquiry</td>\n",
       "      <td>home</td>\n",
       "      <td>dispute</td>\n",
       "      <td>payments</td>\n",
       "    </tr>\n",
       "    <tr>\n",
       "      <th>Word 5</th>\n",
       "      <td>deposit</td>\n",
       "      <td>chase</td>\n",
       "      <td>modification</td>\n",
       "      <td>purchase</td>\n",
       "      <td>fee</td>\n",
       "    </tr>\n",
       "    <tr>\n",
       "      <th>Word 6</th>\n",
       "      <td>money</td>\n",
       "      <td>account</td>\n",
       "      <td>property</td>\n",
       "      <td>claim</td>\n",
       "      <td>balance</td>\n",
       "    </tr>\n",
       "    <tr>\n",
       "      <th>Word 7</th>\n",
       "      <td>close</td>\n",
       "      <td>remove</td>\n",
       "      <td>send</td>\n",
       "      <td>refund</td>\n",
       "      <td>make</td>\n",
       "    </tr>\n",
       "    <tr>\n",
       "      <th>Word 8</th>\n",
       "      <td>fund</td>\n",
       "      <td>inquiries</td>\n",
       "      <td>letter</td>\n",
       "      <td>receive</td>\n",
       "      <td>month</td>\n",
       "    </tr>\n",
       "    <tr>\n",
       "      <th>Word 9</th>\n",
       "      <td>tell</td>\n",
       "      <td>hard</td>\n",
       "      <td>request</td>\n",
       "      <td>merchant</td>\n",
       "      <td>statement</td>\n",
       "    </tr>\n",
       "    <tr>\n",
       "      <th>Word 10</th>\n",
       "      <td>open</td>\n",
       "      <td>apply</td>\n",
       "      <td>time</td>\n",
       "      <td>fraud</td>\n",
       "      <td>account</td>\n",
       "    </tr>\n",
       "    <tr>\n",
       "      <th>Word 11</th>\n",
       "      <td>branch</td>\n",
       "      <td>score</td>\n",
       "      <td>document</td>\n",
       "      <td>transaction</td>\n",
       "      <td>monthly</td>\n",
       "    </tr>\n",
       "    <tr>\n",
       "      <th>Word 12</th>\n",
       "      <td>say</td>\n",
       "      <td>company</td>\n",
       "      <td>bank</td>\n",
       "      <td>tell</td>\n",
       "      <td>time</td>\n",
       "    </tr>\n",
       "    <tr>\n",
       "      <th>Word 13</th>\n",
       "      <td>transfer</td>\n",
       "      <td>close</td>\n",
       "      <td>foreclosure</td>\n",
       "      <td>say</td>\n",
       "      <td>minimum</td>\n",
       "    </tr>\n",
       "    <tr>\n",
       "      <th>Word 14</th>\n",
       "      <td>business</td>\n",
       "      <td>open</td>\n",
       "      <td>house</td>\n",
       "      <td>use</td>\n",
       "      <td>auto</td>\n",
       "    </tr>\n",
       "    <tr>\n",
       "      <th>Word 15</th>\n",
       "      <td>number</td>\n",
       "      <td>debt</td>\n",
       "      <td>payments</td>\n",
       "      <td>service</td>\n",
       "      <td>date</td>\n",
       "    </tr>\n",
       "  </tbody>\n",
       "</table>\n",
       "</div>"
      ],
      "text/plain": [
       "          Topic 1    Topic 2       Topic 3      Topic 4    Topic 5\n",
       "Word 1    account     credit          loan       charge    payment\n",
       "Word 2      check     report      mortgage         card       late\n",
       "Word 3       bank       card         chase        chase        pay\n",
       "Word 4      chase    inquiry          home      dispute   payments\n",
       "Word 5    deposit      chase  modification     purchase        fee\n",
       "Word 6      money    account      property        claim    balance\n",
       "Word 7      close     remove          send       refund       make\n",
       "Word 8       fund  inquiries        letter      receive      month\n",
       "Word 9       tell       hard       request     merchant  statement\n",
       "Word 10      open      apply          time        fraud    account\n",
       "Word 11    branch      score      document  transaction    monthly\n",
       "Word 12       say    company          bank         tell       time\n",
       "Word 13  transfer      close   foreclosure          say    minimum\n",
       "Word 14  business       open         house          use       auto\n",
       "Word 15    number       debt      payments      service       date"
      ]
     },
     "execution_count": 42,
     "metadata": {},
     "output_type": "execute_result"
    }
   ],
   "source": [
    "#Print the Top15 words for each of the topics\n",
    "words = np.array(vectorizer.get_feature_names_out())\n",
    "topic_words = pd.DataFrame(np.zeros((num_topics, 15)), index=[f'Topic {i + 1}' for i in range(num_topics)],\n",
    "                           columns=[f'Word {i + 1}' for i in range(15)]).astype(str)\n",
    "for i in range(num_topics):\n",
    "    ix = H[i].argsort()[::-1][:15]\n",
    "    topic_words.iloc[i] = words[ix]\n",
    "\n",
    "topic_words.T"
   ]
  },
  {
   "cell_type": "code",
   "execution_count": 43,
   "metadata": {
    "id": "0OIT7LmFJrGF"
   },
   "outputs": [],
   "source": [
    "#Create the best topic for each complaint in terms of integer value 0,1,2,3 & 4\n",
    "\n",
    "best_topics=W.argmax(axis=1)\n",
    "\n"
   ]
  },
  {
   "cell_type": "code",
   "execution_count": 44,
   "metadata": {
    "id": "peyYv-ORJrGF"
   },
   "outputs": [],
   "source": [
    "#Assign the best topic to each of the cmplaints in Topic Column\n",
    "df_clean['Topic'] =W.argmax(axis=1) #write your code to assign topics to each rows."
   ]
  },
  {
   "cell_type": "code",
   "execution_count": 45,
   "metadata": {
    "id": "aQKpufSPJrGG",
    "scrolled": true
   },
   "outputs": [
    {
     "data": {
      "text/html": [
       "<div>\n",
       "<style scoped>\n",
       "    .dataframe tbody tr th:only-of-type {\n",
       "        vertical-align: middle;\n",
       "    }\n",
       "\n",
       "    .dataframe tbody tr th {\n",
       "        vertical-align: top;\n",
       "    }\n",
       "\n",
       "    .dataframe thead th {\n",
       "        text-align: right;\n",
       "    }\n",
       "</style>\n",
       "<table border=\"1\" class=\"dataframe\">\n",
       "  <thead>\n",
       "    <tr style=\"text-align: right;\">\n",
       "      <th></th>\n",
       "      <th>complaints</th>\n",
       "      <th>lemmatized complaints</th>\n",
       "      <th>complaint_POS_removed</th>\n",
       "      <th>lemmatized complaints_clean</th>\n",
       "      <th>Topic</th>\n",
       "    </tr>\n",
       "  </thead>\n",
       "  <tbody>\n",
       "    <tr>\n",
       "      <th>27</th>\n",
       "      <td>I opened an account with chase bank on XXXX and used a code for XXXX bonus. I called to follow up on XX/XX/XXXX about the terms and was told everything was on the account and once I made XXXX direct deposit the bonus would be paid out in 10 days. As of XXXX I had made the required deposits and was told my account never had the coupon code applied and it was past the 21 days to do so, so no bonus would be paid.</td>\n",
       "      <td>open account chase bank xxxx use code xxxx bonus call follow xxxxxxxx term tell everything account make xxxx direct deposit bonus would pay days xxxx make require deposit tell account never coupon code apply past days bonus would pay</td>\n",
       "      <td>[(account, NN), (bank, NN), (xxxx, NN), (use, NN), (code, NN), (bonus, NN), (call, NN), (term, NN), (tell, NN), (everything, NN), (account, NN), (xxxx, NN), (deposit, NN), (bonus, NN), (deposit, NN), (tell, NN), (account, NN), (coupon, NN), (code, NN), (bonus, NN)]</td>\n",
       "      <td>open account chase bank  use code  bonus call follow  term tell everything account make  direct deposit bonus would pay days  make require deposit tell account never coupon code apply past days bonus would pay</td>\n",
       "      <td>0</td>\n",
       "    </tr>\n",
       "    <tr>\n",
       "      <th>14</th>\n",
       "      <td>my grand son give me check for {$1600.00} i deposit it into my chase account after fund clear my chase bank closed my account never paid me my money they said they need to speek with my grand son check was clear money was taking by my chase bank refuse to pay me my money my grand son called chase 2 times they told him i should call not him to verify the check owner he is out the country most the time  date happen XX/XX/2018 check number XXXX claim number is XXXX with chase</td>\n",
       "      <td>grand son give check deposit chase account fund clear chase bank close account never pay money say need speek grand son check clear money take chase bank refuse pay money grand son call chase time tell call verify check owner country time date happen xxxx check number xxxx claim number xxxx chase</td>\n",
       "      <td>[(son, NN), (check, NN), (deposit, NN), (chase, NN), (account, NN), (fund, NN), (bank, NN), (account, NN), (money, NN), (son, NN), (check, NN), (money, NN), (bank, NN), (refuse, NN), (pay, NN), (money, NN), (son, NN), (call, NN), (time, NN), (check, NN), (owner, NN), (country, NN), (time, NN), (date, NN), (number, NN), (claim, NN), (number, NN), (chase, NN)]</td>\n",
       "      <td>grand son give check deposit chase account fund clear chase bank close account never pay money say need speek grand son check clear money take chase bank refuse pay money grand son call chase time tell call verify check owner country time date happen  check number  claim number  chase</td>\n",
       "      <td>0</td>\n",
       "    </tr>\n",
       "    <tr>\n",
       "      <th>17</th>\n",
       "      <td>With out notice J.P. Morgan Chase restricted my account by my debit card Tuesday XX/XX/2019. On Thursday XX/XX/2019 I went into A branch after being advised by a customer service representative that my account would actually be closed. I went into the branch to see how I can remove the funds that are in there currently in as well as if my direct deposit from my place of employment would be returned. The bank associate and the customer service representative assured me that the funds would Post but they may take an additional business day. That Saturday I attempted to go inside of a branch yet again to retrieve my funds that actually did post on Friday, XX/XX/2019. Upon looking at my account I realize that the funds have been reversed and no longer were present on my current statement. Ive been called and I was told that it may take two business day stating Tuesday, XX/XX/XXXX would be the date that my funds would be available to withdraw from a bank teller only. Now, Chase is informing me that I will be mailed a check into the three business days to recover the funds that are owed to me and left in my account currently. Unfortunately, This has put me in an additional financial bind do two fees from late rent late car payments, etc. I am not being a short or giving written notice that these things will actually occur so that I have peace of mind in fact Chase has handled my situation grossly I even had a bank teller inform me that my account looks suspicious after giving me a suspicious look myself. Although I know that Chase reserves the right to close my account at any time I do believe that their protocol has been in the past to give notice in the form of a written document. I am not being a shored or giving written notice that these things will actually occur so that I have peace of mind in fact Chase has handled my situation grossly I even had a bank teller inform me that my account looks suspicious after giving me a suspicious look myself. Although I know that Chase reserves the right to close my account at any time I do believe that their protocol has been in the past to give notice in the form of a written document. This situation is truly affecting my livelihood and they dont seem to want to deal with Me professionally. Thank you</td>\n",
       "      <td>notice jp morgan chase restrict account debit card tuesday xxxx thursday xxxx go branch advise customer service representative account would actually close go branch see remove fund currently well direct deposit place employment would return bank associate customer service representative assure fund would post may take additional business day saturday attempt go inside branch yet retrieve fund actually post friday xxxx upon look account realize fund reverse longer present current statement ive call tell may take two business day state tuesday xxxxxxxx would date fund would available withdraw bank teller chase inform mail check three business days recover fund owe leave account currently unfortunately put additional financial bind two fee late rent late car payments etc short give write notice things actually occur peace mind fact chase handle situation grossly even bank teller inform account look suspicious give suspicious look although know chase reserve right close account time believe protocol past give notice form write document shore give write notice things actually occur peace mind fact chase handle situation grossly even bank teller inform account look suspicious give suspicious look although know chase reserve right close account time believe protocol past give notice form write document situation truly affect livelihood dont seem want deal professionally thank</td>\n",
       "      <td>[(jp, NN), (restrict, NN), (account, NN), (debit, NN), (card, NN), (tuesday, NN), (thursday, NN), (branch, NN), (customer, NN), (service, NN), (account, NN), (branch, NN), (fund, NN), (deposit, NN), (place, NN), (employment, NN), (bank, NN), (customer, NN), (service, NN), (assure, NN), (fund, NN), (business, NN), (day, NN), (attempt, NN), (branch, NN), (fund, NN), (look, NN), (fund, NN), (reverse, NN), (statement, NN), (call, NN), (tell, NN), (business, NN), (day, NN), (state, NN), (tuesday, NN), (date, NN), (fund, NN), (bank, NN), (teller, NN), (chase, NN), (mail, NN), (check, NN), (business, NN), (fund, NN), (owe, NN), (account, NN), (bind, NN), (fee, NN), (rent, NN), (car, NN), (peace, NN), (mind, NN), (fact, NN), (situation, NN), (bank, NN), (teller, NN), (inform, NN), (account, NN), (look, NN), (time, NN), (protocol, NN), (notice, NN), (form, NN), (document, NN), (notice, NN), (peace, NN), (mind, NN), (fact, NN), (situation, NN), (bank, NN), (teller, NN), (inform, NN), (account, NN), (look, NN), (time, NN), (protocol, NN), (notice, NN), (form, NN), (document, NN), (situation, NN), (livelihood, NN), (dont, NN), (deal, NN)]</td>\n",
       "      <td>notice jp morgan chase restrict account debit card tuesday  thursday  go branch advise customer service representative account would actually close go branch see remove fund currently well direct deposit place employment would return bank associate customer service representative assure fund would post may take additional business day saturday attempt go inside branch yet retrieve fund actually post friday  upon look account realize fund reverse longer present current statement ive call tell may take two business day state tuesday  would date fund would available withdraw bank teller chase inform mail check three business days recover fund owe leave account currently unfortunately put additional financial bind two fee late rent late car payments etc short give write notice things actually occur peace mind fact chase handle situation grossly even bank teller inform account look suspicious give suspicious look although know chase reserve right close account time believe protocol past give notice form write document shore give write notice things actually occur peace mind fact chase handle situation grossly even bank teller inform account look suspicious give suspicious look although know chase reserve right close account time believe protocol past give notice form write document situation truly affect livelihood dont seem want deal professionally thank</td>\n",
       "      <td>0</td>\n",
       "    </tr>\n",
       "    <tr>\n",
       "      <th>24</th>\n",
       "      <td>mishandling of this account by Chase auto and XXXX.</td>\n",
       "      <td>mishandle account chase auto xxxx</td>\n",
       "      <td>[(account, NN), (auto, NN), (xxxx, NN)]</td>\n",
       "      <td>mishandle account chase auto</td>\n",
       "      <td>0</td>\n",
       "    </tr>\n",
       "    <tr>\n",
       "      <th>35</th>\n",
       "      <td>I opened the saving account for the {$25.00} bonus. I was supposed to received the {$25.00} bonus after 3 consecutive auto transfers from checking to savings. I notice on XX/XX/2019 that automatic transfer was cancelled for not enough funds into my checking 's account. Therefore, I put enough funds in my account on XX/XX/2019 requested that the executive team reactivate my automatic transfer for the month of XXXX. Although Ms. XXXX reached out to me from the executive office, she failed to try to resolve my concerns ( case # XXXX ).</td>\n",
       "      <td>open save account bonus suppose receive bonus consecutive auto transfer check save notice xxxx automatic transfer cancel enough fund check account therefore put enough fund account xxxx request executive team reactivate automatic transfer month xxxx although ms xxxx reach executive office fail try resolve concern case xxxx</td>\n",
       "      <td>[(save, NN), (account, NN), (bonus, NN), (bonus, NN), (auto, NN), (transfer, NN), (check, NN), (notice, NN), (transfer, NN), (cancel, NN), (fund, NN), (check, NN), (account, NN), (fund, NN), (account, NN), (request, NN), (executive, NN), (team, NN), (transfer, NN), (month, NN), (executive, NN), (office, NN), (try, NN), (resolve, NN), (concern, NN), (case, NN), (xxxx, NN)]</td>\n",
       "      <td>open save account bonus suppose receive bonus consecutive auto transfer check save notice  automatic transfer cancel enough fund check account therefore put enough fund account  request executive team reactivate automatic transfer month  although ms  reach executive office fail try resolve concern case</td>\n",
       "      <td>0</td>\n",
       "    </tr>\n",
       "    <tr>\n",
       "      <th>10</th>\n",
       "      <td>Chase Card was reported on XX/XX/2019. However, fraudulent application have been submitted my identity without my consent to fraudulently obtain services. Do not extend credit without verifying the identity of the applicant.</td>\n",
       "      <td>chase card report xxxx however fraudulent application submit identity without consent fraudulently obtain service extend credit without verify identity applicant</td>\n",
       "      <td>[(card, NN), (report, NN), (application, NN), (submit, NN), (identity, NN), (consent, NN), (service, NN), (credit, NN), (identity, NN), (applicant, NN)]</td>\n",
       "      <td>chase card report  however fraudulent application submit identity without consent fraudulently obtain service extend credit without verify identity applicant</td>\n",
       "      <td>1</td>\n",
       "    </tr>\n",
       "    <tr>\n",
       "      <th>11</th>\n",
       "      <td>On XX/XX/2018, while trying to book a XXXX  XXXX  ticket, I came across an offer for {$300.00} to be applied towards the ticket if I applied for a rewards card. I put in my information for the offer and within less than a minute, was notified via the screen that a decision could not be made. I immediately contacted XXXX and was referred to Chase Bank. I then immediately contacted Chase bank within no more than 10minutes of getting the notification on the screen and I was told by the Chase representative I spoke with that my application was denied but she could not state why. I asked for more information about the XXXX  offer and she explained that even if I had been approved, the credit offer only gets applied after the first account statement and could not be used to purchase the ticket. I then explicitly told her I was glad I got denied and I was ABSOLUTELY no longer interested in the account. I asked that the application be withdrawn and the representative obliged. This all happened no later than 10mins after putting in the application on XX/XX/2018. Notwithstanding my explicit request not to proceed with the application and contrary to what I was told by the Chase representative, Chase did in fact go ahead to open a credit account in my name on XX/XX/2018. This is now being reported in my Credit Report and Chase has refused to correct this information on my credit report even though they went ahead to process an application which I did not consent to and out of their error.</td>\n",
       "      <td>xxxx try book xxxx xxxx ticket come across offer apply towards ticket apply reward card put information offer within less minute notify via screen decision could make immediately contact xxxx refer chase bank immediately contact chase bank within minutes get notification screen tell chase representative speak application deny could state ask information xxxx offer explain even approve credit offer get apply first account statement could use purchase ticket explicitly tell glad get deny absolutely longer interest account ask application withdraw representative oblige happen later mins put application xxxx notwithstanding explicit request proceed application contrary tell chase representative chase fact go ahead open credit account name xxxx report credit report chase refuse correct information credit report even though go ahead process application consent error</td>\n",
       "      <td>[(try, NN), (book, NN), (ticket, NN), (come, NN), (offer, NN), (apply, NN), (ticket, NN), (card, NN), (information, NN), (offer, NN), (notify, NN), (decision, NN), (refer, NN), (chase, NN), (bank, NN), (chase, NN), (bank, NN), (screen, NN), (speak, NN), (application, NN), (deny, NN), (state, NN), (information, NN), (xxxx, NN), (offer, NN), (credit, NN), (offer, NN), (account, NN), (statement, NN), (purchase, NN), (ticket, NN), (get, NN), (deny, NN), (interest, NN), (account, NN), (application, NN), (representative, NN), (oblige, NN), (application, NN), (xxxx, NN), (request, NN), (proceed, NN), (application, NN), (tell, NN), (chase, NN), (chase, NN), (fact, NN), (credit, NN), (account, NN), (name, NN), (report, NN), (credit, NN), (report, NN), (chase, NN), (information, NN), (credit, NN), (report, NN), (application, NN), (consent, NN), (error, NN)]</td>\n",
       "      <td>try book   ticket come across offer apply towards ticket apply reward card put information offer within less minute notify via screen decision could make immediately contact  refer chase bank immediately contact chase bank within minutes get notification screen tell chase representative speak application deny could state ask information  offer explain even approve credit offer get apply first account statement could use purchase ticket explicitly tell glad get deny absolutely longer interest account ask application withdraw representative oblige happen later mins put application  notwithstanding explicit request proceed application contrary tell chase representative chase fact go ahead open credit account name  report credit report chase refuse correct information credit report even though go ahead process application consent error</td>\n",
       "      <td>1</td>\n",
       "    </tr>\n",
       "    <tr>\n",
       "      <th>15</th>\n",
       "      <td>Can you please remove inquiry</td>\n",
       "      <td>please remove inquiry</td>\n",
       "      <td>[(inquiry, NN)]</td>\n",
       "      <td>please remove inquiry</td>\n",
       "      <td>1</td>\n",
       "    </tr>\n",
       "    <tr>\n",
       "      <th>23</th>\n",
       "      <td>I have a Chase credit card which is incorrectly reporting data on my credit report. The company is not helping resolve the issue.</td>\n",
       "      <td>chase credit card incorrectly report data credit report company help resolve issue</td>\n",
       "      <td>[(chase, NN), (credit, NN), (card, NN), (credit, NN), (report, NN), (company, NN), (issue, NN)]</td>\n",
       "      <td>chase credit card incorrectly report data credit report company help resolve issue</td>\n",
       "      <td>1</td>\n",
       "    </tr>\n",
       "    <tr>\n",
       "      <th>26</th>\n",
       "      <td>I have reached out to XXXX several times in attempt to have this fraudulent inquiry removed I was told that I need to call and contact the original creditor that placed this inquiry on my report. I have made several attempts to get chase bank to contact the bureau and remove this inquiry that was not authorized by me. They seem to not be able to get me to the right person to take care of this issue no matter how many attempts I have made nobody seems to understand what I'm talkin about. I want chase bank to have this fraudulent inquiry removed from my credit report before I take legal action. I I have never requested any kind of credit with chase bank or hold any account with them. I have an iquiry from XX/XX/2019. I want this matter resolved.</td>\n",
       "      <td>reach xxxx several time attempt fraudulent inquiry remove tell need call contact original creditor place inquiry report make several attempt get chase bank contact bureau remove inquiry authorize seem able get right person take care issue matter many attempt make nobody seem understand im talkin want chase bank fraudulent inquiry remove credit report take legal action never request kind credit chase bank hold account iquiry xxxx want matter resolve</td>\n",
       "      <td>[(reach, NN), (time, NN), (inquiry, NN), (tell, NN), (contact, NN), (creditor, NN), (place, NN), (report, NN), (attempt, NN), (bank, NN), (contact, NN), (bureau, NN), (inquiry, NN), (authorize, NN), (get, NN), (person, NN), (care, NN), (issue, NN), (nobody, NN), (im, NN), (talkin, NN), (chase, NN), (bank, NN), (inquiry, NN), (credit, NN), (report, NN), (action, NN), (kind, NN), (credit, NN), (chase, NN), (bank, NN), (account, NN), (matter, NN)]</td>\n",
       "      <td>reach  several time attempt fraudulent inquiry remove tell need call contact original creditor place inquiry report make several attempt get chase bank contact bureau remove inquiry authorize seem able get right person take care issue matter many attempt make nobody seem understand im talkin want chase bank fraudulent inquiry remove credit report take legal action never request kind credit chase bank hold account iquiry  want matter resolve</td>\n",
       "      <td>1</td>\n",
       "    </tr>\n",
       "    <tr>\n",
       "      <th>73</th>\n",
       "      <td>I have wired through one of Chase branches in XXXX XXXX, the exact Reinstatement Amount of {$43000.00} to JPMorgan Chase Bank In order to remove/withdraw their wrongful foreclosure proceedings on my residential property.\\n\\nHowever, the Chase Executive Ms. XXXX XXXX, and it's trustee, XXXX XXXX XXXX XXXX are not honoring even their own rules and regulations, she wants the Total Payoff of {$100000.00} now in order to remove their wrongful foreclosure proceedings with Sales Date of XX/XX/2019 at XXXX XXXX on my family resident.\\n\\nShe knows I can not prepare XXXX in such a short time. That's why I asked for minimum reinstatement amount to avoid foreclosure without resorting to Chapter XXXX- bankruptcy filing.\\n\\nI appreciate you assistant in bringing JPMorgan Chase and it's foreclosure trustee, XXXX XXXX XXXX XXXX. \" Quality '' to their senses, and stop harassing my family with their fraudulent default claim as explained in my previous complaint about them on XX/XX/XXXX.\\n\\nMy previous complaint ID is. XXXX, submitted XX/XX/2019. Product : Mortgage Issue wrongful foreclosure.\\n\\nThank you, XXXX XXXX Tell : ( XXXX ) XXXX Email : XXXX XXXX</td>\n",
       "      <td>wire one chase branch xxxx xxxx exact reinstatement amount jpmorgan chase bank order removewithdraw wrongful foreclosure proceed residential propertyhowever chase executive ms xxxx xxxx trustee xxxx xxxx xxxx xxxx honor even rule regulations want total payoff order remove wrongful foreclosure proceed sales date xxxx xxxx xxxx family residentshe know prepare xxxx short time thats ask minimum reinstatement amount avoid foreclosure without resort chapter xxxx bankruptcy filingi appreciate assistant bring jpmorgan chase foreclosure trustee xxxx xxxx xxxx xxxx quality sense stop harass family fraudulent default claim explain previous complaint xxxxxxxxmy previous complaint id xxxx submit xxxx product mortgage issue wrongful foreclosurethank xxxx xxxx tell xxxx xxxx email xxxx xxxx</td>\n",
       "      <td>[(wire, NN), (chase, NN), (branch, NN), (reinstatement, NN), (amount, NN), (bank, NN), (order, NN), (foreclosure, NN), (propertyhowever, NN), (chase, NN), (executive, NN), (ms, NN), (trustee, NN), (payoff, NN), (order, NN), (foreclosure, NN), (date, NN), (xxxx, NN), (family, NN), (residentshe, NN), (prepare, NN), (time, NN), (reinstatement, NN), (amount, NN), (foreclosure, NN), (resort, NN), (chapter, NN), (bankruptcy, NN), (filingi, NN), (appreciate, NN), (assistant, NN), (bring, NN), (jpmorgan, NN), (foreclosure, NN), (trustee, NN), (quality, NN), (sense, NN), (stop, NN), (harass, NN), (family, NN), (default, NN), (claim, NN), (complaint, NN), (complaint, NN), (id, NN), (submit, NN), (product, NN), (mortgage, NN), (issue, NN), (tell, NN), (xxxx, NN)]</td>\n",
       "      <td>wire one chase branch   exact reinstatement amount jpmorgan chase bank order removewithdraw wrongful foreclosure proceed residential propertyhowever chase executive ms   trustee     honor even rule regulations want total payoff order remove wrongful foreclosure proceed sales date    family residentshe know prepare  short time thats ask minimum reinstatement amount avoid foreclosure without resort chapter  bankruptcy filingi appreciate assistant bring jpmorgan chase foreclosure trustee     quality sense stop harass family fraudulent default claim explain previous complaint my previous complaint id  submit  product mortgage issue wrongful foreclosurethank   tell   email</td>\n",
       "      <td>2</td>\n",
       "    </tr>\n",
       "    <tr>\n",
       "      <th>57</th>\n",
       "      <td>I have been trying to do a loan modification with Chase and all they do is give me the runaround I'm 72 mo behind they dont let me make payments I have aens all doc in but always asking more</td>\n",
       "      <td>try loan modification chase give runaround im mo behind dont let make payments aens doc always ask</td>\n",
       "      <td>[(try, NN), (loan, NN), (modification, NN), (chase, NN), (runaround, NN), (im, NN), (mo, NN)]</td>\n",
       "      <td>try loan modification chase give runaround im mo behind dont let make payments aens doc always ask</td>\n",
       "      <td>2</td>\n",
       "    </tr>\n",
       "    <tr>\n",
       "      <th>43</th>\n",
       "      <td>Chase sent me an email today with the innocuous title \" Important information regarding changes to your Chase account '' ( they often use similar titles for ads and other communications ). \\n\\nIn it, they force me into binding arbitration ( despite that never being something I had agreed to and never being a part of any contract between me and them ). \\n\\nThey do include a method to opt out, but have no additional information about the consequences ( many other people I've seen who have had a similar problem are afraid that Chase will close their account if they opt out ) and, even more egregiously, despite Chase simply sending an email doing this, they require me to mail them a letter with my personal information enclosed in order to opt out. \\n\\nThis is clearly less secure and a massive loss of both my time and money that is clearly being used solely to dissuade people from opting out. \\n\\nThis is blatant malpractice by Chase.</td>\n",
       "      <td>chase send email today innocuous title important information regard change chase account often use similar title ads communications force bind arbitration despite never something agree never part contract include method opt additional information consequences many people ive see similar problem afraid chase close account opt even egregiously despite chase simply send email require mail letter personal information enclose order opt clearly less secure massive loss time money clearly use solely dissuade people opt blatant malpractice chase</td>\n",
       "      <td>[(send, NN), (email, NN), (today, NN), (title, NN), (information, NN), (regard, NN), (change, NN), (chase, NN), (account, NN), (title, NN), (arbitration, NN), (something, NN), (part, NN), (contract, NN), (method, NN), (information, NN), (problem, NN), (chase, NN), (account, NN), (chase, NN), (email, NN), (require, NN), (mail, NN), (letter, NN), (information, NN), (order, NN), (loss, NN), (time, NN), (money, NN), (malpractice, NN), (chase, NN)]</td>\n",
       "      <td>chase send email today innocuous title important information regard change chase account often use similar title ads communications force bind arbitration despite never something agree never part contract include method opt additional information consequences many people ive see similar problem afraid chase close account opt even egregiously despite chase simply send email require mail letter personal information enclose order opt clearly less secure massive loss time money clearly use solely dissuade people opt blatant malpractice chase</td>\n",
       "      <td>2</td>\n",
       "    </tr>\n",
       "    <tr>\n",
       "      <th>1</th>\n",
       "      <td>Good morning my name is XXXX XXXX and I appreciate it if you could help me put a stop to Chase Bank cardmember services. \\nIn 2018 I wrote to Chase asking for debt verification and what they sent me a statement which is not acceptable. I am asking the bank to validate the debt. Instead I been receiving mail every month from them attempting to collect a debt. \\nI have a right to know this information as a consumer. \\n\\nChase account # XXXX XXXX XXXX XXXX Thanks in advance for your help.</td>\n",
       "      <td>good morning name xxxx xxxx appreciate could help put stop chase bank cardmember service write chase ask debt verification send statement acceptable ask bank validate debt instead receive mail every month attempt collect debt right know information consumer chase account xxxx xxxx xxxx xxxx thank advance help</td>\n",
       "      <td>[(morning, NN), (name, NN), (appreciate, NN), (chase, NN), (bank, NN), (cardmember, NN), (service, NN), (chase, NN), (debt, NN), (verification, NN), (statement, NN), (bank, NN), (debt, NN), (mail, NN), (month, NN), (attempt, NN), (debt, NN), (right, NN), (information, NN), (consumer, NN), (chase, NN), (account, NN), (advance, NN), (help, NN)]</td>\n",
       "      <td>good morning name   appreciate could help put stop chase bank cardmember service write chase ask debt verification send statement acceptable ask bank validate debt instead receive mail every month attempt collect debt right know information consumer chase account     thank advance help</td>\n",
       "      <td>2</td>\n",
       "    </tr>\n",
       "    <tr>\n",
       "      <th>20</th>\n",
       "      <td>During the summer months, I experience a decline income due to my employment. Therefore, I request a one month payment extension with my Auto Loan Company, Chase. For the past almost fours years, my request for payment extension is granted. I have never been delinquent with my auto loan payment. However, On XX/XX/2019 my request for a one month payment extension was denied this year. I explained my situation to representative and the supervisor with no avail. After a lengthy discussion and waiting, I was informed the reason for the decline as it is not \" contractual ''. This reason for denial baffled me and therefore I emailed the office of XXXX XXXX Executive Director, Communications, JPMorgan Chase &amp; Co. A representative contacted me and stated Chase will follow-up. About week later a representative of XXXX XXXX XXXX XXXX office called. The representative shared her role was help resolve the matter. The representative via conference call contacted the department handing my request. After, reviewing my information my request was still denied based on \" policy changes ''. I requested an explanation and representative stated a letter will be mailed with explanation. I have received XXXX letters the reason for denial was not \" policy changes ''. I would like CFPB help in exploring the denial of my payment extension request especially since I have been clear reason for denial.</td>\n",
       "      <td>summer months experience decline income due employment therefore request one month payment extension auto loan company chase past almost fours years request payment extension grant never delinquent auto loan payment however xxxx request one month payment extension deny year explain situation representative supervisor avail lengthy discussion wait inform reason decline contractual reason denial baffle therefore email office xxxx xxxx executive director communications jpmorgan chase co representative contact state chase followup week later representative xxxx xxxx xxxx xxxx office call representative share role help resolve matter representative via conference call contact department hand request review information request still deny base policy change request explanation representative state letter mail explanation receive xxxx letter reason denial policy change would like cfpb help explore denial payment extension request especially since clear reason denial</td>\n",
       "      <td>[(summer, NN), (experience, NN), (income, NN), (employment, NN), (month, NN), (payment, NN), (extension, NN), (auto, NN), (loan, NN), (company, NN), (payment, NN), (extension, NN), (grant, NN), (auto, NN), (loan, NN), (payment, NN), (month, NN), (payment, NN), (extension, NN), (deny, NN), (year, NN), (situation, NN), (representative, NN), (supervisor, NN), (avail, NN), (discussion, NN), (wait, NN), (inform, NN), (reason, NN), (decline, NN), (reason, NN), (baffle, NN), (office, NN), (xxxx, NN), (executive, NN), (director, NN), (co, NN), (contact, NN), (state, NN), (chase, NN), (followup, NN), (week, NN), (office, NN), (call, NN), (representative, NN), (share, NN), (role, NN), (help, NN), (matter, NN), (conference, NN), (call, NN), (contact, NN), (department, NN), (hand, NN), (request, NN), (review, NN), (information, NN), (request, NN), (base, NN), (policy, NN), (change, NN), (request, NN), (explanation, NN), (state, NN), (letter, NN), (mail, NN), (explanation, NN), (letter, NN), (reason, NN), (policy, NN), (change, NN), (cfpb, NN), (help, NN), (payment, NN), (extension, NN), (request, NN), (reason, NN), (denial, NN)]</td>\n",
       "      <td>summer months experience decline income due employment therefore request one month payment extension auto loan company chase past almost fours years request payment extension grant never delinquent auto loan payment however  request one month payment extension deny year explain situation representative supervisor avail lengthy discussion wait inform reason decline contractual reason denial baffle therefore email office   executive director communications jpmorgan chase co representative contact state chase followup week later representative     office call representative share role help resolve matter representative via conference call contact department hand request review information request still deny base policy change request explanation representative state letter mail explanation receive  letter reason denial policy change would like cfpb help explore denial payment extension request especially since clear reason denial</td>\n",
       "      <td>2</td>\n",
       "    </tr>\n",
       "    <tr>\n",
       "      <th>32</th>\n",
       "      <td>My chase amazon card was declined for a catering order I had placed for my brothers funeral in the amount of {$710.00}. I contacted chase around noon today XX/XX/2019 and was asked the last 4 numbers of my chase savings account and the other user on my account. I responded that I did not have a savings and I am only authorized user. Customer rep told me they would call me back in 10 minutes to keep the line open. I didnt receive a call back after an hour so I contacted chase. From the first call I thought someone was using my card fraudulently. I spoke to the rep who transferred me to a supervisor XXXX who said the card was activated and the transaction would process. Called the catering company and card was declined. I then used my XXXX  XXXX card to pay for the order. XXXX XXXX texted me asking if I was authorizing purchase and I responded yes. Contacted caterer and XXXX  XXXX was declined. I contacted chase again spoke to rep was told the initial questions are used to trick people to see what there answer would be. She told me the CVV code was incorrectly being input by the caterer and I responded that I had gone over the numbers and CVV used was correct. She told me the card was cleared for the purchase and she would monitor it for 24 hours. Called caterer - card declined. Use a MasterCard  which processed. Went to use chase amazon at restaurant at XXXX pm tonight in the amount of {$63.00} - it was declined. I was told by chase I was not over limit. Still frustrated figuring out multiple declines after several conversations with chase stating the card would be ok to use. Embarrassed as the caterer kept suggesting I was over my limit which I pay my card in full every month and chase confirmed that I was under my limit with the {$710.00} transaction. Never been declined by either chase or XXXX  XXXX before - today after multiple assurances that I was all set and card would be monitored to make sure transaction would clear - it never did</td>\n",
       "      <td>chase amazon card decline cater order place brothers funeral amount contact chase around noon today xxxx ask last number chase save account user account respond save authorize user customer rep tell would call back minutes keep line open didnt receive call back hour contact chase first call think someone use card fraudulently speak rep transfer supervisor xxxx say card activate transaction would process call cater company card decline use xxxx xxxx card pay order xxxx xxxx texted ask authorize purchase respond yes contact caterer xxxx xxxx decline contact chase speak rep tell initial question use trick people see answer would tell cvv code incorrectly input caterer respond go number cvv use correct tell card clear purchase would monitor hours call caterer card decline use mastercard process go use chase amazon restaurant xxxx pm tonight amount decline tell chase limit still frustrate figure multiple decline several conversations chase state card would ok use embarrass caterer keep suggest limit pay card full every month chase confirm limit transaction never decline either chase xxxx xxxx today multiple assurances set card would monitor make sure transaction would clear never</td>\n",
       "      <td>[(chase, NN), (decline, NN), (cater, NN), (order, NN), (place, NN), (amount, NN), (contact, NN), (chase, NN), (noon, NN), (today, NN), (ask, NN), (number, NN), (chase, NN), (account, NN), (account, NN), (respond, NN), (customer, NN), (rep, NN), (tell, NN), (line, NN), (didnt, NN), (call, NN), (hour, NN), (contact, NN), (chase, NN), (someone, NN), (card, NN), (rep, NN), (transfer, NN), (supervisor, NN), (card, NN), (transaction, NN), (cater, NN), (company, NN), (card, NN), (decline, NN), (use, NN), (card, NN), (pay, NN), (order, NN), (purchase, NN), (respond, NN), (contact, NN), (caterer, NN), (decline, NN), (contact, NN), (chase, NN), (rep, NN), (question, NN), (use, NN), (code, NN), (caterer, NN), (respond, NN), (number, NN), (cvv, NN), (use, NN), (card, NN), (purchase, NN), (decline, NN), (use, NN), (mastercard, NN), (process, NN), (use, NN), (chase, NN), (amazon, NN), (restaurant, NN), (pm, NN), (tonight, NN), (amount, NN), (decline, NN), (tell, NN), (chase, NN), (limit, NN), (figure, NN), (decline, NN), (state, NN), (card, NN), (use, NN), (embarrass, NN), (caterer, NN), (limit, NN), (pay, NN), (card, NN), (month, NN), (chase, NN), (confirm, NN), (limit, NN), (transaction, NN), (xxxx, NN), (xxxx, NN), (today, NN), (card, NN), (transaction, NN)]</td>\n",
       "      <td>chase amazon card decline cater order place brothers funeral amount contact chase around noon today  ask last number chase save account user account respond save authorize user customer rep tell would call back minutes keep line open didnt receive call back hour contact chase first call think someone use card fraudulently speak rep transfer supervisor  say card activate transaction would process call cater company card decline use   card pay order   texted ask authorize purchase respond yes contact caterer   decline contact chase speak rep tell initial question use trick people see answer would tell cvv code incorrectly input caterer respond go number cvv use correct tell card clear purchase would monitor hours call caterer card decline use mastercard process go use chase amazon restaurant  pm tonight amount decline tell chase limit still frustrate figure multiple decline several conversations chase state card would ok use embarrass caterer keep suggest limit pay card full every month chase confirm limit transaction never decline either chase   today multiple assurances set card would monitor make sure transaction would clear never</td>\n",
       "      <td>3</td>\n",
       "    </tr>\n",
       "    <tr>\n",
       "      <th>40</th>\n",
       "      <td>XXXX XXXX a sofa, love seat, table and chairs and was never delivered. Debit card charged {$2400.00}. Bank says Visa denied claim, we have no furniture and no money.</td>\n",
       "      <td>xxxx xxxx sofa love seat table chair never deliver debit card charge bank say visa deny claim furniture money</td>\n",
       "      <td>[(sofa, NN), (love, NN), (seat, NN), (chair, NN), (charge, NN), (bank, NN), (claim, NN), (furniture, NN), (money, NN)]</td>\n",
       "      <td>sofa love seat table chair never deliver debit card charge bank say visa deny claim furniture money</td>\n",
       "      <td>3</td>\n",
       "    </tr>\n",
       "    <tr>\n",
       "      <th>21</th>\n",
       "      <td>On XXXX XX/XX/2019, I made a {$300.00} payment to an online retailer using Chase quick pay with XXXX on the Chase website. I realized that this was a scam website after no confirmation, product, or response to any inquiries regarding the order and contacted Chase to get more information about the transaction to attempt getting a refund through the retailers bank. \\n\\nI contacted Chase via a secured message on XX/XX/2019 explaining what happened and asked \" Is there a way to reverse this transaction, or do you have a contact at XXXX that can give me more information about the recipient? '' That XXXX, my message was reviewed and I received a response restating my original email and informing me that \" The transfer has been completed. However, as you mentioned that the website is a scam while we can handle most inquiries by email, some require the expertise of another team. In order to assist you better in regards to the refund we request you to call our Consumer Online Technical Support Team. '' I called the number listed in the email and explained my situation to then be transferred to the claims department. I was directed to call XXXX and ask them about the transaction because Chase did not have any information outside of what I provided when initiating the transfer. I felt like this agent was trying to get me to end the call as quickly as possible and I had to interrupt her closing script to ask for a contact number at XXXX and didn't have an opportunity to get any information about what the right questions would be to ask XXXX or what words and phrases I should use to get the information I was looking for. \\n\\nI called XXXX who's automated system initially directed me to call my bank because I used the banks app to initiate the transaction. I called XXXX again to navigate their menus and talk to a customer service agent. They told me that all of the information about the transaction would in Chase 's system because I used the banks app to perform the transaction. She stayed on the line with me until I understood everything that I should ask and had a better understanding of the situation. I ended the call and called chase again. \\n\\nWhen I called chase the second time, the agent tried to look up the information about the receiving bank but could not find any additional information. She then asked me why I needed this information and I explained my situation again. I was once again transferred to the claims department, who told me that I needed to contact XXXX to get the information I was looking for. After I told her that I had already contacted them, she finally admitted that there was nothing that she could do due to the nature of the transaction and that these types of transactions are not secured. She said that Chase had no information about the recipient other than the email address that I inputted and that the recipients banking information was not kept in the system. In both phone calls, they asked if I initiated that transaction, and used that to absolve themselves of all responsibility in regards to this matter. \\n\\nDuring this whole process, it felt like Chase was not transparent about their policies regarding these types of transactions nor were they helpful in helping me get any information about the situation. These transactions are advertised as a \" fast, safe and easy way to send money, '' but seem to be a dangerous way to do business. I feel deceived by Chase 's advertising and further victimized by the way I was treated by the members on their customer service team.</td>\n",
       "      <td>xxxx xxxx make payment online retailer use chase quick pay xxxx chase website realize scam website confirmation product response inquiries regard order contact chase get information transaction attempt get refund retailers bank contact chase via secure message xxxx explain happen ask way reverse transaction contact xxxx give information recipient xxxx message review receive response restate original email inform transfer complete however mention website scam handle inquiries email require expertise another team order assist better regard refund request call consumer online technical support team call number list email explain situation transfer claim department direct call xxxx ask transaction chase information outside provide initiate transfer felt like agent try get end call quickly possible interrupt close script ask contact number xxxx didnt opportunity get information right question would ask xxxx word phrase use get information look call xxxx whos automate system initially direct call bank use bank app initiate transaction call xxxx navigate menus talk customer service agent tell information transaction would chase system use bank app perform transaction stay line understand everything ask better understand situation end call call chase call chase second time agent try look information receive bank could find additional information ask need information explain situation transfer claim department tell need contact xxxx get information look tell already contact finally admit nothing could due nature transaction type transactions secure say chase information recipient email address inputted recipients bank information keep system phone call ask initiate transaction use absolve responsibility regard matter whole process felt like chase transparent policies regard type transactions helpful help get information situation transactions advertise fast safe easy way send money seem dangerous way business feel deceive chase advertise victimize way treat members customer service team</td>\n",
       "      <td>[(payment, NN), (online, NN), (retailer, NN), (use, NN), (pay, NN), (chase, NN), (website, NN), (confirmation, NN), (product, NN), (response, NN), (order, NN), (contact, NN), (information, NN), (transaction, NN), (attempt, NN), (refund, NN), (bank, NN), (message, NN), (xxxx, NN), (way, NN), (transaction, NN), (contact, NN), (information, NN), (recipient, NN), (message, NN), (review, NN), (response, NN), (restate, NN), (email, NN), (inform, NN), (transfer, NN), (mention, NN), (scam, NN), (expertise, NN), (team, NN), (order, NN), (assist, NN), (regard, NN), (refund, NN), (request, NN), (call, NN), (consumer, NN), (online, NN), (support, NN), (team, NN), (call, NN), (number, NN), (list, NN), (email, NN), (explain, NN), (situation, NN), (transfer, NN), (claim, NN), (department, NN), (call, NN), (transaction, NN), (chase, NN), (information, NN), (provide, NN), (initiate, NN), (transfer, NN), (agent, NN), (try, NN), (call, NN), (ask, NN), (contact, NN), (number, NN), (opportunity, NN), (information, NN), (question, NN), (word, NN), (phrase, NN), (use, NN), (get, NN), (information, NN), (look, NN), (call, NN), (whos, NN), (automate, NN), (system, NN), (call, NN), (bank, NN), (bank, NN), (app, NN), (transaction, NN), (call, NN), (navigate, NN), (menus, NN), (talk, NN), (customer, NN), (service, NN), (agent, NN), (information, NN), (transaction, NN), (system, NN), (bank, NN), (app, NN), (transaction, NN), (line, NN), (everything, NN), ...]</td>\n",
       "      <td>make payment online retailer use chase quick pay  chase website realize scam website confirmation product response inquiries regard order contact chase get information transaction attempt get refund retailers bank contact chase via secure message  explain happen ask way reverse transaction contact  give information recipient  message review receive response restate original email inform transfer complete however mention website scam handle inquiries email require expertise another team order assist better regard refund request call consumer online technical support team call number list email explain situation transfer claim department direct call  ask transaction chase information outside provide initiate transfer felt like agent try get end call quickly possible interrupt close script ask contact number  didnt opportunity get information right question would ask  word phrase use get information look call  whos automate system initially direct call bank use bank app initiate transaction call  navigate menus talk customer service agent tell information transaction would chase system use bank app perform transaction stay line understand everything ask better understand situation end call call chase call chase second time agent try look information receive bank could find additional information ask need information explain situation transfer claim department tell need contact  get information look tell already contact finally admit nothing could due nature transaction type transactions secure say chase information recipient email address inputted recipients bank information keep system phone call ask initiate transaction use absolve responsibility regard matter whole process felt like chase transparent policies regard type transactions helpful help get information situation transactions advertise fast safe easy way send money seem dangerous way business feel deceive chase advertise victimize way treat members customer service team</td>\n",
       "      <td>3</td>\n",
       "    </tr>\n",
       "    <tr>\n",
       "      <th>2</th>\n",
       "      <td>I upgraded my XXXX XXXX card in XX/XX/2018 and was told by the agent who did the upgrade my anniversary date would not change. It turned the agent was giving me the wrong information in order to upgrade the account. XXXX   changed my anniversary date from XX/XX/XXXX to XX/XX/XXXX without my consent! XXXX has the recording of the agent who was misled me.</td>\n",
       "      <td>upgrade xxxx xxxx card xxxx tell agent upgrade anniversary date would change turn agent give wrong information order upgrade account xxxx change anniversary date xxxxxxxx xxxxxxxx without consent xxxx record agent mislead</td>\n",
       "      <td>[(card, NN), (tell, NN), (agent, NN), (date, NN), (information, NN), (order, NN), (upgrade, NN), (account, NN), (change, NN), (anniversary, NN), (date, NN), (consent, NN), (xxxx, NN), (record, NN), (agent, NN), (mislead, NN)]</td>\n",
       "      <td>upgrade   card  tell agent upgrade anniversary date would change turn agent give wrong information order upgrade account  change anniversary date   without consent  record agent mislead</td>\n",
       "      <td>3</td>\n",
       "    </tr>\n",
       "    <tr>\n",
       "      <th>30</th>\n",
       "      <td>To whom it may concern, Chase bank charged wrongly overdraft fees, I have alert of low balance or unsuficent fee balance and always deposit immediatly to cover transactions if needed but Chase always changed the order and charged me overdraft fee anyway. when you call they said their per their guidelines they don't refund more then 2 overdrawft doesn't matter bank fault or not.\\n\\nTaken {$34.00} from people is money just because you can is not Ok.\\n\\nSee attached documents. When Chase refund, they always find the way to take back what they refunded in first place.</td>\n",
       "      <td>may concern chase bank charge wrongly overdraft fee alert low balance unsuficent fee balance always deposit immediatly cover transactions need chase always change order charge overdraft fee anyway call say per guidelines dont refund overdrawft doesnt matter bank fault nottaken people money oksee attach document chase refund always find way take back refund first place</td>\n",
       "      <td>[(concern, NN), (bank, NN), (charge, NN), (fee, NN), (alert, NN), (balance, NN), (fee, NN), (balance, NN), (order, NN), (charge, NN), (overdraft, NN), (fee, NN), (matter, NN), (bank, NN), (fault, NN), (money, NN), (chase, NN), (refund, NN), (way, NN), (refund, NN), (place, NN)]</td>\n",
       "      <td>may concern chase bank charge wrongly overdraft fee alert low balance unsuficent fee balance always deposit immediatly cover transactions need chase always change order charge overdraft fee anyway call say per guidelines dont refund overdrawft doesnt matter bank fault nottaken people money oksee attach document chase refund always find way take back refund first place</td>\n",
       "      <td>3</td>\n",
       "    </tr>\n",
       "    <tr>\n",
       "      <th>164</th>\n",
       "      <td>In XXXX of this year Chase withdrew money from my escrow account to pay my property taxes. However, they also withdrew money to pay for another property that I do not own or has any connection with me or my account. \\n\\nThis left me in an escrow shortage and they have adjusted my monthly payment to reflect this as well. I called to explain their mistake, and they took two weeks but finally managed to remove the incorrect parcel from my account. \\n\\nHowever, they are not refunding the erroneous tax payment they made from my escrow account and are instead \" waiting '' for the local municipality to refund the money. \\n\\nFrom my perspective, Chase, without my immediate knowledge or permission has misappropriated funds from my escrow account and now I am stuck footing the bill until they get the money back.</td>\n",
       "      <td>xxxx year chase withdraw money escrow account pay property tax however also withdraw money pay another property connection account leave escrow shortage adjust monthly payment reflect well call explain mistake take two weeks finally manage remove incorrect parcel account however refund erroneous tax payment make escrow account instead wait local municipality refund money perspective chase without immediate knowledge permission misappropriate fund escrow account stick foot bill get money back</td>\n",
       "      <td>[(year, NN), (chase, NN), (money, NN), (escrow, NN), (property, NN), (tax, NN), (money, NN), (pay, NN), (property, NN), (connection, NN), (account, NN), (shortage, NN), (payment, NN), (reflect, NN), (parcel, NN), (account, NN), (tax, NN), (payment, NN), (escrow, NN), (account, NN), (municipality, NN), (refund, NN), (money, NN), (perspective, NN), (chase, NN), (knowledge, NN), (permission, NN), (misappropriate, NN), (fund, NN), (escrow, NN), (foot, NN), (bill, NN), (money, NN)]</td>\n",
       "      <td>year chase withdraw money escrow account pay property tax however also withdraw money pay another property connection account leave escrow shortage adjust monthly payment reflect well call explain mistake take two weeks finally manage remove incorrect parcel account however refund erroneous tax payment make escrow account instead wait local municipality refund money perspective chase without immediate knowledge permission misappropriate fund escrow account stick foot bill get money back</td>\n",
       "      <td>4</td>\n",
       "    </tr>\n",
       "    <tr>\n",
       "      <th>58</th>\n",
       "      <td>I made a purchase of {$260.00} on XX/XX/XXXX. I made payments of {$160.00} on XX/XX/XXXX and {$260.00} on XX/XX/XXXX. The minimum payment was {$140.00}. The closing date was XX/XX/XXXX ( please see attached statement ). That statement ( XX/XX/XXXX ) shows that I had an outstanding purchase balance of {$230.00} on XX/XX/XXXX. I have enclosed the previous months statement to show that there were NO other purchases prior to the one on XX/XX/XXXX. \\nHowever, when I got the XXXX statement, it shows that I still have a purchase balance of {$210.00}. I have a promotional balance (@XXXX ) in XXXX of {$6900.00}. In XXXX, the promotional balance was {$7200.00} - a difference of {$380.00}. \\n\\nApparently, the payment ( above the minimum payment required by Chase ) I thought would be applied to the purchase (@ 21.49 % ) was applied to the promotional balance first. It is my understanding that once the minimum payment has been met, payments in excess of the minimum would be applied to the highest interest rate balance first. This is not the first time that Chase has skirted US Financial Law to turn a larger profit. I need help in rectifying this problem, because my logic fell on deaf ears at Chase. Thank you in advance for your assistance. \\n\\nRespectfully, XXXX XXXX XXXX</td>\n",
       "      <td>make purchase xxxxxxxx make payments xxxxxxxx xxxxxxxx minimum payment close date xxxxxxxx please see attach statement statement xxxxxxxx show outstanding purchase balance xxxxxxxx enclose previous months statement show purchase prior one xxxxxxxx however get xxxx statement show still purchase balance promotional balance xxxx xxxx xxxx promotional balance difference apparently payment minimum payment require chase think would apply purchase apply promotional balance first understand minimum payment meet payments excess minimum would apply highest interest rate balance first first time chase skirt us financial law turn larger profit need help rectify problem logic fell deaf ears chase thank advance assistance respectfully xxxx xxxx xxxx</td>\n",
       "      <td>[(purchase, NN), (payment, NN), (date, NN), (xxxxxxxx, NN), (please, NN), (statement, NN), (statement, NN), (show, NN), (purchase, NN), (balance, NN), (statement, NN), (show, NN), (purchase, NN), (xxxxxxxx, NN), (statement, NN), (show, NN), (balance, NN), (balance, NN), (balance, NN), (difference, NN), (payment, NN), (payment, NN), (require, NN), (chase, NN), (think, NN), (purchase, NN), (balance, NN), (payment, NN), (meet, NN), (interest, NN), (rate, NN), (balance, NN), (time, NN), (chase, NN), (skirt, NN), (law, NN), (turn, NN), (profit, NN), (need, NN), (problem, NN), (logic, NN), (advance, NN), (assistance, NN), (xxxx, NN)]</td>\n",
       "      <td>make purchase  make payments   minimum payment close date  please see attach statement statement  show outstanding purchase balance  enclose previous months statement show purchase prior one  however get  statement show still purchase balance promotional balance    promotional balance difference apparently payment minimum payment require chase think would apply purchase apply promotional balance first understand minimum payment meet payments excess minimum would apply highest interest rate balance first first time chase skirt us financial law turn larger profit need help rectify problem logic fell deaf ears chase thank advance assistance respectfully</td>\n",
       "      <td>4</td>\n",
       "    </tr>\n",
       "    <tr>\n",
       "      <th>82</th>\n",
       "      <td>I recently called to ask Chase bank why they reported to the credit Bureau that I was 30 days late on a payment that was already paid off. When I called I got this info : They showed that on the XXXX of XX/XX/2019 I was very late on my bill and owed XXXX to bring this balance down to XXXX and be finished with the bill. I paid that amount on the same day the XXXX to being it to XXXX. \\n\\nTHey say that I tried to make another payment for {$250.00} later that same day and in a few days that came back as a return payment. \\n\\nThe man on the phone stated to me that if the payment went through then it would have meant that I had a credit on my account for XXXX since I didnt owe anything. \\n\\nThey updated my account with charges and late fees from the return payment that I had no idea of since I thought I paid off the entire amount. They reported to the credit Bureau that I was 30 days late for not paying what accrued to be {$56.00} The guy representing Chase agreed with me that they were in the wrong for charging me the fees and said they would remove them. I still have {$2.00} in the negative that they are saying that i owe in the mobile app. \\n\\nAdditionally, because they reported me being late my credit score dropped 51 points. When I called back to ask if they can report that they made a mistake they said I would have to do that on my own. I think that's XXXX.</td>\n",
       "      <td>recently call ask chase bank report credit bureau days late payment already pay call get info show xxxx xxxx late bill owe xxxx bring balance xxxx finish bill pay amount day xxxx xxxx say try make another payment later day days come back return payment man phone state payment go would mean credit account xxxx since didnt owe anything update account charge late fee return payment idea since think pay entire amount report credit bureau days late pay accrue guy represent chase agree wrong charge fee say would remove still negative say owe mobile app additionally report late credit score drop point call back ask report make mistake say would think thats xxxx</td>\n",
       "      <td>[(ask, NN), (bank, NN), (report, NN), (credit, NN), (bureau, NN), (payment, NN), (call, NN), (show, NN), (bill, NN), (bring, NN), (balance, NN), (bill, NN), (pay, NN), (amount, NN), (day, NN), (payment, NN), (day, NN), (payment, NN), (man, NN), (phone, NN), (state, NN), (payment, NN), (go, NN), (credit, NN), (account, NN), (didnt, NN), (anything, NN), (account, NN), (charge, NN), (fee, NN), (payment, NN), (idea, NN), (pay, NN), (amount, NN), (report, NN), (credit, NN), (bureau, NN), (pay, NN), (accrue, NN), (guy, NN), (represent, NN), (chase, NN), (charge, NN), (credit, NN), (score, NN), (drop, NN), (point, NN), (call, NN), (report, NN)]</td>\n",
       "      <td>recently call ask chase bank report credit bureau days late payment already pay call get info show   late bill owe  bring balance  finish bill pay amount day   say try make another payment later day days come back return payment man phone state payment go would mean credit account  since didnt owe anything update account charge late fee return payment idea since think pay entire amount report credit bureau days late pay accrue guy represent chase agree wrong charge fee say would remove still negative say owe mobile app additionally report late credit score drop point call back ask report make mistake say would think thats</td>\n",
       "      <td>4</td>\n",
       "    </tr>\n",
       "    <tr>\n",
       "      <th>115</th>\n",
       "      <td>Multiple times with the latest being XX/XX/XXXX chase has manipulated the order credits and debits come out of the account so they can collect late fees. I have receipts and screen shots showing a positive balance after a deposit and the next morning there are multiple bounced checks. First time i brought this up it was made right and I was told deposits have to be made before XXXX no mention of eastern time. This last time i made sure my deposit was before XXXX and now they are saying XXXX eastern. Their reps should no this stuff. On top of this they organize the transactions so they can maximize the amount of things over drafting. they had a class action lawsuit XXXX dealing with this exact same thing.</td>\n",
       "      <td>multiple time latest xxxxxxxx chase manipulate order credit debit come account collect late fee receipt screen shots show positive balance deposit next morning multiple bounce check first time bring make right tell deposit make xxxx mention eastern time last time make sure deposit xxxx say xxxx eastern reps stuff top organize transactions maximize amount things draft class action lawsuit xxxx deal exact thing</td>\n",
       "      <td>[(time, NN), (chase, NN), (manipulate, NN), (order, NN), (credit, NN), (debit, NN), (account, NN), (collect, NN), (fee, NN), (receipt, NN), (balance, NN), (deposit, NN), (morning, NN), (bounce, NN), (check, NN), (time, NN), (tell, NN), (mention, NN), (time, NN), (time, NN), (deposit, NN), (organize, NN), (draft, NN), (class, NN), (action, NN), (lawsuit, NN), (deal, NN), (thing, NN)]</td>\n",
       "      <td>multiple time latest  chase manipulate order credit debit come account collect late fee receipt screen shots show positive balance deposit next morning multiple bounce check first time bring make right tell deposit make  mention eastern time last time make sure deposit  say  eastern reps stuff top organize transactions maximize amount things draft class action lawsuit  deal exact thing</td>\n",
       "      <td>4</td>\n",
       "    </tr>\n",
       "    <tr>\n",
       "      <th>167</th>\n",
       "      <td>A double payment from my chase debt cart to chase credit card posted. They wont refund only put in a request and will be 3-5 days before refunded. That money was for from now until Tuesday when I get paid and that required me to pay them {$30.00} fee to stop a pending bill payment to another payee so I atleast have {$200.00} at midnight</td>\n",
       "      <td>double payment chase debt cart chase credit card post wont refund put request days refund money tuesday get pay require pay fee stop pending bill payment another payee atleast midnight</td>\n",
       "      <td>[(payment, NN), (chase, NN), (debt, NN), (cart, NN), (credit, NN), (card, NN), (post, NN), (wont, NN), (refund, NN), (money, NN), (require, NN), (pay, NN), (fee, NN), (bill, NN), (payment, NN), (payee, NN), (atleast, NN), (midnight, NN)]</td>\n",
       "      <td>double payment chase debt cart chase credit card post wont refund put request days refund money tuesday get pay require pay fee stop pending bill payment another payee atleast midnight</td>\n",
       "      <td>4</td>\n",
       "    </tr>\n",
       "  </tbody>\n",
       "</table>\n",
       "</div>"
      ],
      "text/plain": [
       "                                                                                                                                                                                                                                                                                                                                                                                                                                                                                                                                                                                                                                                                                                                                                                                                                                                                                                                                                                                                                                                                                                                                                                                                                                                                                                                                                                                                                                                                                                                                                                                                                                                                                                                                                                                                                                                                                                                                                                                                                                                                                                                                                                                                                                                                                                                                                                                                                                                                                                                                                                                                                                                                                                                                                                                                                                                                                                                                                                                                                                                                                                                                                                                                                                                                                                                                                                                                                                                                                                                                                                                                                                                                                        complaints  \\\n",
       "27                                                                                                                                                                                                                                                                                                                                                                                                                                                                                                                                                                                                                                                                                                                                                                                                                                                                                                                                                                                                                                                                                                                                                                                                                                                                                                                                                                                                                                                                                                                                                                                                                                                                                                                                                                                                                                                                                                                                                                                                                                                                                                                                                                                                                                                                                                                                                                                                                                                                                                                                                                                                                                                                                                                                                                                                                                                                                                                                                                                                                                                                                                                                                                                                                                                                   I opened an account with chase bank on XXXX and used a code for XXXX bonus. I called to follow up on XX/XX/XXXX about the terms and was told everything was on the account and once I made XXXX direct deposit the bonus would be paid out in 10 days. As of XXXX I had made the required deposits and was told my account never had the coupon code applied and it was past the 21 days to do so, so no bonus would be paid.   \n",
       "14                                                                                                                                                                                                                                                                                                                                                                                                                                                                                                                                                                                                                                                                                                                                                                                                                                                                                                                                                                                                                                                                                                                                                                                                                                                                                                                                                                                                                                                                                                                                                                                                                                                                                                                                                                                                                                                                                                                                                                                                                                                                                                                                                                                                                                                                                                                                                                                                                                                                                                                                                                                                                                                                                                                                                                                                                                                                                                                                                                                                                                                                                                                                                                                                   my grand son give me check for {$1600.00} i deposit it into my chase account after fund clear my chase bank closed my account never paid me my money they said they need to speek with my grand son check was clear money was taking by my chase bank refuse to pay me my money my grand son called chase 2 times they told him i should call not him to verify the check owner he is out the country most the time  date happen XX/XX/2018 check number XXXX claim number is XXXX with chase   \n",
       "17                                                                                                                                                                                                                                                                                                                                                                                                                                                                                                                                                                                                                                                                                                                                                                                                                                                                                                                                                                                                                                                                                                                                                                                                                                                                                                                           With out notice J.P. Morgan Chase restricted my account by my debit card Tuesday XX/XX/2019. On Thursday XX/XX/2019 I went into A branch after being advised by a customer service representative that my account would actually be closed. I went into the branch to see how I can remove the funds that are in there currently in as well as if my direct deposit from my place of employment would be returned. The bank associate and the customer service representative assured me that the funds would Post but they may take an additional business day. That Saturday I attempted to go inside of a branch yet again to retrieve my funds that actually did post on Friday, XX/XX/2019. Upon looking at my account I realize that the funds have been reversed and no longer were present on my current statement. Ive been called and I was told that it may take two business day stating Tuesday, XX/XX/XXXX would be the date that my funds would be available to withdraw from a bank teller only. Now, Chase is informing me that I will be mailed a check into the three business days to recover the funds that are owed to me and left in my account currently. Unfortunately, This has put me in an additional financial bind do two fees from late rent late car payments, etc. I am not being a short or giving written notice that these things will actually occur so that I have peace of mind in fact Chase has handled my situation grossly I even had a bank teller inform me that my account looks suspicious after giving me a suspicious look myself. Although I know that Chase reserves the right to close my account at any time I do believe that their protocol has been in the past to give notice in the form of a written document. I am not being a shored or giving written notice that these things will actually occur so that I have peace of mind in fact Chase has handled my situation grossly I even had a bank teller inform me that my account looks suspicious after giving me a suspicious look myself. Although I know that Chase reserves the right to close my account at any time I do believe that their protocol has been in the past to give notice in the form of a written document. This situation is truly affecting my livelihood and they dont seem to want to deal with Me professionally. Thank you   \n",
       "24                                                                                                                                                                                                                                                                                                                                                                                                                                                                                                                                                                                                                                                                                                                                                                                                                                                                                                                                                                                                                                                                                                                                                                                                                                                                                                                                                                                                                                                                                                                                                                                                                                                                                                                                                                                                                                                                                                                                                                                                                                                                                                                                                                                                                                                                                                                                                                                                                                                                                                                                                                                                                                                                                                                                                                                                                                                                                                                                                                                                                                                                                                                                                                                                                                                                                                                                                                                                                                                                                                                                                                                                                                             mishandling of this account by Chase auto and XXXX.   \n",
       "35                                                                                                                                                                                                                                                                                                                                                                                                                                                                                                                                                                                                                                                                                                                                                                                                                                                                                                                                                                                                                                                                                                                                                                                                                                                                                                                                                                                                                                                                                                                                                                                                                                                                                                                                                                                                                                                                                                                                                                                                                                                                                                                                                                                                                                                                                                                                                                                                                                                                                                                                                                                                                                                                                                                                                                                                                                                                                                                                                                                                                                                                                                                                      I opened the saving account for the {$25.00} bonus. I was supposed to received the {$25.00} bonus after 3 consecutive auto transfers from checking to savings. I notice on XX/XX/2019 that automatic transfer was cancelled for not enough funds into my checking 's account. Therefore, I put enough funds in my account on XX/XX/2019 requested that the executive team reactivate my automatic transfer for the month of XXXX. Although Ms. XXXX reached out to me from the executive office, she failed to try to resolve my concerns ( case # XXXX ).   \n",
       "10                                                                                                                                                                                                                                                                                                                                                                                                                                                                                                                                                                                                                                                                                                                                                                                                                                                                                                                                                                                                                                                                                                                                                                                                                                                                                                                                                                                                                                                                                                                                                                                                                                                                                                                                                                                                                                                                                                                                                                                                                                                                                                                                                                                                                                                                                                                                                                                                                                                                                                                                                                                                                                                                                                                                                                                                                                                                                                                                                                                                                                                                                                                                                                                                                                                                                                                                                                                                                                                                Chase Card was reported on XX/XX/2019. However, fraudulent application have been submitted my identity without my consent to fraudulently obtain services. Do not extend credit without verifying the identity of the applicant.   \n",
       "11                                                                                                                                                                                                                                                                                                                                                                                                                                                                                                                                                                                                                                                                                                                                                                                                                                                                                                                                                                                                                                                                                                                                                                                                                                                                                                                                                                                                                                                                                                                                                                                                                                                                                                                                                                                                                                                                                                                                                                                                                                                                                                                                  On XX/XX/2018, while trying to book a XXXX  XXXX  ticket, I came across an offer for {$300.00} to be applied towards the ticket if I applied for a rewards card. I put in my information for the offer and within less than a minute, was notified via the screen that a decision could not be made. I immediately contacted XXXX and was referred to Chase Bank. I then immediately contacted Chase bank within no more than 10minutes of getting the notification on the screen and I was told by the Chase representative I spoke with that my application was denied but she could not state why. I asked for more information about the XXXX  offer and she explained that even if I had been approved, the credit offer only gets applied after the first account statement and could not be used to purchase the ticket. I then explicitly told her I was glad I got denied and I was ABSOLUTELY no longer interested in the account. I asked that the application be withdrawn and the representative obliged. This all happened no later than 10mins after putting in the application on XX/XX/2018. Notwithstanding my explicit request not to proceed with the application and contrary to what I was told by the Chase representative, Chase did in fact go ahead to open a credit account in my name on XX/XX/2018. This is now being reported in my Credit Report and Chase has refused to correct this information on my credit report even though they went ahead to process an application which I did not consent to and out of their error.   \n",
       "15                                                                                                                                                                                                                                                                                                                                                                                                                                                                                                                                                                                                                                                                                                                                                                                                                                                                                                                                                                                                                                                                                                                                                                                                                                                                                                                                                                                                                                                                                                                                                                                                                                                                                                                                                                                                                                                                                                                                                                                                                                                                                                                                                                                                                                                                                                                                                                                                                                                                                                                                                                                                                                                                                                                                                                                                                                                                                                                                                                                                                                                                                                                                                                                                                                                                                                                                                                                                                                                                                                                                                                                                                                                                   Can you please remove inquiry   \n",
       "23                                                                                                                                                                                                                                                                                                                                                                                                                                                                                                                                                                                                                                                                                                                                                                                                                                                                                                                                                                                                                                                                                                                                                                                                                                                                                                                                                                                                                                                                                                                                                                                                                                                                                                                                                                                                                                                                                                                                                                                                                                                                                                                                                                                                                                                                                                                                                                                                                                                                                                                                                                                                                                                                                                                                                                                                                                                                                                                                                                                                                                                                                                                                                                                                                                                                                                                                                                                                                                                                                                                                                               I have a Chase credit card which is incorrectly reporting data on my credit report. The company is not helping resolve the issue.   \n",
       "26                                                                                                                                                                                                                                                                                                                                                                                                                                                                                                                                                                                                                                                                                                                                                                                                                                                                                                                                                                                                                                                                                                                                                                                                                                                                                                                                                                                                                                                                                                                                                                                                                                                                                                                                                                                                                                                                                                                                                                                                                                                                                                                                                                                                                                                                                                                                                                                                                                                                                                                                                                                                                                                                                                                                                                                                                                                                                                               I have reached out to XXXX several times in attempt to have this fraudulent inquiry removed I was told that I need to call and contact the original creditor that placed this inquiry on my report. I have made several attempts to get chase bank to contact the bureau and remove this inquiry that was not authorized by me. They seem to not be able to get me to the right person to take care of this issue no matter how many attempts I have made nobody seems to understand what I'm talkin about. I want chase bank to have this fraudulent inquiry removed from my credit report before I take legal action. I I have never requested any kind of credit with chase bank or hold any account with them. I have an iquiry from XX/XX/2019. I want this matter resolved.   \n",
       "73                                                                                                                                                                                                                                                                                                                                                                                                                                                                                                                                                                                                                                                                                                                                                                                                                                                                                                                                                                                                                                                                                                                                                                                                                                                                                                                                                                                                                                                                                                                                                                                                                                                                                                                                                                                                                                                                                                                                                                                                                                                                                                                                                                                                                                                                                                                                                                                                                                                                                               I have wired through one of Chase branches in XXXX XXXX, the exact Reinstatement Amount of {$43000.00} to JPMorgan Chase Bank In order to remove/withdraw their wrongful foreclosure proceedings on my residential property.\\n\\nHowever, the Chase Executive Ms. XXXX XXXX, and it's trustee, XXXX XXXX XXXX XXXX are not honoring even their own rules and regulations, she wants the Total Payoff of {$100000.00} now in order to remove their wrongful foreclosure proceedings with Sales Date of XX/XX/2019 at XXXX XXXX on my family resident.\\n\\nShe knows I can not prepare XXXX in such a short time. That's why I asked for minimum reinstatement amount to avoid foreclosure without resorting to Chapter XXXX- bankruptcy filing.\\n\\nI appreciate you assistant in bringing JPMorgan Chase and it's foreclosure trustee, XXXX XXXX XXXX XXXX. \" Quality '' to their senses, and stop harassing my family with their fraudulent default claim as explained in my previous complaint about them on XX/XX/XXXX.\\n\\nMy previous complaint ID is. XXXX, submitted XX/XX/2019. Product : Mortgage Issue wrongful foreclosure.\\n\\nThank you, XXXX XXXX Tell : ( XXXX ) XXXX Email : XXXX XXXX   \n",
       "57                                                                                                                                                                                                                                                                                                                                                                                                                                                                                                                                                                                                                                                                                                                                                                                                                                                                                                                                                                                                                                                                                                                                                                                                                                                                                                                                                                                                                                                                                                                                                                                                                                                                                                                                                                                                                                                                                                                                                                                                                                                                                                                                                                                                                                                                                                                                                                                                                                                                                                                                                                                                                                                                                                                                                                                                                                                                                                                                                                                                                                                                                                                                                                                                                                                                                                                                                                                                                                                                                                  I have been trying to do a loan modification with Chase and all they do is give me the runaround I'm 72 mo behind they dont let me make payments I have aens all doc in but always asking more   \n",
       "43                                                                                                                                                                                                                                                                                                                                                                                                                                                                                                                                                                                                                                                                                                                                                                                                                                                                                                                                                                                                                                                                                                                                                                                                                                                                                                                                                                                                                                                                                                                                                                                                                                                                                                                                                                                                                                                                                                                                                                                                                                                                                                                                                                                                                                                                                                                                                                                                                                                                                                                                                                                                                                                                                                                  Chase sent me an email today with the innocuous title \" Important information regarding changes to your Chase account '' ( they often use similar titles for ads and other communications ). \\n\\nIn it, they force me into binding arbitration ( despite that never being something I had agreed to and never being a part of any contract between me and them ). \\n\\nThey do include a method to opt out, but have no additional information about the consequences ( many other people I've seen who have had a similar problem are afraid that Chase will close their account if they opt out ) and, even more egregiously, despite Chase simply sending an email doing this, they require me to mail them a letter with my personal information enclosed in order to opt out. \\n\\nThis is clearly less secure and a massive loss of both my time and money that is clearly being used solely to dissuade people from opting out. \\n\\nThis is blatant malpractice by Chase.   \n",
       "1                                                                                                                                                                                                                                                                                                                                                                                                                                                                                                                                                                                                                                                                                                                                                                                                                                                                                                                                                                                                                                                                                                                                                                                                                                                                                                                                                                                                                                                                                                                                                                                                                                                                                                                                                                                                                                                                                                                                                                                                                                                                                                                                                                                                                                                                                                                                                                                                                                                                                                                                                                                                                                                                                                                                                                                                                                                                                                                                                                                                                                                                                                                                                                                       Good morning my name is XXXX XXXX and I appreciate it if you could help me put a stop to Chase Bank cardmember services. \\nIn 2018 I wrote to Chase asking for debt verification and what they sent me a statement which is not acceptable. I am asking the bank to validate the debt. Instead I been receiving mail every month from them attempting to collect a debt. \\nI have a right to know this information as a consumer. \\n\\nChase account # XXXX XXXX XXXX XXXX Thanks in advance for your help.   \n",
       "20                                                                                                                                                                                                                                                                                                                                                                                                                                                                                                                                                                                                                                                                                                                                                                                                                                                                                                                                                                                                                                                                                                                                                                                                                                                                                                                                                                                                                                                                                                                                                                                                                                                                                                                                                                                                                                                                                                                                                                                                                                                                                                                                                                                                                                            During the summer months, I experience a decline income due to my employment. Therefore, I request a one month payment extension with my Auto Loan Company, Chase. For the past almost fours years, my request for payment extension is granted. I have never been delinquent with my auto loan payment. However, On XX/XX/2019 my request for a one month payment extension was denied this year. I explained my situation to representative and the supervisor with no avail. After a lengthy discussion and waiting, I was informed the reason for the decline as it is not \" contractual ''. This reason for denial baffled me and therefore I emailed the office of XXXX XXXX Executive Director, Communications, JPMorgan Chase & Co. A representative contacted me and stated Chase will follow-up. About week later a representative of XXXX XXXX XXXX XXXX office called. The representative shared her role was help resolve the matter. The representative via conference call contacted the department handing my request. After, reviewing my information my request was still denied based on \" policy changes ''. I requested an explanation and representative stated a letter will be mailed with explanation. I have received XXXX letters the reason for denial was not \" policy changes ''. I would like CFPB help in exploring the denial of my payment extension request especially since I have been clear reason for denial.   \n",
       "32                                                                                                                                                                                                                                                                                                                                                                                                                                                                                                                                                                                                                                                                                                                                                                                                                                                                                                                                                                                                                                                                                                                                                                                                                                                                                                                                                                                                                                                                                                                                                                                                                                            My chase amazon card was declined for a catering order I had placed for my brothers funeral in the amount of {$710.00}. I contacted chase around noon today XX/XX/2019 and was asked the last 4 numbers of my chase savings account and the other user on my account. I responded that I did not have a savings and I am only authorized user. Customer rep told me they would call me back in 10 minutes to keep the line open. I didnt receive a call back after an hour so I contacted chase. From the first call I thought someone was using my card fraudulently. I spoke to the rep who transferred me to a supervisor XXXX who said the card was activated and the transaction would process. Called the catering company and card was declined. I then used my XXXX  XXXX card to pay for the order. XXXX XXXX texted me asking if I was authorizing purchase and I responded yes. Contacted caterer and XXXX  XXXX was declined. I contacted chase again spoke to rep was told the initial questions are used to trick people to see what there answer would be. She told me the CVV code was incorrectly being input by the caterer and I responded that I had gone over the numbers and CVV used was correct. She told me the card was cleared for the purchase and she would monitor it for 24 hours. Called caterer - card declined. Use a MasterCard  which processed. Went to use chase amazon at restaurant at XXXX pm tonight in the amount of {$63.00} - it was declined. I was told by chase I was not over limit. Still frustrated figuring out multiple declines after several conversations with chase stating the card would be ok to use. Embarrassed as the caterer kept suggesting I was over my limit which I pay my card in full every month and chase confirmed that I was under my limit with the {$710.00} transaction. Never been declined by either chase or XXXX  XXXX before - today after multiple assurances that I was all set and card would be monitored to make sure transaction would clear - it never did   \n",
       "40                                                                                                                                                                                                                                                                                                                                                                                                                                                                                                                                                                                                                                                                                                                                                                                                                                                                                                                                                                                                                                                                                                                                                                                                                                                                                                                                                                                                                                                                                                                                                                                                                                                                                                                                                                                                                                                                                                                                                                                                                                                                                                                                                                                                                                                                                                                                                                                                                                                                                                                                                                                                                                                                                                                                                                                                                                                                                                                                                                                                                                                                                                                                                                                                                                                                                                                                                                                                                                                                                                                           XXXX XXXX a sofa, love seat, table and chairs and was never delivered. Debit card charged {$2400.00}. Bank says Visa denied claim, we have no furniture and no money.   \n",
       "21   On XXXX XX/XX/2019, I made a {$300.00} payment to an online retailer using Chase quick pay with XXXX on the Chase website. I realized that this was a scam website after no confirmation, product, or response to any inquiries regarding the order and contacted Chase to get more information about the transaction to attempt getting a refund through the retailers bank. \\n\\nI contacted Chase via a secured message on XX/XX/2019 explaining what happened and asked \" Is there a way to reverse this transaction, or do you have a contact at XXXX that can give me more information about the recipient? '' That XXXX, my message was reviewed and I received a response restating my original email and informing me that \" The transfer has been completed. However, as you mentioned that the website is a scam while we can handle most inquiries by email, some require the expertise of another team. In order to assist you better in regards to the refund we request you to call our Consumer Online Technical Support Team. '' I called the number listed in the email and explained my situation to then be transferred to the claims department. I was directed to call XXXX and ask them about the transaction because Chase did not have any information outside of what I provided when initiating the transfer. I felt like this agent was trying to get me to end the call as quickly as possible and I had to interrupt her closing script to ask for a contact number at XXXX and didn't have an opportunity to get any information about what the right questions would be to ask XXXX or what words and phrases I should use to get the information I was looking for. \\n\\nI called XXXX who's automated system initially directed me to call my bank because I used the banks app to initiate the transaction. I called XXXX again to navigate their menus and talk to a customer service agent. They told me that all of the information about the transaction would in Chase 's system because I used the banks app to perform the transaction. She stayed on the line with me until I understood everything that I should ask and had a better understanding of the situation. I ended the call and called chase again. \\n\\nWhen I called chase the second time, the agent tried to look up the information about the receiving bank but could not find any additional information. She then asked me why I needed this information and I explained my situation again. I was once again transferred to the claims department, who told me that I needed to contact XXXX to get the information I was looking for. After I told her that I had already contacted them, she finally admitted that there was nothing that she could do due to the nature of the transaction and that these types of transactions are not secured. She said that Chase had no information about the recipient other than the email address that I inputted and that the recipients banking information was not kept in the system. In both phone calls, they asked if I initiated that transaction, and used that to absolve themselves of all responsibility in regards to this matter. \\n\\nDuring this whole process, it felt like Chase was not transparent about their policies regarding these types of transactions nor were they helpful in helping me get any information about the situation. These transactions are advertised as a \" fast, safe and easy way to send money, '' but seem to be a dangerous way to do business. I feel deceived by Chase 's advertising and further victimized by the way I was treated by the members on their customer service team.   \n",
       "2                                                                                                                                                                                                                                                                                                                                                                                                                                                                                                                                                                                                                                                                                                                                                                                                                                                                                                                                                                                                                                                                                                                                                                                                                                                                                                                                                                                                                                                                                                                                                                                                                                                                                                                                                                                                                                                                                                                                                                                                                                                                                                                                                                                                                                                                                                                                                                                                                                                                                                                                                                                                                                                                                                                                                                                                                                                                                                                                                                                                                                                                                                                                                                                                                                                                                                                              I upgraded my XXXX XXXX card in XX/XX/2018 and was told by the agent who did the upgrade my anniversary date would not change. It turned the agent was giving me the wrong information in order to upgrade the account. XXXX   changed my anniversary date from XX/XX/XXXX to XX/XX/XXXX without my consent! XXXX has the recording of the agent who was misled me.   \n",
       "30                                                                                                                                                                                                                                                                                                                                                                                                                                                                                                                                                                                                                                                                                                                                                                                                                                                                                                                                                                                                                                                                                                                                                                                                                                                                                                                                                                                                                                                                                                                                                                                                                                                                                                                                                                                                                                                                                                                                                                                                                                                                                                                                                                                                                                                                                                                                                                                                                                                                                                                                                                                                                                                                                                                                                                                                                                                                                                                                                                                                                                                                                                      To whom it may concern, Chase bank charged wrongly overdraft fees, I have alert of low balance or unsuficent fee balance and always deposit immediatly to cover transactions if needed but Chase always changed the order and charged me overdraft fee anyway. when you call they said their per their guidelines they don't refund more then 2 overdrawft doesn't matter bank fault or not.\\n\\nTaken {$34.00} from people is money just because you can is not Ok.\\n\\nSee attached documents. When Chase refund, they always find the way to take back what they refunded in first place.   \n",
       "164                                                                                                                                                                                                                                                                                                                                                                                                                                                                                                                                                                                                                                                                                                                                                                                                                                                                                                                                                                                                                                                                                                                                                                                                                                                                                                                                                                                                                                                                                                                                                                                                                                                                                                                                                                                                                                                                                                                                                                                                                                                                                                                                                                                                                                                                                                                                                                                                                                                                                                                                                                                                                                                                                                                                                                                                                                                  In XXXX of this year Chase withdrew money from my escrow account to pay my property taxes. However, they also withdrew money to pay for another property that I do not own or has any connection with me or my account. \\n\\nThis left me in an escrow shortage and they have adjusted my monthly payment to reflect this as well. I called to explain their mistake, and they took two weeks but finally managed to remove the incorrect parcel from my account. \\n\\nHowever, they are not refunding the erroneous tax payment they made from my escrow account and are instead \" waiting '' for the local municipality to refund the money. \\n\\nFrom my perspective, Chase, without my immediate knowledge or permission has misappropriated funds from my escrow account and now I am stuck footing the bill until they get the money back.   \n",
       "58                                                                                                                                                                                                                                                                                                                                                                                                                                                                                                                                                                                                                                                                                                                                                                                                                                                                                                                                                                                                                                                                                                                                                                                                                                                                                                                                                                                                                                                                                                                                                                                                                                                                                                                                                                                                                                                                                                                                                                                                                                                                                                                                                                                                                                                                                                                                                                 I made a purchase of {$260.00} on XX/XX/XXXX. I made payments of {$160.00} on XX/XX/XXXX and {$260.00} on XX/XX/XXXX. The minimum payment was {$140.00}. The closing date was XX/XX/XXXX ( please see attached statement ). That statement ( XX/XX/XXXX ) shows that I had an outstanding purchase balance of {$230.00} on XX/XX/XXXX. I have enclosed the previous months statement to show that there were NO other purchases prior to the one on XX/XX/XXXX. \\nHowever, when I got the XXXX statement, it shows that I still have a purchase balance of {$210.00}. I have a promotional balance (@XXXX ) in XXXX of {$6900.00}. In XXXX, the promotional balance was {$7200.00} - a difference of {$380.00}. \\n\\nApparently, the payment ( above the minimum payment required by Chase ) I thought would be applied to the purchase (@ 21.49 % ) was applied to the promotional balance first. It is my understanding that once the minimum payment has been met, payments in excess of the minimum would be applied to the highest interest rate balance first. This is not the first time that Chase has skirted US Financial Law to turn a larger profit. I need help in rectifying this problem, because my logic fell on deaf ears at Chase. Thank you in advance for your assistance. \\n\\nRespectfully, XXXX XXXX XXXX   \n",
       "82                                                                                                                                                                                                                                                                                                                                                                                                                                                                                                                                                                                                                                                                                                                                                                                                                                                                                                                                                                                                                                                                                                                                                                                                                                                                                                                                                                                                                                                                                                                                                                                                                                                                                                                                                                                                                                                                                                                                                                                                                                                                                                                                                                                                                                                            I recently called to ask Chase bank why they reported to the credit Bureau that I was 30 days late on a payment that was already paid off. When I called I got this info : They showed that on the XXXX of XX/XX/2019 I was very late on my bill and owed XXXX to bring this balance down to XXXX and be finished with the bill. I paid that amount on the same day the XXXX to being it to XXXX. \\n\\nTHey say that I tried to make another payment for {$250.00} later that same day and in a few days that came back as a return payment. \\n\\nThe man on the phone stated to me that if the payment went through then it would have meant that I had a credit on my account for XXXX since I didnt owe anything. \\n\\nThey updated my account with charges and late fees from the return payment that I had no idea of since I thought I paid off the entire amount. They reported to the credit Bureau that I was 30 days late for not paying what accrued to be {$56.00} The guy representing Chase agreed with me that they were in the wrong for charging me the fees and said they would remove them. I still have {$2.00} in the negative that they are saying that i owe in the mobile app. \\n\\nAdditionally, because they reported me being late my credit score dropped 51 points. When I called back to ask if they can report that they made a mistake they said I would have to do that on my own. I think that's XXXX.   \n",
       "115                                                                                                                                                                                                                                                                                                                                                                                                                                                                                                                                                                                                                                                                                                                                                                                                                                                                                                                                                                                                                                                                                                                                                                                                                                                                                                                                                                                                                                                                                                                                                                                                                                                                                                                                                                                                                                                                                                                                                                                                                                                                                                                                                                                                                                                                                                                                                                                                                                                                                                                                                                                                                                                                                                                                                                                                                                                                                                                                                      Multiple times with the latest being XX/XX/XXXX chase has manipulated the order credits and debits come out of the account so they can collect late fees. I have receipts and screen shots showing a positive balance after a deposit and the next morning there are multiple bounced checks. First time i brought this up it was made right and I was told deposits have to be made before XXXX no mention of eastern time. This last time i made sure my deposit was before XXXX and now they are saying XXXX eastern. Their reps should no this stuff. On top of this they organize the transactions so they can maximize the amount of things over drafting. they had a class action lawsuit XXXX dealing with this exact same thing.   \n",
       "167                                                                                                                                                                                                                                                                                                                                                                                                                                                                                                                                                                                                                                                                                                                                                                                                                                                                                                                                                                                                                                                                                                                                                                                                                                                                                                                                                                                                                                                                                                                                                                                                                                                                                                                                                                                                                                                                                                                                                                                                                                                                                                                                                                                                                                                                                                                                                                                                                                                                                                                                                                                                                                                                                                                                                                                                                                                                                                                                                                                                                                                                                                                                                                                                                                                                                                                                             A double payment from my chase debt cart to chase credit card posted. They wont refund only put in a request and will be 3-5 days before refunded. That money was for from now until Tuesday when I get paid and that required me to pay them {$30.00} fee to stop a pending bill payment to another payee so I atleast have {$200.00} at midnight   \n",
       "\n",
       "                                                                                                                                                                                                                                                                                                                                                                                                                                                                                                                                                                                                                                                                                                                                                                                                                                                                                                                                                                                                                                                                                                                                                                                                                                                                                                                                                                                                                                                                                                                                                                                                                                                                                                                                                                                                                                                                                                                                                                                                                                                                            lemmatized complaints  \\\n",
       "27                                                                                                                                                                                                                                                                                                                                                                                                                                                                                                                                                                                                                                                                                                                                                                                                                                                                                                                                                                                                                                                                                                                                                                                                                                                                                                                                                                                                                                                                                                                                                                                                                                                                                                                                                                                                                                                      open account chase bank xxxx use code xxxx bonus call follow xxxxxxxx term tell everything account make xxxx direct deposit bonus would pay days xxxx make require deposit tell account never coupon code apply past days bonus would pay   \n",
       "14                                                                                                                                                                                                                                                                                                                                                                                                                                                                                                                                                                                                                                                                                                                                                                                                                                                                                                                                                                                                                                                                                                                                                                                                                                                                                                                                                                                                                                                                                                                                                                                                                                                                                                                                                                                      grand son give check deposit chase account fund clear chase bank close account never pay money say need speek grand son check clear money take chase bank refuse pay money grand son call chase time tell call verify check owner country time date happen xxxx check number xxxx claim number xxxx chase   \n",
       "17                                                                                                                                                                                                                                                                                                                                                                                                                                                                                                                                                                                                                                               notice jp morgan chase restrict account debit card tuesday xxxx thursday xxxx go branch advise customer service representative account would actually close go branch see remove fund currently well direct deposit place employment would return bank associate customer service representative assure fund would post may take additional business day saturday attempt go inside branch yet retrieve fund actually post friday xxxx upon look account realize fund reverse longer present current statement ive call tell may take two business day state tuesday xxxxxxxx would date fund would available withdraw bank teller chase inform mail check three business days recover fund owe leave account currently unfortunately put additional financial bind two fee late rent late car payments etc short give write notice things actually occur peace mind fact chase handle situation grossly even bank teller inform account look suspicious give suspicious look although know chase reserve right close account time believe protocol past give notice form write document shore give write notice things actually occur peace mind fact chase handle situation grossly even bank teller inform account look suspicious give suspicious look although know chase reserve right close account time believe protocol past give notice form write document situation truly affect livelihood dont seem want deal professionally thank   \n",
       "24                                                                                                                                                                                                                                                                                                                                                                                                                                                                                                                                                                                                                                                                                                                                                                                                                                                                                                                                                                                                                                                                                                                                                                                                                                                                                                                                                                                                                                                                                                                                                                                                                                                                                                                                                                                                                                                                                                                                                                                                                                                              mishandle account chase auto xxxx   \n",
       "35                                                                                                                                                                                                                                                                                                                                                                                                                                                                                                                                                                                                                                                                                                                                                                                                                                                                                                                                                                                                                                                                                                                                                                                                                                                                                                                                                                                                                                                                                                                                                                                                                                                                                                                                                           open save account bonus suppose receive bonus consecutive auto transfer check save notice xxxx automatic transfer cancel enough fund check account therefore put enough fund account xxxx request executive team reactivate automatic transfer month xxxx although ms xxxx reach executive office fail try resolve concern case xxxx   \n",
       "10                                                                                                                                                                                                                                                                                                                                                                                                                                                                                                                                                                                                                                                                                                                                                                                                                                                                                                                                                                                                                                                                                                                                                                                                                                                                                                                                                                                                                                                                                                                                                                                                                                                                                                                                                                                                                                                                                                                              chase card report xxxx however fraudulent application submit identity without consent fraudulently obtain service extend credit without verify identity applicant   \n",
       "11                                                                                                                                                                                                                                                                                                                                                                                                                                                                                                                                                                                                                                                                                                                                                                                                                                                                                                                                                                                                                                                                                                                                                                                       xxxx try book xxxx xxxx ticket come across offer apply towards ticket apply reward card put information offer within less minute notify via screen decision could make immediately contact xxxx refer chase bank immediately contact chase bank within minutes get notification screen tell chase representative speak application deny could state ask information xxxx offer explain even approve credit offer get apply first account statement could use purchase ticket explicitly tell glad get deny absolutely longer interest account ask application withdraw representative oblige happen later mins put application xxxx notwithstanding explicit request proceed application contrary tell chase representative chase fact go ahead open credit account name xxxx report credit report chase refuse correct information credit report even though go ahead process application consent error   \n",
       "15                                                                                                                                                                                                                                                                                                                                                                                                                                                                                                                                                                                                                                                                                                                                                                                                                                                                                                                                                                                                                                                                                                                                                                                                                                                                                                                                                                                                                                                                                                                                                                                                                                                                                                                                                                                                                                                                                                                                                                                                                                                                          please remove inquiry   \n",
       "23                                                                                                                                                                                                                                                                                                                                                                                                                                                                                                                                                                                                                                                                                                                                                                                                                                                                                                                                                                                                                                                                                                                                                                                                                                                                                                                                                                                                                                                                                                                                                                                                                                                                                                                                                                                                                                                                                                                                                                                                             chase credit card incorrectly report data credit report company help resolve issue   \n",
       "26                                                                                                                                                                                                                                                                                                                                                                                                                                                                                                                                                                                                                                                                                                                                                                                                                                                                                                                                                                                                                                                                                                                                                                                                                                                                                                                                                                                                                                                                                                                                                                                                                           reach xxxx several time attempt fraudulent inquiry remove tell need call contact original creditor place inquiry report make several attempt get chase bank contact bureau remove inquiry authorize seem able get right person take care issue matter many attempt make nobody seem understand im talkin want chase bank fraudulent inquiry remove credit report take legal action never request kind credit chase bank hold account iquiry xxxx want matter resolve   \n",
       "73                                                                                                                                                                                                                                                                                                                                                                                                                                                                                                                                                                                                                                                                                                                                                                                                                                                                                                                                                                                                                                                                                                                                                                                                                                                                             wire one chase branch xxxx xxxx exact reinstatement amount jpmorgan chase bank order removewithdraw wrongful foreclosure proceed residential propertyhowever chase executive ms xxxx xxxx trustee xxxx xxxx xxxx xxxx honor even rule regulations want total payoff order remove wrongful foreclosure proceed sales date xxxx xxxx xxxx family residentshe know prepare xxxx short time thats ask minimum reinstatement amount avoid foreclosure without resort chapter xxxx bankruptcy filingi appreciate assistant bring jpmorgan chase foreclosure trustee xxxx xxxx xxxx xxxx quality sense stop harass family fraudulent default claim explain previous complaint xxxxxxxxmy previous complaint id xxxx submit xxxx product mortgage issue wrongful foreclosurethank xxxx xxxx tell xxxx xxxx email xxxx xxxx   \n",
       "57                                                                                                                                                                                                                                                                                                                                                                                                                                                                                                                                                                                                                                                                                                                                                                                                                                                                                                                                                                                                                                                                                                                                                                                                                                                                                                                                                                                                                                                                                                                                                                                                                                                                                                                                                                                                                                                                                                                                                                                             try loan modification chase give runaround im mo behind dont let make payments aens doc always ask   \n",
       "43                                                                                                                                                                                                                                                                                                                                                                                                                                                                                                                                                                                                                                                                                                                                                                                                                                                                                                                                                                                                                                                                                                                                                                                                                                                                                                                                                                                                                                                                                                                                chase send email today innocuous title important information regard change chase account often use similar title ads communications force bind arbitration despite never something agree never part contract include method opt additional information consequences many people ive see similar problem afraid chase close account opt even egregiously despite chase simply send email require mail letter personal information enclose order opt clearly less secure massive loss time money clearly use solely dissuade people opt blatant malpractice chase   \n",
       "1                                                                                                                                                                                                                                                                                                                                                                                                                                                                                                                                                                                                                                                                                                                                                                                                                                                                                                                                                                                                                                                                                                                                                                                                                                                                                                                                                                                                                                                                                                                                                                                                                                                                                                                                                                          good morning name xxxx xxxx appreciate could help put stop chase bank cardmember service write chase ask debt verification send statement acceptable ask bank validate debt instead receive mail every month attempt collect debt right know information consumer chase account xxxx xxxx xxxx xxxx thank advance help   \n",
       "20                                                                                                                                                                                                                                                                                                                                                                                                                                                                                                                                                                                                                                                                                                                                                                                                                                                                                                                                                                                                                                                                                   summer months experience decline income due employment therefore request one month payment extension auto loan company chase past almost fours years request payment extension grant never delinquent auto loan payment however xxxx request one month payment extension deny year explain situation representative supervisor avail lengthy discussion wait inform reason decline contractual reason denial baffle therefore email office xxxx xxxx executive director communications jpmorgan chase co representative contact state chase followup week later representative xxxx xxxx xxxx xxxx office call representative share role help resolve matter representative via conference call contact department hand request review information request still deny base policy change request explanation representative state letter mail explanation receive xxxx letter reason denial policy change would like cfpb help explore denial payment extension request especially since clear reason denial   \n",
       "32                                                                                                                                                                                                                                                                                                                                                                                                                                                                                                                                                                                                                                                                                                                                                                                                                                                      chase amazon card decline cater order place brothers funeral amount contact chase around noon today xxxx ask last number chase save account user account respond save authorize user customer rep tell would call back minutes keep line open didnt receive call back hour contact chase first call think someone use card fraudulently speak rep transfer supervisor xxxx say card activate transaction would process call cater company card decline use xxxx xxxx card pay order xxxx xxxx texted ask authorize purchase respond yes contact caterer xxxx xxxx decline contact chase speak rep tell initial question use trick people see answer would tell cvv code incorrectly input caterer respond go number cvv use correct tell card clear purchase would monitor hours call caterer card decline use mastercard process go use chase amazon restaurant xxxx pm tonight amount decline tell chase limit still frustrate figure multiple decline several conversations chase state card would ok use embarrass caterer keep suggest limit pay card full every month chase confirm limit transaction never decline either chase xxxx xxxx today multiple assurances set card would monitor make sure transaction would clear never   \n",
       "40                                                                                                                                                                                                                                                                                                                                                                                                                                                                                                                                                                                                                                                                                                                                                                                                                                                                                                                                                                                                                                                                                                                                                                                                                                                                                                                                                                                                                                                                                                                                                                                                                                                                                                                                                                                                                                                                                                                                                                                  xxxx xxxx sofa love seat table chair never deliver debit card charge bank say visa deny claim furniture money   \n",
       "21   xxxx xxxx make payment online retailer use chase quick pay xxxx chase website realize scam website confirmation product response inquiries regard order contact chase get information transaction attempt get refund retailers bank contact chase via secure message xxxx explain happen ask way reverse transaction contact xxxx give information recipient xxxx message review receive response restate original email inform transfer complete however mention website scam handle inquiries email require expertise another team order assist better regard refund request call consumer online technical support team call number list email explain situation transfer claim department direct call xxxx ask transaction chase information outside provide initiate transfer felt like agent try get end call quickly possible interrupt close script ask contact number xxxx didnt opportunity get information right question would ask xxxx word phrase use get information look call xxxx whos automate system initially direct call bank use bank app initiate transaction call xxxx navigate menus talk customer service agent tell information transaction would chase system use bank app perform transaction stay line understand everything ask better understand situation end call call chase call chase second time agent try look information receive bank could find additional information ask need information explain situation transfer claim department tell need contact xxxx get information look tell already contact finally admit nothing could due nature transaction type transactions secure say chase information recipient email address inputted recipients bank information keep system phone call ask initiate transaction use absolve responsibility regard matter whole process felt like chase transparent policies regard type transactions helpful help get information situation transactions advertise fast safe easy way send money seem dangerous way business feel deceive chase advertise victimize way treat members customer service team   \n",
       "2                                                                                                                                                                                                                                                                                                                                                                                                                                                                                                                                                                                                                                                                                                                                                                                                                                                                                                                                                                                                                                                                                                                                                                                                                                                                                                                                                                                                                                                                                                                                                                                                                                                                                                                                                                                                                                                                   upgrade xxxx xxxx card xxxx tell agent upgrade anniversary date would change turn agent give wrong information order upgrade account xxxx change anniversary date xxxxxxxx xxxxxxxx without consent xxxx record agent mislead   \n",
       "30                                                                                                                                                                                                                                                                                                                                                                                                                                                                                                                                                                                                                                                                                                                                                                                                                                                                                                                                                                                                                                                                                                                                                                                                                                                                                                                                                                                                                                                                                                                                                                                                                                                                                                             may concern chase bank charge wrongly overdraft fee alert low balance unsuficent fee balance always deposit immediatly cover transactions need chase always change order charge overdraft fee anyway call say per guidelines dont refund overdrawft doesnt matter bank fault nottaken people money oksee attach document chase refund always find way take back refund first place   \n",
       "164                                                                                                                                                                                                                                                                                                                                                                                                                                                                                                                                                                                                                                                                                                                                                                                                                                                                                                                                                                                                                                                                                                                                                                                                                                                                                                                                                                                                                                                                                                                                                                              xxxx year chase withdraw money escrow account pay property tax however also withdraw money pay another property connection account leave escrow shortage adjust monthly payment reflect well call explain mistake take two weeks finally manage remove incorrect parcel account however refund erroneous tax payment make escrow account instead wait local municipality refund money perspective chase without immediate knowledge permission misappropriate fund escrow account stick foot bill get money back   \n",
       "58                                                                                                                                                                                                                                                                                                                                                                                                                                                                                                                                                                                                                                                                                                                                                                                                                                                                                                                                                                                                                                                                                                                                                                                                                                                                                                                      make purchase xxxxxxxx make payments xxxxxxxx xxxxxxxx minimum payment close date xxxxxxxx please see attach statement statement xxxxxxxx show outstanding purchase balance xxxxxxxx enclose previous months statement show purchase prior one xxxxxxxx however get xxxx statement show still purchase balance promotional balance xxxx xxxx xxxx promotional balance difference apparently payment minimum payment require chase think would apply purchase apply promotional balance first understand minimum payment meet payments excess minimum would apply highest interest rate balance first first time chase skirt us financial law turn larger profit need help rectify problem logic fell deaf ears chase thank advance assistance respectfully xxxx xxxx xxxx   \n",
       "82                                                                                                                                                                                                                                                                                                                                                                                                                                                                                                                                                                                                                                                                                                                                                                                                                                                                                                                                                                                                                                                                                                                                                                                                                                                                                                                                                                                                         recently call ask chase bank report credit bureau days late payment already pay call get info show xxxx xxxx late bill owe xxxx bring balance xxxx finish bill pay amount day xxxx xxxx say try make another payment later day days come back return payment man phone state payment go would mean credit account xxxx since didnt owe anything update account charge late fee return payment idea since think pay entire amount report credit bureau days late pay accrue guy represent chase agree wrong charge fee say would remove still negative say owe mobile app additionally report late credit score drop point call back ask report make mistake say would think thats xxxx   \n",
       "115                                                                                                                                                                                                                                                                                                                                                                                                                                                                                                                                                                                                                                                                                                                                                                                                                                                                                                                                                                                                                                                                                                                                                                                                                                                                                                                                                                                                                                                                                                                                                                                                                                                                  multiple time latest xxxxxxxx chase manipulate order credit debit come account collect late fee receipt screen shots show positive balance deposit next morning multiple bounce check first time bring make right tell deposit make xxxx mention eastern time last time make sure deposit xxxx say xxxx eastern reps stuff top organize transactions maximize amount things draft class action lawsuit xxxx deal exact thing   \n",
       "167                                                                                                                                                                                                                                                                                                                                                                                                                                                                                                                                                                                                                                                                                                                                                                                                                                                                                                                                                                                                                                                                                                                                                                                                                                                                                                                                                                                                                                                                                                                                                                                                                                                                                                                                                                                                                                                                                                      double payment chase debt cart chase credit card post wont refund put request days refund money tuesday get pay require pay fee stop pending bill payment another payee atleast midnight   \n",
       "\n",
       "                                                                                                                                                                                                                                                                                                                                                                                                                                                                                                                                                                                                                                                                                                                                                                                                                                                                                                                                                                                                                                                                                                                                                                                                                                                                                                                                                                                                                                                                                              complaint_POS_removed  \\\n",
       "27                                                                                                                                                                                                                                                                                                                                                                                                                                                                                                                                                                                                                                                                                                                                                                                                                                                                                                                                                                                                                                                                                                                                                                                                                                        [(account, NN), (bank, NN), (xxxx, NN), (use, NN), (code, NN), (bonus, NN), (call, NN), (term, NN), (tell, NN), (everything, NN), (account, NN), (xxxx, NN), (deposit, NN), (bonus, NN), (deposit, NN), (tell, NN), (account, NN), (coupon, NN), (code, NN), (bonus, NN)]   \n",
       "14                                                                                                                                                                                                                                                                                                                                                                                                                                                                                                                                                                                                                                                                                                                                                                                                                                                                                                                                                                                                                                                                                                                                         [(son, NN), (check, NN), (deposit, NN), (chase, NN), (account, NN), (fund, NN), (bank, NN), (account, NN), (money, NN), (son, NN), (check, NN), (money, NN), (bank, NN), (refuse, NN), (pay, NN), (money, NN), (son, NN), (call, NN), (time, NN), (check, NN), (owner, NN), (country, NN), (time, NN), (date, NN), (number, NN), (claim, NN), (number, NN), (chase, NN)]   \n",
       "17                                                                                                                                                                                                                                                                                                                         [(jp, NN), (restrict, NN), (account, NN), (debit, NN), (card, NN), (tuesday, NN), (thursday, NN), (branch, NN), (customer, NN), (service, NN), (account, NN), (branch, NN), (fund, NN), (deposit, NN), (place, NN), (employment, NN), (bank, NN), (customer, NN), (service, NN), (assure, NN), (fund, NN), (business, NN), (day, NN), (attempt, NN), (branch, NN), (fund, NN), (look, NN), (fund, NN), (reverse, NN), (statement, NN), (call, NN), (tell, NN), (business, NN), (day, NN), (state, NN), (tuesday, NN), (date, NN), (fund, NN), (bank, NN), (teller, NN), (chase, NN), (mail, NN), (check, NN), (business, NN), (fund, NN), (owe, NN), (account, NN), (bind, NN), (fee, NN), (rent, NN), (car, NN), (peace, NN), (mind, NN), (fact, NN), (situation, NN), (bank, NN), (teller, NN), (inform, NN), (account, NN), (look, NN), (time, NN), (protocol, NN), (notice, NN), (form, NN), (document, NN), (notice, NN), (peace, NN), (mind, NN), (fact, NN), (situation, NN), (bank, NN), (teller, NN), (inform, NN), (account, NN), (look, NN), (time, NN), (protocol, NN), (notice, NN), (form, NN), (document, NN), (situation, NN), (livelihood, NN), (dont, NN), (deal, NN)]   \n",
       "24                                                                                                                                                                                                                                                                                                                                                                                                                                                                                                                                                                                                                                                                                                                                                                                                                                                                                                                                                                                                                                                                                                                                                                                                                                                                                                                                                                                                                                                                          [(account, NN), (auto, NN), (xxxx, NN)]   \n",
       "35                                                                                                                                                                                                                                                                                                                                                                                                                                                                                                                                                                                                                                                                                                                                                                                                                                                                                                                                                                                                                                                                                                                           [(save, NN), (account, NN), (bonus, NN), (bonus, NN), (auto, NN), (transfer, NN), (check, NN), (notice, NN), (transfer, NN), (cancel, NN), (fund, NN), (check, NN), (account, NN), (fund, NN), (account, NN), (request, NN), (executive, NN), (team, NN), (transfer, NN), (month, NN), (executive, NN), (office, NN), (try, NN), (resolve, NN), (concern, NN), (case, NN), (xxxx, NN)]   \n",
       "10                                                                                                                                                                                                                                                                                                                                                                                                                                                                                                                                                                                                                                                                                                                                                                                                                                                                                                                                                                                                                                                                                                                                                                                                                                                                                                                                                         [(card, NN), (report, NN), (application, NN), (submit, NN), (identity, NN), (consent, NN), (service, NN), (credit, NN), (identity, NN), (applicant, NN)]   \n",
       "11                                                                                                                                                                                                                                                                                                                                                                                                                                                                                                                                                                                                                      [(try, NN), (book, NN), (ticket, NN), (come, NN), (offer, NN), (apply, NN), (ticket, NN), (card, NN), (information, NN), (offer, NN), (notify, NN), (decision, NN), (refer, NN), (chase, NN), (bank, NN), (chase, NN), (bank, NN), (screen, NN), (speak, NN), (application, NN), (deny, NN), (state, NN), (information, NN), (xxxx, NN), (offer, NN), (credit, NN), (offer, NN), (account, NN), (statement, NN), (purchase, NN), (ticket, NN), (get, NN), (deny, NN), (interest, NN), (account, NN), (application, NN), (representative, NN), (oblige, NN), (application, NN), (xxxx, NN), (request, NN), (proceed, NN), (application, NN), (tell, NN), (chase, NN), (chase, NN), (fact, NN), (credit, NN), (account, NN), (name, NN), (report, NN), (credit, NN), (report, NN), (chase, NN), (information, NN), (credit, NN), (report, NN), (application, NN), (consent, NN), (error, NN)]   \n",
       "15                                                                                                                                                                                                                                                                                                                                                                                                                                                                                                                                                                                                                                                                                                                                                                                                                                                                                                                                                                                                                                                                                                                                                                                                                                                                                                                                                                                                                                                                                                  [(inquiry, NN)]   \n",
       "23                                                                                                                                                                                                                                                                                                                                                                                                                                                                                                                                                                                                                                                                                                                                                                                                                                                                                                                                                                                                                                                                                                                                                                                                                                                                                                                                                                                                                  [(chase, NN), (credit, NN), (card, NN), (credit, NN), (report, NN), (company, NN), (issue, NN)]   \n",
       "26                                                                                                                                                                                                                                                                                                                                                                                                                                                                                                                                                                                                                                                                                                                                                                                                                                                                                                                                                                                                                                                 [(reach, NN), (time, NN), (inquiry, NN), (tell, NN), (contact, NN), (creditor, NN), (place, NN), (report, NN), (attempt, NN), (bank, NN), (contact, NN), (bureau, NN), (inquiry, NN), (authorize, NN), (get, NN), (person, NN), (care, NN), (issue, NN), (nobody, NN), (im, NN), (talkin, NN), (chase, NN), (bank, NN), (inquiry, NN), (credit, NN), (report, NN), (action, NN), (kind, NN), (credit, NN), (chase, NN), (bank, NN), (account, NN), (matter, NN)]   \n",
       "73                                                                                                                                                                                                                                                                                                                                                                                                                                                                                                                                                                                                                                                                                                                       [(wire, NN), (chase, NN), (branch, NN), (reinstatement, NN), (amount, NN), (bank, NN), (order, NN), (foreclosure, NN), (propertyhowever, NN), (chase, NN), (executive, NN), (ms, NN), (trustee, NN), (payoff, NN), (order, NN), (foreclosure, NN), (date, NN), (xxxx, NN), (family, NN), (residentshe, NN), (prepare, NN), (time, NN), (reinstatement, NN), (amount, NN), (foreclosure, NN), (resort, NN), (chapter, NN), (bankruptcy, NN), (filingi, NN), (appreciate, NN), (assistant, NN), (bring, NN), (jpmorgan, NN), (foreclosure, NN), (trustee, NN), (quality, NN), (sense, NN), (stop, NN), (harass, NN), (family, NN), (default, NN), (claim, NN), (complaint, NN), (complaint, NN), (id, NN), (submit, NN), (product, NN), (mortgage, NN), (issue, NN), (tell, NN), (xxxx, NN)]   \n",
       "57                                                                                                                                                                                                                                                                                                                                                                                                                                                                                                                                                                                                                                                                                                                                                                                                                                                                                                                                                                                                                                                                                                                                                                                                                                                                                                                                                                                                                    [(try, NN), (loan, NN), (modification, NN), (chase, NN), (runaround, NN), (im, NN), (mo, NN)]   \n",
       "43                                                                                                                                                                                                                                                                                                                                                                                                                                                                                                                                                                                                                                                                                                                                                                                                                                                                                                                                                                                                                                                  [(send, NN), (email, NN), (today, NN), (title, NN), (information, NN), (regard, NN), (change, NN), (chase, NN), (account, NN), (title, NN), (arbitration, NN), (something, NN), (part, NN), (contract, NN), (method, NN), (information, NN), (problem, NN), (chase, NN), (account, NN), (chase, NN), (email, NN), (require, NN), (mail, NN), (letter, NN), (information, NN), (order, NN), (loss, NN), (time, NN), (money, NN), (malpractice, NN), (chase, NN)]   \n",
       "1                                                                                                                                                                                                                                                                                                                                                                                                                                                                                                                                                                                                                                                                                                                                                                                                                                                                                                                                                                                                                                                                                                                                                          [(morning, NN), (name, NN), (appreciate, NN), (chase, NN), (bank, NN), (cardmember, NN), (service, NN), (chase, NN), (debt, NN), (verification, NN), (statement, NN), (bank, NN), (debt, NN), (mail, NN), (month, NN), (attempt, NN), (debt, NN), (right, NN), (information, NN), (consumer, NN), (chase, NN), (account, NN), (advance, NN), (help, NN)]   \n",
       "20                                                                                                                                                                                                                                                                                                                                   [(summer, NN), (experience, NN), (income, NN), (employment, NN), (month, NN), (payment, NN), (extension, NN), (auto, NN), (loan, NN), (company, NN), (payment, NN), (extension, NN), (grant, NN), (auto, NN), (loan, NN), (payment, NN), (month, NN), (payment, NN), (extension, NN), (deny, NN), (year, NN), (situation, NN), (representative, NN), (supervisor, NN), (avail, NN), (discussion, NN), (wait, NN), (inform, NN), (reason, NN), (decline, NN), (reason, NN), (baffle, NN), (office, NN), (xxxx, NN), (executive, NN), (director, NN), (co, NN), (contact, NN), (state, NN), (chase, NN), (followup, NN), (week, NN), (office, NN), (call, NN), (representative, NN), (share, NN), (role, NN), (help, NN), (matter, NN), (conference, NN), (call, NN), (contact, NN), (department, NN), (hand, NN), (request, NN), (review, NN), (information, NN), (request, NN), (base, NN), (policy, NN), (change, NN), (request, NN), (explanation, NN), (state, NN), (letter, NN), (mail, NN), (explanation, NN), (letter, NN), (reason, NN), (policy, NN), (change, NN), (cfpb, NN), (help, NN), (payment, NN), (extension, NN), (request, NN), (reason, NN), (denial, NN)]   \n",
       "32                                                                                                                                                                                              [(chase, NN), (decline, NN), (cater, NN), (order, NN), (place, NN), (amount, NN), (contact, NN), (chase, NN), (noon, NN), (today, NN), (ask, NN), (number, NN), (chase, NN), (account, NN), (account, NN), (respond, NN), (customer, NN), (rep, NN), (tell, NN), (line, NN), (didnt, NN), (call, NN), (hour, NN), (contact, NN), (chase, NN), (someone, NN), (card, NN), (rep, NN), (transfer, NN), (supervisor, NN), (card, NN), (transaction, NN), (cater, NN), (company, NN), (card, NN), (decline, NN), (use, NN), (card, NN), (pay, NN), (order, NN), (purchase, NN), (respond, NN), (contact, NN), (caterer, NN), (decline, NN), (contact, NN), (chase, NN), (rep, NN), (question, NN), (use, NN), (code, NN), (caterer, NN), (respond, NN), (number, NN), (cvv, NN), (use, NN), (card, NN), (purchase, NN), (decline, NN), (use, NN), (mastercard, NN), (process, NN), (use, NN), (chase, NN), (amazon, NN), (restaurant, NN), (pm, NN), (tonight, NN), (amount, NN), (decline, NN), (tell, NN), (chase, NN), (limit, NN), (figure, NN), (decline, NN), (state, NN), (card, NN), (use, NN), (embarrass, NN), (caterer, NN), (limit, NN), (pay, NN), (card, NN), (month, NN), (chase, NN), (confirm, NN), (limit, NN), (transaction, NN), (xxxx, NN), (xxxx, NN), (today, NN), (card, NN), (transaction, NN)]   \n",
       "40                                                                                                                                                                                                                                                                                                                                                                                                                                                                                                                                                                                                                                                                                                                                                                                                                                                                                                                                                                                                                                                                                                                                                                                                                                                                                                                                                                                           [(sofa, NN), (love, NN), (seat, NN), (chair, NN), (charge, NN), (bank, NN), (claim, NN), (furniture, NN), (money, NN)]   \n",
       "21   [(payment, NN), (online, NN), (retailer, NN), (use, NN), (pay, NN), (chase, NN), (website, NN), (confirmation, NN), (product, NN), (response, NN), (order, NN), (contact, NN), (information, NN), (transaction, NN), (attempt, NN), (refund, NN), (bank, NN), (message, NN), (xxxx, NN), (way, NN), (transaction, NN), (contact, NN), (information, NN), (recipient, NN), (message, NN), (review, NN), (response, NN), (restate, NN), (email, NN), (inform, NN), (transfer, NN), (mention, NN), (scam, NN), (expertise, NN), (team, NN), (order, NN), (assist, NN), (regard, NN), (refund, NN), (request, NN), (call, NN), (consumer, NN), (online, NN), (support, NN), (team, NN), (call, NN), (number, NN), (list, NN), (email, NN), (explain, NN), (situation, NN), (transfer, NN), (claim, NN), (department, NN), (call, NN), (transaction, NN), (chase, NN), (information, NN), (provide, NN), (initiate, NN), (transfer, NN), (agent, NN), (try, NN), (call, NN), (ask, NN), (contact, NN), (number, NN), (opportunity, NN), (information, NN), (question, NN), (word, NN), (phrase, NN), (use, NN), (get, NN), (information, NN), (look, NN), (call, NN), (whos, NN), (automate, NN), (system, NN), (call, NN), (bank, NN), (bank, NN), (app, NN), (transaction, NN), (call, NN), (navigate, NN), (menus, NN), (talk, NN), (customer, NN), (service, NN), (agent, NN), (information, NN), (transaction, NN), (system, NN), (bank, NN), (app, NN), (transaction, NN), (line, NN), (everything, NN), ...]   \n",
       "2                                                                                                                                                                                                                                                                                                                                                                                                                                                                                                                                                                                                                                                                                                                                                                                                                                                                                                                                                                                                                                                                                                                                                                                                                                                                                 [(card, NN), (tell, NN), (agent, NN), (date, NN), (information, NN), (order, NN), (upgrade, NN), (account, NN), (change, NN), (anniversary, NN), (date, NN), (consent, NN), (xxxx, NN), (record, NN), (agent, NN), (mislead, NN)]   \n",
       "30                                                                                                                                                                                                                                                                                                                                                                                                                                                                                                                                                                                                                                                                                                                                                                                                                                                                                                                                                                                                                                                                                                                                                                                                                           [(concern, NN), (bank, NN), (charge, NN), (fee, NN), (alert, NN), (balance, NN), (fee, NN), (balance, NN), (order, NN), (charge, NN), (overdraft, NN), (fee, NN), (matter, NN), (bank, NN), (fault, NN), (money, NN), (chase, NN), (refund, NN), (way, NN), (refund, NN), (place, NN)]   \n",
       "164                                                                                                                                                                                                                                                                                                                                                                                                                                                                                                                                                                                                                                                                                                                                                                                                                                                                                                                                                                                                               [(year, NN), (chase, NN), (money, NN), (escrow, NN), (property, NN), (tax, NN), (money, NN), (pay, NN), (property, NN), (connection, NN), (account, NN), (shortage, NN), (payment, NN), (reflect, NN), (parcel, NN), (account, NN), (tax, NN), (payment, NN), (escrow, NN), (account, NN), (municipality, NN), (refund, NN), (money, NN), (perspective, NN), (chase, NN), (knowledge, NN), (permission, NN), (misappropriate, NN), (fund, NN), (escrow, NN), (foot, NN), (bill, NN), (money, NN)]   \n",
       "58                                                                                                                                                                                                                                                                                                                                                                                                                                                                                                                                                                                                                                                                                                                                                                                                                                                      [(purchase, NN), (payment, NN), (date, NN), (xxxxxxxx, NN), (please, NN), (statement, NN), (statement, NN), (show, NN), (purchase, NN), (balance, NN), (statement, NN), (show, NN), (purchase, NN), (xxxxxxxx, NN), (statement, NN), (show, NN), (balance, NN), (balance, NN), (balance, NN), (difference, NN), (payment, NN), (payment, NN), (require, NN), (chase, NN), (think, NN), (purchase, NN), (balance, NN), (payment, NN), (meet, NN), (interest, NN), (rate, NN), (balance, NN), (time, NN), (chase, NN), (skirt, NN), (law, NN), (turn, NN), (profit, NN), (need, NN), (problem, NN), (logic, NN), (advance, NN), (assistance, NN), (xxxx, NN)]   \n",
       "82                                                                                                                                                                                                                                                                                                                                                                                                                                                                                                                                                                                                                                                                                                                                                                                                                                            [(ask, NN), (bank, NN), (report, NN), (credit, NN), (bureau, NN), (payment, NN), (call, NN), (show, NN), (bill, NN), (bring, NN), (balance, NN), (bill, NN), (pay, NN), (amount, NN), (day, NN), (payment, NN), (day, NN), (payment, NN), (man, NN), (phone, NN), (state, NN), (payment, NN), (go, NN), (credit, NN), (account, NN), (didnt, NN), (anything, NN), (account, NN), (charge, NN), (fee, NN), (payment, NN), (idea, NN), (pay, NN), (amount, NN), (report, NN), (credit, NN), (bureau, NN), (pay, NN), (accrue, NN), (guy, NN), (represent, NN), (chase, NN), (charge, NN), (credit, NN), (score, NN), (drop, NN), (point, NN), (call, NN), (report, NN)]   \n",
       "115                                                                                                                                                                                                                                                                                                                                                                                                                                                                                                                                                                                                                                                                                                                                                                                                                                                                                                                                                                                                                                                                                                               [(time, NN), (chase, NN), (manipulate, NN), (order, NN), (credit, NN), (debit, NN), (account, NN), (collect, NN), (fee, NN), (receipt, NN), (balance, NN), (deposit, NN), (morning, NN), (bounce, NN), (check, NN), (time, NN), (tell, NN), (mention, NN), (time, NN), (time, NN), (deposit, NN), (organize, NN), (draft, NN), (class, NN), (action, NN), (lawsuit, NN), (deal, NN), (thing, NN)]   \n",
       "167                                                                                                                                                                                                                                                                                                                                                                                                                                                                                                                                                                                                                                                                                                                                                                                                                                                                                                                                                                                                                                                                                                                                                                                                                                                                   [(payment, NN), (chase, NN), (debt, NN), (cart, NN), (credit, NN), (card, NN), (post, NN), (wont, NN), (refund, NN), (money, NN), (require, NN), (pay, NN), (fee, NN), (bill, NN), (payment, NN), (payee, NN), (atleast, NN), (midnight, NN)]   \n",
       "\n",
       "                                                                                                                                                                                                                                                                                                                                                                                                                                                                                                                                                                                                                                                                                                                                                                                                                                                                                                                                                                                                                                                                                                                                                                                                                                                                                                                                                                                                                                                                                                                                                                                                                                                                                                                                                                                                                                                                                                                                                                                                                      lemmatized complaints_clean  \\\n",
       "27                                                                                                                                                                                                                                                                                                                                                                                                                                                                                                                                                                                                                                                                                                                                                                                                                                                                                                                                                                                                                                                                                                                                                                                                                                                                                                                                                                                                                                                                                                                                                                                                                                                                                                                                                                                                                              open account chase bank  use code  bonus call follow  term tell everything account make  direct deposit bonus would pay days  make require deposit tell account never coupon code apply past days bonus would pay   \n",
       "14                                                                                                                                                                                                                                                                                                                                                                                                                                                                                                                                                                                                                                                                                                                                                                                                                                                                                                                                                                                                                                                                                                                                                                                                                                                                                                                                                                                                                                                                                                                                                                                                                                                                                                                                                  grand son give check deposit chase account fund clear chase bank close account never pay money say need speek grand son check clear money take chase bank refuse pay money grand son call chase time tell call verify check owner country time date happen  check number  claim number  chase   \n",
       "17                                                                                                                                                                                                                                                                                                                                                                                                                                                                                                                                                                                                                   notice jp morgan chase restrict account debit card tuesday  thursday  go branch advise customer service representative account would actually close go branch see remove fund currently well direct deposit place employment would return bank associate customer service representative assure fund would post may take additional business day saturday attempt go inside branch yet retrieve fund actually post friday  upon look account realize fund reverse longer present current statement ive call tell may take two business day state tuesday  would date fund would available withdraw bank teller chase inform mail check three business days recover fund owe leave account currently unfortunately put additional financial bind two fee late rent late car payments etc short give write notice things actually occur peace mind fact chase handle situation grossly even bank teller inform account look suspicious give suspicious look although know chase reserve right close account time believe protocol past give notice form write document shore give write notice things actually occur peace mind fact chase handle situation grossly even bank teller inform account look suspicious give suspicious look although know chase reserve right close account time believe protocol past give notice form write document situation truly affect livelihood dont seem want deal professionally thank   \n",
       "24                                                                                                                                                                                                                                                                                                                                                                                                                                                                                                                                                                                                                                                                                                                                                                                                                                                                                                                                                                                                                                                                                                                                                                                                                                                                                                                                                                                                                                                                                                                                                                                                                                                                                                                                                                                                                                                                                                                                                                                                                  mishandle account chase auto    \n",
       "35                                                                                                                                                                                                                                                                                                                                                                                                                                                                                                                                                                                                                                                                                                                                                                                                                                                                                                                                                                                                                                                                                                                                                                                                                                                                                                                                                                                                                                                                                                                                                                                                                                                                                                                               open save account bonus suppose receive bonus consecutive auto transfer check save notice  automatic transfer cancel enough fund check account therefore put enough fund account  request executive team reactivate automatic transfer month  although ms  reach executive office fail try resolve concern case    \n",
       "10                                                                                                                                                                                                                                                                                                                                                                                                                                                                                                                                                                                                                                                                                                                                                                                                                                                                                                                                                                                                                                                                                                                                                                                                                                                                                                                                                                                                                                                                                                                                                                                                                                                                                                                                                                                                                                                                                  chase card report  however fraudulent application submit identity without consent fraudulently obtain service extend credit without verify identity applicant   \n",
       "11                                                                                                                                                                                                                                                                                                                                                                                                                                                                                                                                                                                                                                                                                                                                                                                                                                                                                                                                                                                                                                                                                                                                                                    try book   ticket come across offer apply towards ticket apply reward card put information offer within less minute notify via screen decision could make immediately contact  refer chase bank immediately contact chase bank within minutes get notification screen tell chase representative speak application deny could state ask information  offer explain even approve credit offer get apply first account statement could use purchase ticket explicitly tell glad get deny absolutely longer interest account ask application withdraw representative oblige happen later mins put application  notwithstanding explicit request proceed application contrary tell chase representative chase fact go ahead open credit account name  report credit report chase refuse correct information credit report even though go ahead process application consent error   \n",
       "15                                                                                                                                                                                                                                                                                                                                                                                                                                                                                                                                                                                                                                                                                                                                                                                                                                                                                                                                                                                                                                                                                                                                                                                                                                                                                                                                                                                                                                                                                                                                                                                                                                                                                                                                                                                                                                                                                                                                                                                                                          please remove inquiry   \n",
       "23                                                                                                                                                                                                                                                                                                                                                                                                                                                                                                                                                                                                                                                                                                                                                                                                                                                                                                                                                                                                                                                                                                                                                                                                                                                                                                                                                                                                                                                                                                                                                                                                                                                                                                                                                                                                                                                                                                                                                             chase credit card incorrectly report data credit report company help resolve issue   \n",
       "26                                                                                                                                                                                                                                                                                                                                                                                                                                                                                                                                                                                                                                                                                                                                                                                                                                                                                                                                                                                                                                                                                                                                                                                                                                                                                                                                                                                                                                                                                                                                                                                   reach  several time attempt fraudulent inquiry remove tell need call contact original creditor place inquiry report make several attempt get chase bank contact bureau remove inquiry authorize seem able get right person take care issue matter many attempt make nobody seem understand im talkin want chase bank fraudulent inquiry remove credit report take legal action never request kind credit chase bank hold account iquiry  want matter resolve   \n",
       "73                                                                                                                                                                                                                                                                                                                                                                                                                                                                                                                                                                                                                                                                                                                                                                                                                                                                                                                                                                                                                                                                                                                                                                                                                                                                                                                                         wire one chase branch   exact reinstatement amount jpmorgan chase bank order removewithdraw wrongful foreclosure proceed residential propertyhowever chase executive ms   trustee     honor even rule regulations want total payoff order remove wrongful foreclosure proceed sales date    family residentshe know prepare  short time thats ask minimum reinstatement amount avoid foreclosure without resort chapter  bankruptcy filingi appreciate assistant bring jpmorgan chase foreclosure trustee     quality sense stop harass family fraudulent default claim explain previous complaint my previous complaint id  submit  product mortgage issue wrongful foreclosurethank   tell   email     \n",
       "57                                                                                                                                                                                                                                                                                                                                                                                                                                                                                                                                                                                                                                                                                                                                                                                                                                                                                                                                                                                                                                                                                                                                                                                                                                                                                                                                                                                                                                                                                                                                                                                                                                                                                                                                                                                                                                                                                                                                             try loan modification chase give runaround im mo behind dont let make payments aens doc always ask   \n",
       "43                                                                                                                                                                                                                                                                                                                                                                                                                                                                                                                                                                                                                                                                                                                                                                                                                                                                                                                                                                                                                                                                                                                                                                                                                                                                                                                                                                                                                                                                                chase send email today innocuous title important information regard change chase account often use similar title ads communications force bind arbitration despite never something agree never part contract include method opt additional information consequences many people ive see similar problem afraid chase close account opt even egregiously despite chase simply send email require mail letter personal information enclose order opt clearly less secure massive loss time money clearly use solely dissuade people opt blatant malpractice chase   \n",
       "1                                                                                                                                                                                                                                                                                                                                                                                                                                                                                                                                                                                                                                                                                                                                                                                                                                                                                                                                                                                                                                                                                                                                                                                                                                                                                                                                                                                                                                                                                                                                                                                                                                                                                                                                                  good morning name   appreciate could help put stop chase bank cardmember service write chase ask debt verification send statement acceptable ask bank validate debt instead receive mail every month attempt collect debt right know information consumer chase account     thank advance help   \n",
       "20                                                                                                                                                                                                                                                                                                                                                                                                                                                                                                                                                                                                                                                                                                                                                                                                                                                                                                                                                                                                                                                                   summer months experience decline income due employment therefore request one month payment extension auto loan company chase past almost fours years request payment extension grant never delinquent auto loan payment however  request one month payment extension deny year explain situation representative supervisor avail lengthy discussion wait inform reason decline contractual reason denial baffle therefore email office   executive director communications jpmorgan chase co representative contact state chase followup week later representative     office call representative share role help resolve matter representative via conference call contact department hand request review information request still deny base policy change request explanation representative state letter mail explanation receive  letter reason denial policy change would like cfpb help explore denial payment extension request especially since clear reason denial   \n",
       "32                                                                                                                                                                                                                                                                                                                                                                                                                                                                                                                                                                                                                                                                                                                                                                                                                                                  chase amazon card decline cater order place brothers funeral amount contact chase around noon today  ask last number chase save account user account respond save authorize user customer rep tell would call back minutes keep line open didnt receive call back hour contact chase first call think someone use card fraudulently speak rep transfer supervisor  say card activate transaction would process call cater company card decline use   card pay order   texted ask authorize purchase respond yes contact caterer   decline contact chase speak rep tell initial question use trick people see answer would tell cvv code incorrectly input caterer respond go number cvv use correct tell card clear purchase would monitor hours call caterer card decline use mastercard process go use chase amazon restaurant  pm tonight amount decline tell chase limit still frustrate figure multiple decline several conversations chase state card would ok use embarrass caterer keep suggest limit pay card full every month chase confirm limit transaction never decline either chase   today multiple assurances set card would monitor make sure transaction would clear never   \n",
       "40                                                                                                                                                                                                                                                                                                                                                                                                                                                                                                                                                                                                                                                                                                                                                                                                                                                                                                                                                                                                                                                                                                                                                                                                                                                                                                                                                                                                                                                                                                                                                                                                                                                                                                                                                                                                                                                                                                                                            sofa love seat table chair never deliver debit card charge bank say visa deny claim furniture money   \n",
       "21     make payment online retailer use chase quick pay  chase website realize scam website confirmation product response inquiries regard order contact chase get information transaction attempt get refund retailers bank contact chase via secure message  explain happen ask way reverse transaction contact  give information recipient  message review receive response restate original email inform transfer complete however mention website scam handle inquiries email require expertise another team order assist better regard refund request call consumer online technical support team call number list email explain situation transfer claim department direct call  ask transaction chase information outside provide initiate transfer felt like agent try get end call quickly possible interrupt close script ask contact number  didnt opportunity get information right question would ask  word phrase use get information look call  whos automate system initially direct call bank use bank app initiate transaction call  navigate menus talk customer service agent tell information transaction would chase system use bank app perform transaction stay line understand everything ask better understand situation end call call chase call chase second time agent try look information receive bank could find additional information ask need information explain situation transfer claim department tell need contact  get information look tell already contact finally admit nothing could due nature transaction type transactions secure say chase information recipient email address inputted recipients bank information keep system phone call ask initiate transaction use absolve responsibility regard matter whole process felt like chase transparent policies regard type transactions helpful help get information situation transactions advertise fast safe easy way send money seem dangerous way business feel deceive chase advertise victimize way treat members customer service team   \n",
       "2                                                                                                                                                                                                                                                                                                                                                                                                                                                                                                                                                                                                                                                                                                                                                                                                                                                                                                                                                                                                                                                                                                                                                                                                                                                                                                                                                                                                                                                                                                                                                                                                                                                                                                                                                                                                                                                       upgrade   card  tell agent upgrade anniversary date would change turn agent give wrong information order upgrade account  change anniversary date   without consent  record agent mislead   \n",
       "30                                                                                                                                                                                                                                                                                                                                                                                                                                                                                                                                                                                                                                                                                                                                                                                                                                                                                                                                                                                                                                                                                                                                                                                                                                                                                                                                                                                                                                                                                                                                                                                                                                                             may concern chase bank charge wrongly overdraft fee alert low balance unsuficent fee balance always deposit immediatly cover transactions need chase always change order charge overdraft fee anyway call say per guidelines dont refund overdrawft doesnt matter bank fault nottaken people money oksee attach document chase refund always find way take back refund first place   \n",
       "164                                                                                                                                                                                                                                                                                                                                                                                                                                                                                                                                                                                                                                                                                                                                                                                                                                                                                                                                                                                                                                                                                                                                                                                                                                                                                                                                                                                                                                                                                                                                   year chase withdraw money escrow account pay property tax however also withdraw money pay another property connection account leave escrow shortage adjust monthly payment reflect well call explain mistake take two weeks finally manage remove incorrect parcel account however refund erroneous tax payment make escrow account instead wait local municipality refund money perspective chase without immediate knowledge permission misappropriate fund escrow account stick foot bill get money back   \n",
       "58                                                                                                                                                                                                                                                                                                                                                                                                                                                                                                                                                                                                                                                                                                                                                                                                                                                                                                                                                                                                                                                                                                                                                                                                                                                                                                                                                          make purchase  make payments   minimum payment close date  please see attach statement statement  show outstanding purchase balance  enclose previous months statement show purchase prior one  however get  statement show still purchase balance promotional balance    promotional balance difference apparently payment minimum payment require chase think would apply purchase apply promotional balance first understand minimum payment meet payments excess minimum would apply highest interest rate balance first first time chase skirt us financial law turn larger profit need help rectify problem logic fell deaf ears chase thank advance assistance respectfully      \n",
       "82                                                                                                                                                                                                                                                                                                                                                                                                                                                                                                                                                                                                                                                                                                                                                                                                                                                                                                                                                                                                                                                                                                                                                                                                                                                                                                                                                                                         recently call ask chase bank report credit bureau days late payment already pay call get info show   late bill owe  bring balance  finish bill pay amount day   say try make another payment later day days come back return payment man phone state payment go would mean credit account  since didnt owe anything update account charge late fee return payment idea since think pay entire amount report credit bureau days late pay accrue guy represent chase agree wrong charge fee say would remove still negative say owe mobile app additionally report late credit score drop point call back ask report make mistake say would think thats    \n",
       "115                                                                                                                                                                                                                                                                                                                                                                                                                                                                                                                                                                                                                                                                                                                                                                                                                                                                                                                                                                                                                                                                                                                                                                                                                                                                                                                                                                                                                                                                                                                                                                                                                                          multiple time latest  chase manipulate order credit debit come account collect late fee receipt screen shots show positive balance deposit next morning multiple bounce check first time bring make right tell deposit make  mention eastern time last time make sure deposit  say  eastern reps stuff top organize transactions maximize amount things draft class action lawsuit  deal exact thing   \n",
       "167                                                                                                                                                                                                                                                                                                                                                                                                                                                                                                                                                                                                                                                                                                                                                                                                                                                                                                                                                                                                                                                                                                                                                                                                                                                                                                                                                                                                                                                                                                                                                                                                                                                                                                                                                                                                                                                      double payment chase debt cart chase credit card post wont refund put request days refund money tuesday get pay require pay fee stop pending bill payment another payee atleast midnight   \n",
       "\n",
       "     Topic  \n",
       "27       0  \n",
       "14       0  \n",
       "17       0  \n",
       "24       0  \n",
       "35       0  \n",
       "10       1  \n",
       "11       1  \n",
       "15       1  \n",
       "23       1  \n",
       "26       1  \n",
       "73       2  \n",
       "57       2  \n",
       "43       2  \n",
       "1        2  \n",
       "20       2  \n",
       "32       3  \n",
       "40       3  \n",
       "21       3  \n",
       "2        3  \n",
       "30       3  \n",
       "164      4  \n",
       "58       4  \n",
       "82       4  \n",
       "115      4  \n",
       "167      4  "
      ]
     },
     "execution_count": 45,
     "metadata": {},
     "output_type": "execute_result"
    }
   ],
   "source": [
    "#Print the first 5 Complaint for each of the Topics\n",
    "First5_comp=df_clean.groupby('Topic').head(5)\n",
    "First5_comp.sort_values('Topic')\n"
   ]
  },
  {
   "cell_type": "code",
   "execution_count": 46,
   "metadata": {},
   "outputs": [
    {
     "data": {
      "text/plain": [
       "(21072, 5)"
      ]
     },
     "execution_count": 46,
     "metadata": {},
     "output_type": "execute_result"
    }
   ],
   "source": [
    "df_clean.Topic=df_clean.Topic.astype(str)\n",
    "df_clean.shape"
   ]
  },
  {
   "cell_type": "markdown",
   "metadata": {
    "id": "piyLxzj6v07j"
   },
   "source": [
    "#### After evaluating the mapping, if the topics assigned are correct then assign these names to the relevant topic:\n",
    "* Bank Account services\n",
    "* Credit card or prepaid card\n",
    "* Theft/Dispute Reporting\n",
    "* Mortgage/Loan\n",
    "* Others"
   ]
  },
  {
   "cell_type": "code",
   "execution_count": 47,
   "metadata": {},
   "outputs": [
    {
     "name": "stdout",
     "output_type": "stream",
     "text": [
      "['2' '3' '1' '0' '4']\n"
     ]
    }
   ],
   "source": [
    "print(df_clean['Topic'].unique())"
   ]
  },
  {
   "cell_type": "code",
   "execution_count": 48,
   "metadata": {
    "id": "TWpwDG4RJrGG"
   },
   "outputs": [],
   "source": [
    "#Create the dictionary of Topic names and Topics\n",
    "\n",
    "Topic_names = {\n",
    "0:'Bank account services',\n",
    "1:'Credit card / Prepaid card',\n",
    "2:'Mortgages/loans',\n",
    "3:'Theft/Dispute reporting',\n",
    "4:'Others '   \n",
    "}\n",
    "#Replace Topics with Topic Names\n",
    "df_clean['Topic'] = pd.to_numeric(df_clean['Topic'], errors='coerce')\n",
    "df_clean['Topic'] = df_clean['Topic'].map(Topic_names)"
   ]
  },
  {
   "cell_type": "code",
   "execution_count": 49,
   "metadata": {},
   "outputs": [
    {
     "data": {
      "text/html": [
       "<div>\n",
       "<style scoped>\n",
       "    .dataframe tbody tr th:only-of-type {\n",
       "        vertical-align: middle;\n",
       "    }\n",
       "\n",
       "    .dataframe tbody tr th {\n",
       "        vertical-align: top;\n",
       "    }\n",
       "\n",
       "    .dataframe thead th {\n",
       "        text-align: right;\n",
       "    }\n",
       "</style>\n",
       "<table border=\"1\" class=\"dataframe\">\n",
       "  <thead>\n",
       "    <tr style=\"text-align: right;\">\n",
       "      <th></th>\n",
       "      <th>complaints</th>\n",
       "      <th>lemmatized complaints</th>\n",
       "      <th>complaint_POS_removed</th>\n",
       "      <th>lemmatized complaints_clean</th>\n",
       "      <th>Topic</th>\n",
       "    </tr>\n",
       "  </thead>\n",
       "  <tbody>\n",
       "    <tr>\n",
       "      <th>1</th>\n",
       "      <td>Good morning my name is XXXX XXXX and I appreciate it if you could help me put a stop to Chase Bank cardmember services. \\nIn 2018 I wrote to Chase asking for debt verification and what they sent me a statement which is not acceptable. I am asking the bank to validate the debt. Instead I been receiving mail every month from them attempting to collect a debt. \\nI have a right to know this information as a consumer. \\n\\nChase account # XXXX XXXX XXXX XXXX Thanks in advance for your help.</td>\n",
       "      <td>good morning name xxxx xxxx appreciate could help put stop chase bank cardmember service write chase ask debt verification send statement acceptable ask bank validate debt instead receive mail every month attempt collect debt right know information consumer chase account xxxx xxxx xxxx xxxx thank advance help</td>\n",
       "      <td>[(morning, NN), (name, NN), (appreciate, NN), (chase, NN), (bank, NN), (cardmember, NN), (service, NN), (chase, NN), (debt, NN), (verification, NN), (statement, NN), (bank, NN), (debt, NN), (mail, NN), (month, NN), (attempt, NN), (debt, NN), (right, NN), (information, NN), (consumer, NN), (chase, NN), (account, NN), (advance, NN), (help, NN)]</td>\n",
       "      <td>good morning name   appreciate could help put stop chase bank cardmember service write chase ask debt verification send statement acceptable ask bank validate debt instead receive mail every month attempt collect debt right know information consumer chase account     thank advance help</td>\n",
       "      <td>Mortgages/loans</td>\n",
       "    </tr>\n",
       "    <tr>\n",
       "      <th>2</th>\n",
       "      <td>I upgraded my XXXX XXXX card in XX/XX/2018 and was told by the agent who did the upgrade my anniversary date would not change. It turned the agent was giving me the wrong information in order to upgrade the account. XXXX   changed my anniversary date from XX/XX/XXXX to XX/XX/XXXX without my consent! XXXX has the recording of the agent who was misled me.</td>\n",
       "      <td>upgrade xxxx xxxx card xxxx tell agent upgrade anniversary date would change turn agent give wrong information order upgrade account xxxx change anniversary date xxxxxxxx xxxxxxxx without consent xxxx record agent mislead</td>\n",
       "      <td>[(card, NN), (tell, NN), (agent, NN), (date, NN), (information, NN), (order, NN), (upgrade, NN), (account, NN), (change, NN), (anniversary, NN), (date, NN), (consent, NN), (xxxx, NN), (record, NN), (agent, NN), (mislead, NN)]</td>\n",
       "      <td>upgrade   card  tell agent upgrade anniversary date would change turn agent give wrong information order upgrade account  change anniversary date   without consent  record agent mislead</td>\n",
       "      <td>Theft/Dispute reporting</td>\n",
       "    </tr>\n",
       "  </tbody>\n",
       "</table>\n",
       "</div>"
      ],
      "text/plain": [
       "                                                                                                                                                                                                                                                                                                                                                                                                                                                                                                   complaints  \\\n",
       "1  Good morning my name is XXXX XXXX and I appreciate it if you could help me put a stop to Chase Bank cardmember services. \\nIn 2018 I wrote to Chase asking for debt verification and what they sent me a statement which is not acceptable. I am asking the bank to validate the debt. Instead I been receiving mail every month from them attempting to collect a debt. \\nI have a right to know this information as a consumer. \\n\\nChase account # XXXX XXXX XXXX XXXX Thanks in advance for your help.   \n",
       "2                                                                                                                                         I upgraded my XXXX XXXX card in XX/XX/2018 and was told by the agent who did the upgrade my anniversary date would not change. It turned the agent was giving me the wrong information in order to upgrade the account. XXXX   changed my anniversary date from XX/XX/XXXX to XX/XX/XXXX without my consent! XXXX has the recording of the agent who was misled me.   \n",
       "\n",
       "                                                                                                                                                                                                                                                                                                    lemmatized complaints  \\\n",
       "1  good morning name xxxx xxxx appreciate could help put stop chase bank cardmember service write chase ask debt verification send statement acceptable ask bank validate debt instead receive mail every month attempt collect debt right know information consumer chase account xxxx xxxx xxxx xxxx thank advance help   \n",
       "2                                                                                           upgrade xxxx xxxx card xxxx tell agent upgrade anniversary date would change turn agent give wrong information order upgrade account xxxx change anniversary date xxxxxxxx xxxxxxxx without consent xxxx record agent mislead   \n",
       "\n",
       "                                                                                                                                                                                                                                                                                                                                      complaint_POS_removed  \\\n",
       "1  [(morning, NN), (name, NN), (appreciate, NN), (chase, NN), (bank, NN), (cardmember, NN), (service, NN), (chase, NN), (debt, NN), (verification, NN), (statement, NN), (bank, NN), (debt, NN), (mail, NN), (month, NN), (attempt, NN), (debt, NN), (right, NN), (information, NN), (consumer, NN), (chase, NN), (account, NN), (advance, NN), (help, NN)]   \n",
       "2                                                                                                                         [(card, NN), (tell, NN), (agent, NN), (date, NN), (information, NN), (order, NN), (upgrade, NN), (account, NN), (change, NN), (anniversary, NN), (date, NN), (consent, NN), (xxxx, NN), (record, NN), (agent, NN), (mislead, NN)]   \n",
       "\n",
       "                                                                                                                                                                                                                                                                      lemmatized complaints_clean  \\\n",
       "1  good morning name   appreciate could help put stop chase bank cardmember service write chase ask debt verification send statement acceptable ask bank validate debt instead receive mail every month attempt collect debt right know information consumer chase account     thank advance help   \n",
       "2                                                                                                       upgrade   card  tell agent upgrade anniversary date would change turn agent give wrong information order upgrade account  change anniversary date   without consent  record agent mislead   \n",
       "\n",
       "                     Topic  \n",
       "1          Mortgages/loans  \n",
       "2  Theft/Dispute reporting  "
      ]
     },
     "execution_count": 49,
     "metadata": {},
     "output_type": "execute_result"
    }
   ],
   "source": [
    "df_clean.head(2)"
   ]
  },
  {
   "cell_type": "markdown",
   "metadata": {
    "id": "7Mu0QBOcJrGH"
   },
   "source": [
    "## Supervised model to predict any new complaints to the relevant Topics.\n",
    "\n",
    "You have now build the model to create the topics for each complaints.Now in the below section you will use them to classify any new complaints.\n",
    "\n",
    "Since you will be using supervised learning technique we have to convert the topic names to numbers(numpy arrays only understand numbers)"
   ]
  },
  {
   "cell_type": "code",
   "execution_count": 51,
   "metadata": {
    "id": "_U8J3J8wJrGH"
   },
   "outputs": [],
   "source": [
    "#Create the dictionary again of Topic names and Topics\n",
    "\n",
    "Topic_names = {\n",
    "'Bank account services':0,\n",
    "'Credit card / Prepaid card':1,\n",
    "'Mortgages/loans':2,\n",
    "'Theft/Dispute reporting':3,\n",
    "'Others ':4   \n",
    "}\n",
    "\n",
    "#Replace Topics with Topic Names\n",
    "df_clean['Topic'] = df_clean['Topic'].map(Topic_names)"
   ]
  },
  {
   "cell_type": "code",
   "execution_count": 52,
   "metadata": {
    "id": "BWIgJUkQJrGH"
   },
   "outputs": [
    {
     "data": {
      "text/html": [
       "<div>\n",
       "<style scoped>\n",
       "    .dataframe tbody tr th:only-of-type {\n",
       "        vertical-align: middle;\n",
       "    }\n",
       "\n",
       "    .dataframe tbody tr th {\n",
       "        vertical-align: top;\n",
       "    }\n",
       "\n",
       "    .dataframe thead th {\n",
       "        text-align: right;\n",
       "    }\n",
       "</style>\n",
       "<table border=\"1\" class=\"dataframe\">\n",
       "  <thead>\n",
       "    <tr style=\"text-align: right;\">\n",
       "      <th></th>\n",
       "      <th>complaints</th>\n",
       "      <th>lemmatized complaints</th>\n",
       "      <th>complaint_POS_removed</th>\n",
       "      <th>lemmatized complaints_clean</th>\n",
       "      <th>Topic</th>\n",
       "    </tr>\n",
       "  </thead>\n",
       "  <tbody>\n",
       "    <tr>\n",
       "      <th>1</th>\n",
       "      <td>Good morning my name is XXXX XXXX and I appreciate it if you could help me put a stop to Chase Bank cardmember services. \\nIn 2018 I wrote to Chase asking for debt verification and what they sent me a statement which is not acceptable. I am asking the bank to validate the debt. Instead I been receiving mail every month from them attempting to collect a debt. \\nI have a right to know this information as a consumer. \\n\\nChase account # XXXX XXXX XXXX XXXX Thanks in advance for your help.</td>\n",
       "      <td>good morning name xxxx xxxx appreciate could help put stop chase bank cardmember service write chase ask debt verification send statement acceptable ask bank validate debt instead receive mail every month attempt collect debt right know information consumer chase account xxxx xxxx xxxx xxxx thank advance help</td>\n",
       "      <td>[(morning, NN), (name, NN), (appreciate, NN), (chase, NN), (bank, NN), (cardmember, NN), (service, NN), (chase, NN), (debt, NN), (verification, NN), (statement, NN), (bank, NN), (debt, NN), (mail, NN), (month, NN), (attempt, NN), (debt, NN), (right, NN), (information, NN), (consumer, NN), (chase, NN), (account, NN), (advance, NN), (help, NN)]</td>\n",
       "      <td>good morning name   appreciate could help put stop chase bank cardmember service write chase ask debt verification send statement acceptable ask bank validate debt instead receive mail every month attempt collect debt right know information consumer chase account     thank advance help</td>\n",
       "      <td>2</td>\n",
       "    </tr>\n",
       "    <tr>\n",
       "      <th>2</th>\n",
       "      <td>I upgraded my XXXX XXXX card in XX/XX/2018 and was told by the agent who did the upgrade my anniversary date would not change. It turned the agent was giving me the wrong information in order to upgrade the account. XXXX   changed my anniversary date from XX/XX/XXXX to XX/XX/XXXX without my consent! XXXX has the recording of the agent who was misled me.</td>\n",
       "      <td>upgrade xxxx xxxx card xxxx tell agent upgrade anniversary date would change turn agent give wrong information order upgrade account xxxx change anniversary date xxxxxxxx xxxxxxxx without consent xxxx record agent mislead</td>\n",
       "      <td>[(card, NN), (tell, NN), (agent, NN), (date, NN), (information, NN), (order, NN), (upgrade, NN), (account, NN), (change, NN), (anniversary, NN), (date, NN), (consent, NN), (xxxx, NN), (record, NN), (agent, NN), (mislead, NN)]</td>\n",
       "      <td>upgrade   card  tell agent upgrade anniversary date would change turn agent give wrong information order upgrade account  change anniversary date   without consent  record agent mislead</td>\n",
       "      <td>3</td>\n",
       "    </tr>\n",
       "    <tr>\n",
       "      <th>10</th>\n",
       "      <td>Chase Card was reported on XX/XX/2019. However, fraudulent application have been submitted my identity without my consent to fraudulently obtain services. Do not extend credit without verifying the identity of the applicant.</td>\n",
       "      <td>chase card report xxxx however fraudulent application submit identity without consent fraudulently obtain service extend credit without verify identity applicant</td>\n",
       "      <td>[(card, NN), (report, NN), (application, NN), (submit, NN), (identity, NN), (consent, NN), (service, NN), (credit, NN), (identity, NN), (applicant, NN)]</td>\n",
       "      <td>chase card report  however fraudulent application submit identity without consent fraudulently obtain service extend credit without verify identity applicant</td>\n",
       "      <td>1</td>\n",
       "    </tr>\n",
       "    <tr>\n",
       "      <th>11</th>\n",
       "      <td>On XX/XX/2018, while trying to book a XXXX  XXXX  ticket, I came across an offer for {$300.00} to be applied towards the ticket if I applied for a rewards card. I put in my information for the offer and within less than a minute, was notified via the screen that a decision could not be made. I immediately contacted XXXX and was referred to Chase Bank. I then immediately contacted Chase bank within no more than 10minutes of getting the notification on the screen and I was told by the Chase representative I spoke with that my application was denied but she could not state why. I asked for more information about the XXXX  offer and she explained that even if I had been approved, the credit offer only gets applied after the first account statement and could not be used to purchase the ticket. I then explicitly told her I was glad I got denied and I was ABSOLUTELY no longer interested in the account. I asked that the application be withdrawn and the representative obliged. This all happened no later than 10mins after putting in the application on XX/XX/2018. Notwithstanding my explicit request not to proceed with the application and contrary to what I was told by the Chase representative, Chase did in fact go ahead to open a credit account in my name on XX/XX/2018. This is now being reported in my Credit Report and Chase has refused to correct this information on my credit report even though they went ahead to process an application which I did not consent to and out of their error.</td>\n",
       "      <td>xxxx try book xxxx xxxx ticket come across offer apply towards ticket apply reward card put information offer within less minute notify via screen decision could make immediately contact xxxx refer chase bank immediately contact chase bank within minutes get notification screen tell chase representative speak application deny could state ask information xxxx offer explain even approve credit offer get apply first account statement could use purchase ticket explicitly tell glad get deny absolutely longer interest account ask application withdraw representative oblige happen later mins put application xxxx notwithstanding explicit request proceed application contrary tell chase representative chase fact go ahead open credit account name xxxx report credit report chase refuse correct information credit report even though go ahead process application consent error</td>\n",
       "      <td>[(try, NN), (book, NN), (ticket, NN), (come, NN), (offer, NN), (apply, NN), (ticket, NN), (card, NN), (information, NN), (offer, NN), (notify, NN), (decision, NN), (refer, NN), (chase, NN), (bank, NN), (chase, NN), (bank, NN), (screen, NN), (speak, NN), (application, NN), (deny, NN), (state, NN), (information, NN), (xxxx, NN), (offer, NN), (credit, NN), (offer, NN), (account, NN), (statement, NN), (purchase, NN), (ticket, NN), (get, NN), (deny, NN), (interest, NN), (account, NN), (application, NN), (representative, NN), (oblige, NN), (application, NN), (xxxx, NN), (request, NN), (proceed, NN), (application, NN), (tell, NN), (chase, NN), (chase, NN), (fact, NN), (credit, NN), (account, NN), (name, NN), (report, NN), (credit, NN), (report, NN), (chase, NN), (information, NN), (credit, NN), (report, NN), (application, NN), (consent, NN), (error, NN)]</td>\n",
       "      <td>try book   ticket come across offer apply towards ticket apply reward card put information offer within less minute notify via screen decision could make immediately contact  refer chase bank immediately contact chase bank within minutes get notification screen tell chase representative speak application deny could state ask information  offer explain even approve credit offer get apply first account statement could use purchase ticket explicitly tell glad get deny absolutely longer interest account ask application withdraw representative oblige happen later mins put application  notwithstanding explicit request proceed application contrary tell chase representative chase fact go ahead open credit account name  report credit report chase refuse correct information credit report even though go ahead process application consent error</td>\n",
       "      <td>1</td>\n",
       "    </tr>\n",
       "    <tr>\n",
       "      <th>14</th>\n",
       "      <td>my grand son give me check for {$1600.00} i deposit it into my chase account after fund clear my chase bank closed my account never paid me my money they said they need to speek with my grand son check was clear money was taking by my chase bank refuse to pay me my money my grand son called chase 2 times they told him i should call not him to verify the check owner he is out the country most the time  date happen XX/XX/2018 check number XXXX claim number is XXXX with chase</td>\n",
       "      <td>grand son give check deposit chase account fund clear chase bank close account never pay money say need speek grand son check clear money take chase bank refuse pay money grand son call chase time tell call verify check owner country time date happen xxxx check number xxxx claim number xxxx chase</td>\n",
       "      <td>[(son, NN), (check, NN), (deposit, NN), (chase, NN), (account, NN), (fund, NN), (bank, NN), (account, NN), (money, NN), (son, NN), (check, NN), (money, NN), (bank, NN), (refuse, NN), (pay, NN), (money, NN), (son, NN), (call, NN), (time, NN), (check, NN), (owner, NN), (country, NN), (time, NN), (date, NN), (number, NN), (claim, NN), (number, NN), (chase, NN)]</td>\n",
       "      <td>grand son give check deposit chase account fund clear chase bank close account never pay money say need speek grand son check clear money take chase bank refuse pay money grand son call chase time tell call verify check owner country time date happen  check number  claim number  chase</td>\n",
       "      <td>0</td>\n",
       "    </tr>\n",
       "  </tbody>\n",
       "</table>\n",
       "</div>"
      ],
      "text/plain": [
       "                                                                                                                                                                                                                                                                                                                                                                                                                                                                                                                                                                                                                                                                                                                                                                                                                                                                                                                                                                                                                                                                                                                                                                                                                                                                                                                                                                                                                                                                                                                                                        complaints  \\\n",
       "1                                                                                                                                                                                                                                                                                                                                                                                                                                                                                                                                                                                                                                                                                                                                                                                                                                                                                                                                                                                                                                                       Good morning my name is XXXX XXXX and I appreciate it if you could help me put a stop to Chase Bank cardmember services. \\nIn 2018 I wrote to Chase asking for debt verification and what they sent me a statement which is not acceptable. I am asking the bank to validate the debt. Instead I been receiving mail every month from them attempting to collect a debt. \\nI have a right to know this information as a consumer. \\n\\nChase account # XXXX XXXX XXXX XXXX Thanks in advance for your help.   \n",
       "2                                                                                                                                                                                                                                                                                                                                                                                                                                                                                                                                                                                                                                                                                                                                                                                                                                                                                                                                                                                                                                                                                                                                                                                              I upgraded my XXXX XXXX card in XX/XX/2018 and was told by the agent who did the upgrade my anniversary date would not change. It turned the agent was giving me the wrong information in order to upgrade the account. XXXX   changed my anniversary date from XX/XX/XXXX to XX/XX/XXXX without my consent! XXXX has the recording of the agent who was misled me.   \n",
       "10                                                                                                                                                                                                                                                                                                                                                                                                                                                                                                                                                                                                                                                                                                                                                                                                                                                                                                                                                                                                                                                                                                                                                                                                                                                                                                                                Chase Card was reported on XX/XX/2019. However, fraudulent application have been submitted my identity without my consent to fraudulently obtain services. Do not extend credit without verifying the identity of the applicant.   \n",
       "11  On XX/XX/2018, while trying to book a XXXX  XXXX  ticket, I came across an offer for {$300.00} to be applied towards the ticket if I applied for a rewards card. I put in my information for the offer and within less than a minute, was notified via the screen that a decision could not be made. I immediately contacted XXXX and was referred to Chase Bank. I then immediately contacted Chase bank within no more than 10minutes of getting the notification on the screen and I was told by the Chase representative I spoke with that my application was denied but she could not state why. I asked for more information about the XXXX  offer and she explained that even if I had been approved, the credit offer only gets applied after the first account statement and could not be used to purchase the ticket. I then explicitly told her I was glad I got denied and I was ABSOLUTELY no longer interested in the account. I asked that the application be withdrawn and the representative obliged. This all happened no later than 10mins after putting in the application on XX/XX/2018. Notwithstanding my explicit request not to proceed with the application and contrary to what I was told by the Chase representative, Chase did in fact go ahead to open a credit account in my name on XX/XX/2018. This is now being reported in my Credit Report and Chase has refused to correct this information on my credit report even though they went ahead to process an application which I did not consent to and out of their error.   \n",
       "14                                                                                                                                                                                                                                                                                                                                                                                                                                                                                                                                                                                                                                                                                                                                                                                                                                                                                                                                                                                                                                                                   my grand son give me check for {$1600.00} i deposit it into my chase account after fund clear my chase bank closed my account never paid me my money they said they need to speek with my grand son check was clear money was taking by my chase bank refuse to pay me my money my grand son called chase 2 times they told him i should call not him to verify the check owner he is out the country most the time  date happen XX/XX/2018 check number XXXX claim number is XXXX with chase   \n",
       "\n",
       "                                                                                                                                                                                                                                                                                                                                                                                                                                                                                                                                                                                                                                                                                                                                                                                                                                                                                       lemmatized complaints  \\\n",
       "1                                                                                                                                                                                                                                                                                                                                                                                                                                                                                                                                                                                     good morning name xxxx xxxx appreciate could help put stop chase bank cardmember service write chase ask debt verification send statement acceptable ask bank validate debt instead receive mail every month attempt collect debt right know information consumer chase account xxxx xxxx xxxx xxxx thank advance help   \n",
       "2                                                                                                                                                                                                                                                                                                                                                                                                                                                                                                                                                                                                                                                                              upgrade xxxx xxxx card xxxx tell agent upgrade anniversary date would change turn agent give wrong information order upgrade account xxxx change anniversary date xxxxxxxx xxxxxxxx without consent xxxx record agent mislead   \n",
       "10                                                                                                                                                                                                                                                                                                                                                                                                                                                                                                                                                                                                                                                                                                                                         chase card report xxxx however fraudulent application submit identity without consent fraudulently obtain service extend credit without verify identity applicant   \n",
       "11  xxxx try book xxxx xxxx ticket come across offer apply towards ticket apply reward card put information offer within less minute notify via screen decision could make immediately contact xxxx refer chase bank immediately contact chase bank within minutes get notification screen tell chase representative speak application deny could state ask information xxxx offer explain even approve credit offer get apply first account statement could use purchase ticket explicitly tell glad get deny absolutely longer interest account ask application withdraw representative oblige happen later mins put application xxxx notwithstanding explicit request proceed application contrary tell chase representative chase fact go ahead open credit account name xxxx report credit report chase refuse correct information credit report even though go ahead process application consent error   \n",
       "14                                                                                                                                                                                                                                                                                                                                                                                                                                                                                                                                                                                                 grand son give check deposit chase account fund clear chase bank close account never pay money say need speek grand son check clear money take chase bank refuse pay money grand son call chase time tell call verify check owner country time date happen xxxx check number xxxx claim number xxxx chase   \n",
       "\n",
       "                                                                                                                                                                                                                                                                                                                                                                                                                                                                                                                                                                                                                                                                                                                                                                                                                                                                          complaint_POS_removed  \\\n",
       "1                                                                                                                                                                                                                                                                                                                                                                                                                                                                                                                                      [(morning, NN), (name, NN), (appreciate, NN), (chase, NN), (bank, NN), (cardmember, NN), (service, NN), (chase, NN), (debt, NN), (verification, NN), (statement, NN), (bank, NN), (debt, NN), (mail, NN), (month, NN), (attempt, NN), (debt, NN), (right, NN), (information, NN), (consumer, NN), (chase, NN), (account, NN), (advance, NN), (help, NN)]   \n",
       "2                                                                                                                                                                                                                                                                                                                                                                                                                                                                                                                                                                                                                                                             [(card, NN), (tell, NN), (agent, NN), (date, NN), (information, NN), (order, NN), (upgrade, NN), (account, NN), (change, NN), (anniversary, NN), (date, NN), (consent, NN), (xxxx, NN), (record, NN), (agent, NN), (mislead, NN)]   \n",
       "10                                                                                                                                                                                                                                                                                                                                                                                                                                                                                                                                                                                                                                                                                                                                     [(card, NN), (report, NN), (application, NN), (submit, NN), (identity, NN), (consent, NN), (service, NN), (credit, NN), (identity, NN), (applicant, NN)]   \n",
       "11  [(try, NN), (book, NN), (ticket, NN), (come, NN), (offer, NN), (apply, NN), (ticket, NN), (card, NN), (information, NN), (offer, NN), (notify, NN), (decision, NN), (refer, NN), (chase, NN), (bank, NN), (chase, NN), (bank, NN), (screen, NN), (speak, NN), (application, NN), (deny, NN), (state, NN), (information, NN), (xxxx, NN), (offer, NN), (credit, NN), (offer, NN), (account, NN), (statement, NN), (purchase, NN), (ticket, NN), (get, NN), (deny, NN), (interest, NN), (account, NN), (application, NN), (representative, NN), (oblige, NN), (application, NN), (xxxx, NN), (request, NN), (proceed, NN), (application, NN), (tell, NN), (chase, NN), (chase, NN), (fact, NN), (credit, NN), (account, NN), (name, NN), (report, NN), (credit, NN), (report, NN), (chase, NN), (information, NN), (credit, NN), (report, NN), (application, NN), (consent, NN), (error, NN)]   \n",
       "14                                                                                                                                                                                                                                                                                                                                                                                                                                                                                                                     [(son, NN), (check, NN), (deposit, NN), (chase, NN), (account, NN), (fund, NN), (bank, NN), (account, NN), (money, NN), (son, NN), (check, NN), (money, NN), (bank, NN), (refuse, NN), (pay, NN), (money, NN), (son, NN), (call, NN), (time, NN), (check, NN), (owner, NN), (country, NN), (time, NN), (date, NN), (number, NN), (claim, NN), (number, NN), (chase, NN)]   \n",
       "\n",
       "                                                                                                                                                                                                                                                                                                                                                                                                                                                                                                                                                                                                                                                                                                                                                                                                                                                     lemmatized complaints_clean  \\\n",
       "1                                                                                                                                                                                                                                                                                                                                                                                                                                                                                                                                                                                 good morning name   appreciate could help put stop chase bank cardmember service write chase ask debt verification send statement acceptable ask bank validate debt instead receive mail every month attempt collect debt right know information consumer chase account     thank advance help   \n",
       "2                                                                                                                                                                                                                                                                                                                                                                                                                                                                                                                                                                                                                                                                                      upgrade   card  tell agent upgrade anniversary date would change turn agent give wrong information order upgrade account  change anniversary date   without consent  record agent mislead   \n",
       "10                                                                                                                                                                                                                                                                                                                                                                                                                                                                                                                                                                                                                                                                                                                 chase card report  however fraudulent application submit identity without consent fraudulently obtain service extend credit without verify identity applicant   \n",
       "11   try book   ticket come across offer apply towards ticket apply reward card put information offer within less minute notify via screen decision could make immediately contact  refer chase bank immediately contact chase bank within minutes get notification screen tell chase representative speak application deny could state ask information  offer explain even approve credit offer get apply first account statement could use purchase ticket explicitly tell glad get deny absolutely longer interest account ask application withdraw representative oblige happen later mins put application  notwithstanding explicit request proceed application contrary tell chase representative chase fact go ahead open credit account name  report credit report chase refuse correct information credit report even though go ahead process application consent error   \n",
       "14                                                                                                                                                                                                                                                                                                                                                                                                                                                                                                                                                                                 grand son give check deposit chase account fund clear chase bank close account never pay money say need speek grand son check clear money take chase bank refuse pay money grand son call chase time tell call verify check owner country time date happen  check number  claim number  chase   \n",
       "\n",
       "    Topic  \n",
       "1       2  \n",
       "2       3  \n",
       "10      1  \n",
       "11      1  \n",
       "14      0  "
      ]
     },
     "execution_count": 52,
     "metadata": {},
     "output_type": "execute_result"
    }
   ],
   "source": [
    "df_clean.head()"
   ]
  },
  {
   "cell_type": "code",
   "execution_count": 53,
   "metadata": {
    "id": "Xx-FrbkWJrGH"
   },
   "outputs": [],
   "source": [
    "#Keep the columns\"complaint_what_happened\" & \"Topic\" only in the new dataframe --> training_data\n",
    "training_data=df_clean[['complaints','Topic']]"
   ]
  },
  {
   "cell_type": "code",
   "execution_count": 54,
   "metadata": {
    "id": "lVg2pa12JrGI",
    "scrolled": true
   },
   "outputs": [
    {
     "data": {
      "text/html": [
       "<div>\n",
       "<style scoped>\n",
       "    .dataframe tbody tr th:only-of-type {\n",
       "        vertical-align: middle;\n",
       "    }\n",
       "\n",
       "    .dataframe tbody tr th {\n",
       "        vertical-align: top;\n",
       "    }\n",
       "\n",
       "    .dataframe thead th {\n",
       "        text-align: right;\n",
       "    }\n",
       "</style>\n",
       "<table border=\"1\" class=\"dataframe\">\n",
       "  <thead>\n",
       "    <tr style=\"text-align: right;\">\n",
       "      <th></th>\n",
       "      <th>complaints</th>\n",
       "      <th>Topic</th>\n",
       "    </tr>\n",
       "  </thead>\n",
       "  <tbody>\n",
       "    <tr>\n",
       "      <th>1</th>\n",
       "      <td>Good morning my name is XXXX XXXX and I appreciate it if you could help me put a stop to Chase Bank cardmember services. \\nIn 2018 I wrote to Chase asking for debt verification and what they sent me a statement which is not acceptable. I am asking the bank to validate the debt. Instead I been receiving mail every month from them attempting to collect a debt. \\nI have a right to know this information as a consumer. \\n\\nChase account # XXXX XXXX XXXX XXXX Thanks in advance for your help.</td>\n",
       "      <td>2</td>\n",
       "    </tr>\n",
       "    <tr>\n",
       "      <th>2</th>\n",
       "      <td>I upgraded my XXXX XXXX card in XX/XX/2018 and was told by the agent who did the upgrade my anniversary date would not change. It turned the agent was giving me the wrong information in order to upgrade the account. XXXX   changed my anniversary date from XX/XX/XXXX to XX/XX/XXXX without my consent! XXXX has the recording of the agent who was misled me.</td>\n",
       "      <td>3</td>\n",
       "    </tr>\n",
       "    <tr>\n",
       "      <th>10</th>\n",
       "      <td>Chase Card was reported on XX/XX/2019. However, fraudulent application have been submitted my identity without my consent to fraudulently obtain services. Do not extend credit without verifying the identity of the applicant.</td>\n",
       "      <td>1</td>\n",
       "    </tr>\n",
       "    <tr>\n",
       "      <th>11</th>\n",
       "      <td>On XX/XX/2018, while trying to book a XXXX  XXXX  ticket, I came across an offer for {$300.00} to be applied towards the ticket if I applied for a rewards card. I put in my information for the offer and within less than a minute, was notified via the screen that a decision could not be made. I immediately contacted XXXX and was referred to Chase Bank. I then immediately contacted Chase bank within no more than 10minutes of getting the notification on the screen and I was told by the Chase representative I spoke with that my application was denied but she could not state why. I asked for more information about the XXXX  offer and she explained that even if I had been approved, the credit offer only gets applied after the first account statement and could not be used to purchase the ticket. I then explicitly told her I was glad I got denied and I was ABSOLUTELY no longer interested in the account. I asked that the application be withdrawn and the representative obliged. This all happened no later than 10mins after putting in the application on XX/XX/2018. Notwithstanding my explicit request not to proceed with the application and contrary to what I was told by the Chase representative, Chase did in fact go ahead to open a credit account in my name on XX/XX/2018. This is now being reported in my Credit Report and Chase has refused to correct this information on my credit report even though they went ahead to process an application which I did not consent to and out of their error.</td>\n",
       "      <td>1</td>\n",
       "    </tr>\n",
       "    <tr>\n",
       "      <th>14</th>\n",
       "      <td>my grand son give me check for {$1600.00} i deposit it into my chase account after fund clear my chase bank closed my account never paid me my money they said they need to speek with my grand son check was clear money was taking by my chase bank refuse to pay me my money my grand son called chase 2 times they told him i should call not him to verify the check owner he is out the country most the time  date happen XX/XX/2018 check number XXXX claim number is XXXX with chase</td>\n",
       "      <td>0</td>\n",
       "    </tr>\n",
       "    <tr>\n",
       "      <th>...</th>\n",
       "      <td>...</td>\n",
       "      <td>...</td>\n",
       "    </tr>\n",
       "    <tr>\n",
       "      <th>78303</th>\n",
       "      <td>After being a Chase Card customer for well over a decade, was offered multiple solicitations for acquiring new credit cards with Chase - all with bonus airline miles and hotel points. Was approved for all ( 3 ) new cards with No annual fee for 1st year. After less than 2 months with payment always paid as agreed, Chase closed all my cards. One of my ( 3 ) approved new cards was never activated but was sent to me.\\n\\nChase has done harm to my credit, has charged me an annual fee even though they cancelled my account, failed to credit my points for both airlines and hotel, failed to credit up to {$100.00} for XXXX enrollment and failed to credit airline charge as agreed upon</td>\n",
       "      <td>1</td>\n",
       "    </tr>\n",
       "    <tr>\n",
       "      <th>78309</th>\n",
       "      <td>On Wednesday, XX/XX/XXXX I called Chas, my XXXX XXXX Visa Credit Card provider, and asked how to make a claim under their purchase protection benefit. On XX/XX/XXXX, I purchased three high school textbooks for my XXXX year old daughter because she transferred to a new school. All three books were damaged when a water bottle in her backpack broke. The Chase representative assured me the textbooks would be covered and instructed me to file a claim at XXXX. I immediately went to the website and filed the claim, including uploading all of the requested paperwork which included a copy of my credit card statement, copies of the three receipts and photographic evidence of the damage. The website even had \" books '' as one of the catagories I could list as the type of item they cover and that I could make a claim on. After following up repeatedly on my claim since the insurance provider failed to \" review my information and contact me within 5 business days to outline the next steps of the process, '' as outlined in an email I received acknowledging my claim submission, I called to complain. The representative said claims are not looked at by an examiner \" for eight to ten days '' and then it would take \" two days to actually review the claim. '' I responded that this information was contradictory to the information provided in writing in the email XXXX sent to me, and she said that she is not an adjuster and that is how it works. I then asked to speak with an adjuster and she agreed to connect me to one. I was then put on hold and when she returned, she said my file had \" just been updated while I was on hold and that the claim was being denied because textbooks have finite lives and are undergo revision after courses end. '' I explained that my daughter 's course had not ended and that I was told specifically by Chase that my textbook purchases would be covered and was again told they were refusing my claim. '' By the time the call ended I received an email stating that my claim status had been updated and was being denied. I find this completely outrageous and borderline fraudulent.</td>\n",
       "      <td>3</td>\n",
       "    </tr>\n",
       "    <tr>\n",
       "      <th>78310</th>\n",
       "      <td>I am not familiar with XXXX pay and did not understand the great risk this provides to consumers. I believed this to be safe as it was through my Chase bank app. I have been with Chase for almost 20 years and trust their mobile banking and now am sadly regretful. I am being told to deal with the merchant except the merchant has refused to answer my inquiries and now shut down communication. The website of the said merchant looks entirely legitamite and is even using the faces of highly successful brands with individuals linked to their social media without their consent. In performing research of the phone number and other associated information available through PI it is very clear this merchant is continually creating new account title holders to perpetuate this cycle of fraud. Furthermore as this is a non fixed voip being used I believe they are fraudulently using the identity of the real XXXX XXXX Chase Bank told me they wouldnt even investigate, report this to XXXX or allow me to file a report or take any potential recourse for the matter. There isnt even a protocol in place to address this issue yet! The chase mobile app verbiage makes a point to deceptively position this app as under the branch of Chase banking service and as such, imply a degree of entitlement to its customer service protection protocols. Chase has your back which reads on the very same link as the XXXX tab ... .is most certainly not true. This places consumers at risk when using this mobile service and does not flag the concern of Chase in the slightest. At minimum the risk of using XXXX on your mobile banking app must realistically be made aware to the public as it stands to be potentially devastating I have plans to file reports with all corresponding authorities as well as notify and contact the individual whose identity is being misused to inform him. I also intend to urge My neighbor who works in television that the news network should perhaps present the risk of using XXXX and XXXX integrated banking apps to the public. I understand fraud and scamming are overwhelming rampant but a banking mogul such as Chase not having any recourse of action is simply a risk that needs to Be disclosed more throughly. I would not have clicked on the to link to the extent I did if I would have been better informed.</td>\n",
       "      <td>3</td>\n",
       "    </tr>\n",
       "    <tr>\n",
       "      <th>78311</th>\n",
       "      <td>I have had flawless credit for 30 yrs. I've had Chase credit cards, \" Chase Freedom '' specifically since XXXX with no problems ever. I've done many balance transfers in my life, so I have plenty of experience. I recently did a balance transfer with Chase Freedom for {$9000.00} ( did many with other Chase cards, but apparently not \" Freeedom '' ) When I got my first bill, my minimum payment was {$470.00}. I was SHOCKED. I immediately called on XX/XX/XXXX. The representative told me that the min payment was so high bc they were making me pay the \" Balance transfer fee '' up front, but my future payments would be around {$90.00}, 1 % of total balance ( which is standard, AND the rate THEY ADVERTISE ) I went to pay the next payment on XX/XX/XXXX &amp; was once again SHOCKED to see my minimum payment was {$440.00}. I paid it, but I have been trying to work this out with Chase ever since. Apparently, the representative was WRONG &amp; I am actually expected to pay 5 %, instead of the standard 1 % they normally charge, bc that was written in my \" user agreement '' paperwork back in XX/XX/XXXX!! 28 years ago!!! They currently charge 1 % to everyone else in the world. My other cards, including Chase, are all 1 %. This {$440.00} is an unreasonable amt to expect someone to pay for 1 credit card. I have kids &amp; many other bills to pay. They never warned me they were so \" off the charts '' with their minimum payment percentage, ( except for my original paperwork in XX/XX/XXXX ). They offer everyone else 1 % terms. They change THEIR \" terms '' anytime it benefits THEM, but won't budge to lower it to make this payment more affordable &amp; reasonable. So, I also asked them ( as soon as I found this out ) to refund my {$360.00} transfer fee so I could use it to transfer the balance to a different card with a more reasonable minimum payment. They refused. I also asked if they would transfer to my CHASE SLATE card, which has 1 % min pmt, they also refused. They will not work with me at all. I am a responsible working person. I would like to preserve my good credit. I could easily transfer again to a different card, but I'd have to pay another lump sum of $ again.</td>\n",
       "      <td>4</td>\n",
       "    </tr>\n",
       "    <tr>\n",
       "      <th>78312</th>\n",
       "      <td>Roughly 10+ years ago I closed out my accounts with JP Morgan Chase Bank XXXX in order to close out an unsecured line of credit I had to pay it off. I did that to close out my account roughly {$500.00} payment when I closed out the accounts, and now I get this late payment that showed up on my credit report after 10+ years stating I owe close to {$900.00} dollars. I have never had any payment schedules or notifications in the 10+ years because I paid it off. Upon calling them I am told I need to show proof I paid it off. I would like to think that if indeed I had not paid it off ( which I did ) I would have immediately received late payment notifications. I left Chase bank because of some poor customer service and charges that were way out of line with the other banking institutions.</td>\n",
       "      <td>4</td>\n",
       "    </tr>\n",
       "  </tbody>\n",
       "</table>\n",
       "<p>21072 rows × 2 columns</p>\n",
       "</div>"
      ],
      "text/plain": [
       "                                                                                                                                                                                                                                                                                                                                                                                                                                                                                                                                                                                                                                                                                                                                                                                                                                                                                                                                                                                                                                                                                                                                                                                                                                                                                                                                                                                                                                                                                                                                                                                                                                                                                                                                                                                                                                                                                                                                                                                                                                                                                                                                                                                                                                                                                                                                                                                                            complaints  \\\n",
       "1                                                                                                                                                                                                                                                                                                                                                                                                                                                                                                                                                                                                                                                                                                                                                                                                                                                                                                                                                                                                                                                                                                                                                                                                                                                                                                                                                                                                                                                                                                                                                                                                                                                                                                                                                                                                                                                                                                           Good morning my name is XXXX XXXX and I appreciate it if you could help me put a stop to Chase Bank cardmember services. \\nIn 2018 I wrote to Chase asking for debt verification and what they sent me a statement which is not acceptable. I am asking the bank to validate the debt. Instead I been receiving mail every month from them attempting to collect a debt. \\nI have a right to know this information as a consumer. \\n\\nChase account # XXXX XXXX XXXX XXXX Thanks in advance for your help.   \n",
       "2                                                                                                                                                                                                                                                                                                                                                                                                                                                                                                                                                                                                                                                                                                                                                                                                                                                                                                                                                                                                                                                                                                                                                                                                                                                                                                                                                                                                                                                                                                                                                                                                                                                                                                                                                                                                                                                                                                                                                                                                                                                  I upgraded my XXXX XXXX card in XX/XX/2018 and was told by the agent who did the upgrade my anniversary date would not change. It turned the agent was giving me the wrong information in order to upgrade the account. XXXX   changed my anniversary date from XX/XX/XXXX to XX/XX/XXXX without my consent! XXXX has the recording of the agent who was misled me.   \n",
       "10                                                                                                                                                                                                                                                                                                                                                                                                                                                                                                                                                                                                                                                                                                                                                                                                                                                                                                                                                                                                                                                                                                                                                                                                                                                                                                                                                                                                                                                                                                                                                                                                                                                                                                                                                                                                                                                                                                                                                                                                                                                                                                                                                                                    Chase Card was reported on XX/XX/2019. However, fraudulent application have been submitted my identity without my consent to fraudulently obtain services. Do not extend credit without verifying the identity of the applicant.   \n",
       "11                                                                                                                                                                                                                                                                                                                                                                                                                                                                                                                                                                                                                                                                                                                                                                                                                                                      On XX/XX/2018, while trying to book a XXXX  XXXX  ticket, I came across an offer for {$300.00} to be applied towards the ticket if I applied for a rewards card. I put in my information for the offer and within less than a minute, was notified via the screen that a decision could not be made. I immediately contacted XXXX and was referred to Chase Bank. I then immediately contacted Chase bank within no more than 10minutes of getting the notification on the screen and I was told by the Chase representative I spoke with that my application was denied but she could not state why. I asked for more information about the XXXX  offer and she explained that even if I had been approved, the credit offer only gets applied after the first account statement and could not be used to purchase the ticket. I then explicitly told her I was glad I got denied and I was ABSOLUTELY no longer interested in the account. I asked that the application be withdrawn and the representative obliged. This all happened no later than 10mins after putting in the application on XX/XX/2018. Notwithstanding my explicit request not to proceed with the application and contrary to what I was told by the Chase representative, Chase did in fact go ahead to open a credit account in my name on XX/XX/2018. This is now being reported in my Credit Report and Chase has refused to correct this information on my credit report even though they went ahead to process an application which I did not consent to and out of their error.   \n",
       "14                                                                                                                                                                                                                                                                                                                                                                                                                                                                                                                                                                                                                                                                                                                                                                                                                                                                                                                                                                                                                                                                                                                                                                                                                                                                                                                                                                                                                                                                                                                                                                                                                                                                                                                                                                                                                                                                                                                       my grand son give me check for {$1600.00} i deposit it into my chase account after fund clear my chase bank closed my account never paid me my money they said they need to speek with my grand son check was clear money was taking by my chase bank refuse to pay me my money my grand son called chase 2 times they told him i should call not him to verify the check owner he is out the country most the time  date happen XX/XX/2018 check number XXXX claim number is XXXX with chase   \n",
       "...                                                                                                                                                                                                                                                                                                                                                                                                                                                                                                                                                                                                                                                                                                                                                                                                                                                                                                                                                                                                                                                                                                                                                                                                                                                                                                                                                                                                                                                                                                                                                                                                                                                                                                                                                                                                                                                                                                                                                                                                                                                                                                                                                                                                                                                                                                                                                                                                                ...   \n",
       "78303                                                                                                                                                                                                                                                                                                                                                                                                                                                                                                                                                                                                                                                                                                                                                                                                                                                                                                                                                                                                                                                                                                                                                                                                                                                                                                                                                                                                                                                                                                                                                                                                                                                                                                        After being a Chase Card customer for well over a decade, was offered multiple solicitations for acquiring new credit cards with Chase - all with bonus airline miles and hotel points. Was approved for all ( 3 ) new cards with No annual fee for 1st year. After less than 2 months with payment always paid as agreed, Chase closed all my cards. One of my ( 3 ) approved new cards was never activated but was sent to me.\\n\\nChase has done harm to my credit, has charged me an annual fee even though they cancelled my account, failed to credit my points for both airlines and hotel, failed to credit up to {$100.00} for XXXX enrollment and failed to credit airline charge as agreed upon   \n",
       "78309                                                                                                                                                                                                               On Wednesday, XX/XX/XXXX I called Chas, my XXXX XXXX Visa Credit Card provider, and asked how to make a claim under their purchase protection benefit. On XX/XX/XXXX, I purchased three high school textbooks for my XXXX year old daughter because she transferred to a new school. All three books were damaged when a water bottle in her backpack broke. The Chase representative assured me the textbooks would be covered and instructed me to file a claim at XXXX. I immediately went to the website and filed the claim, including uploading all of the requested paperwork which included a copy of my credit card statement, copies of the three receipts and photographic evidence of the damage. The website even had \" books '' as one of the catagories I could list as the type of item they cover and that I could make a claim on. After following up repeatedly on my claim since the insurance provider failed to \" review my information and contact me within 5 business days to outline the next steps of the process, '' as outlined in an email I received acknowledging my claim submission, I called to complain. The representative said claims are not looked at by an examiner \" for eight to ten days '' and then it would take \" two days to actually review the claim. '' I responded that this information was contradictory to the information provided in writing in the email XXXX sent to me, and she said that she is not an adjuster and that is how it works. I then asked to speak with an adjuster and she agreed to connect me to one. I was then put on hold and when she returned, she said my file had \" just been updated while I was on hold and that the claim was being denied because textbooks have finite lives and are undergo revision after courses end. '' I explained that my daughter 's course had not ended and that I was told specifically by Chase that my textbook purchases would be covered and was again told they were refusing my claim. '' By the time the call ended I received an email stating that my claim status had been updated and was being denied. I find this completely outrageous and borderline fraudulent.   \n",
       "78310  I am not familiar with XXXX pay and did not understand the great risk this provides to consumers. I believed this to be safe as it was through my Chase bank app. I have been with Chase for almost 20 years and trust their mobile banking and now am sadly regretful. I am being told to deal with the merchant except the merchant has refused to answer my inquiries and now shut down communication. The website of the said merchant looks entirely legitamite and is even using the faces of highly successful brands with individuals linked to their social media without their consent. In performing research of the phone number and other associated information available through PI it is very clear this merchant is continually creating new account title holders to perpetuate this cycle of fraud. Furthermore as this is a non fixed voip being used I believe they are fraudulently using the identity of the real XXXX XXXX Chase Bank told me they wouldnt even investigate, report this to XXXX or allow me to file a report or take any potential recourse for the matter. There isnt even a protocol in place to address this issue yet! The chase mobile app verbiage makes a point to deceptively position this app as under the branch of Chase banking service and as such, imply a degree of entitlement to its customer service protection protocols. Chase has your back which reads on the very same link as the XXXX tab ... .is most certainly not true. This places consumers at risk when using this mobile service and does not flag the concern of Chase in the slightest. At minimum the risk of using XXXX on your mobile banking app must realistically be made aware to the public as it stands to be potentially devastating I have plans to file reports with all corresponding authorities as well as notify and contact the individual whose identity is being misused to inform him. I also intend to urge My neighbor who works in television that the news network should perhaps present the risk of using XXXX and XXXX integrated banking apps to the public. I understand fraud and scamming are overwhelming rampant but a banking mogul such as Chase not having any recourse of action is simply a risk that needs to Be disclosed more throughly. I would not have clicked on the to link to the extent I did if I would have been better informed.   \n",
       "78311                                                                                                                                                      I have had flawless credit for 30 yrs. I've had Chase credit cards, \" Chase Freedom '' specifically since XXXX with no problems ever. I've done many balance transfers in my life, so I have plenty of experience. I recently did a balance transfer with Chase Freedom for {$9000.00} ( did many with other Chase cards, but apparently not \" Freeedom '' ) When I got my first bill, my minimum payment was {$470.00}. I was SHOCKED. I immediately called on XX/XX/XXXX. The representative told me that the min payment was so high bc they were making me pay the \" Balance transfer fee '' up front, but my future payments would be around {$90.00}, 1 % of total balance ( which is standard, AND the rate THEY ADVERTISE ) I went to pay the next payment on XX/XX/XXXX & was once again SHOCKED to see my minimum payment was {$440.00}. I paid it, but I have been trying to work this out with Chase ever since. Apparently, the representative was WRONG & I am actually expected to pay 5 %, instead of the standard 1 % they normally charge, bc that was written in my \" user agreement '' paperwork back in XX/XX/XXXX!! 28 years ago!!! They currently charge 1 % to everyone else in the world. My other cards, including Chase, are all 1 %. This {$440.00} is an unreasonable amt to expect someone to pay for 1 credit card. I have kids & many other bills to pay. They never warned me they were so \" off the charts '' with their minimum payment percentage, ( except for my original paperwork in XX/XX/XXXX ). They offer everyone else 1 % terms. They change THEIR \" terms '' anytime it benefits THEM, but won't budge to lower it to make this payment more affordable & reasonable. So, I also asked them ( as soon as I found this out ) to refund my {$360.00} transfer fee so I could use it to transfer the balance to a different card with a more reasonable minimum payment. They refused. I also asked if they would transfer to my CHASE SLATE card, which has 1 % min pmt, they also refused. They will not work with me at all. I am a responsible working person. I would like to preserve my good credit. I could easily transfer again to a different card, but I'd have to pay another lump sum of $ again.   \n",
       "78312                                                                                                                                                                                                                                                                                                                                                                                                                                                                                                                                                                                                                                                                                                                                                                                                                                                                                                                                                                                                                                                                                                                                                                                                                                                                                                                                                                                                                                                                                                                                                                                       Roughly 10+ years ago I closed out my accounts with JP Morgan Chase Bank XXXX in order to close out an unsecured line of credit I had to pay it off. I did that to close out my account roughly {$500.00} payment when I closed out the accounts, and now I get this late payment that showed up on my credit report after 10+ years stating I owe close to {$900.00} dollars. I have never had any payment schedules or notifications in the 10+ years because I paid it off. Upon calling them I am told I need to show proof I paid it off. I would like to think that if indeed I had not paid it off ( which I did ) I would have immediately received late payment notifications. I left Chase bank because of some poor customer service and charges that were way out of line with the other banking institutions.   \n",
       "\n",
       "       Topic  \n",
       "1          2  \n",
       "2          3  \n",
       "10         1  \n",
       "11         1  \n",
       "14         0  \n",
       "...      ...  \n",
       "78303      1  \n",
       "78309      3  \n",
       "78310      3  \n",
       "78311      4  \n",
       "78312      4  \n",
       "\n",
       "[21072 rows x 2 columns]"
      ]
     },
     "execution_count": 54,
     "metadata": {},
     "output_type": "execute_result"
    }
   ],
   "source": [
    "training_data."
   ]
  },
  {
   "cell_type": "code",
   "execution_count": 55,
   "metadata": {},
   "outputs": [
    {
     "data": {
      "text/plain": [
       "(21072, 2)"
      ]
     },
     "execution_count": 55,
     "metadata": {},
     "output_type": "execute_result"
    }
   ],
   "source": [
    "training_data.shape"
   ]
  },
  {
   "cell_type": "markdown",
   "metadata": {
    "id": "280Vbqk-7a8M"
   },
   "source": [
    "#### Apply the supervised models on the training data created. In this process, you have to do the following:\n",
    "* Create the vector counts using Count Vectoriser\n",
    "* Transform the word vecotr to tf-idf\n",
    "* Create the train & test data using the train_test_split on the tf-idf & topics\n"
   ]
  },
  {
   "cell_type": "code",
   "execution_count": 56,
   "metadata": {},
   "outputs": [
    {
     "data": {
      "text/plain": [
       "array([2, 3, 1, 0, 4])"
      ]
     },
     "execution_count": 56,
     "metadata": {},
     "output_type": "execute_result"
    }
   ],
   "source": [
    "training_data.Topic.unique()"
   ]
  },
  {
   "cell_type": "code",
   "execution_count": 59,
   "metadata": {},
   "outputs": [],
   "source": [
    "\n",
    "count_vect = CountVectorizer()\n",
    "X_train_counts = count_vect.fit_transform(training_data['complaints'])\n",
    "\n",
    "tfidf_transformer = TfidfTransformer()\n",
    "X_train_tfidf = tfidf_transformer.fit_transform(X_train_counts)\n",
    "y=training_data.Topic"
   ]
  },
  {
   "cell_type": "code",
   "execution_count": 60,
   "metadata": {},
   "outputs": [],
   "source": [
    "X_train,X_test,y_train,y_test=train_test_split(X_train_tfidf,y,train_size=0.8,random_state=40)"
   ]
  },
  {
   "cell_type": "markdown",
   "metadata": {
    "id": "uMU3vj6w-wqL"
   },
   "source": [
    "You have to try atleast 3 models on the train & test data from these options:\n",
    "* Logistic regression\n",
    "* Decision Tree\n",
    "* Random Forest\n",
    "* Naive Bayes (optional)\n",
    "\n",
    "**Using the required evaluation metrics judge the tried models and select the ones performing the best**"
   ]
  },
  {
   "cell_type": "code",
   "execution_count": 66,
   "metadata": {
    "id": "udLHpPsZJrGI"
   },
   "outputs": [],
   "source": [
    "# Write your code here to build any 3 models and evaluate them using the required metrics\n",
    "#Logistic Regression\n",
    "from sklearn.model_selection import train_test_split\n",
    "from sklearn.linear_model import LogisticRegression\n",
    "from sklearn.tree import DecisionTreeClassifier\n",
    "from sklearn.ensemble import RandomForestClassifier\n",
    "from sklearn.naive_bayes import GaussianNB\n",
    "\n",
    "from sklearn.metrics import classification_report"
   ]
  },
  {
   "cell_type": "code",
   "execution_count": 67,
   "metadata": {},
   "outputs": [
    {
     "name": "stdout",
     "output_type": "stream",
     "text": [
      "X_train shape: (16857, 29725)\n",
      "X_test shape: (4215, 29725)\n"
     ]
    }
   ],
   "source": [
    "print(\"X_train shape:\", X_train.shape)\n",
    "print(\"X_test shape:\", X_test.shape)"
   ]
  },
  {
   "cell_type": "code",
   "execution_count": 68,
   "metadata": {},
   "outputs": [
    {
     "name": "stdout",
     "output_type": "stream",
     "text": [
      "y_train shape: (16857, 29725)\n",
      "y_test shape: (4215, 29725)\n"
     ]
    }
   ],
   "source": [
    "print(\"y_train shape:\", X_train.shape)\n",
    "print(\"y_test shape:\", X_test.shape)"
   ]
  },
  {
   "cell_type": "code",
   "execution_count": 74,
   "metadata": {},
   "outputs": [
    {
     "name": "stdout",
     "output_type": "stream",
     "text": [
      "              precision    recall  f1-score   support\n",
      "\n",
      "           0       0.93      0.96      0.95       976\n",
      "           1       0.94      0.94      0.94       827\n",
      "           2       0.95      0.93      0.94       840\n",
      "           3       0.92      0.94      0.93      1099\n",
      "           4       0.94      0.88      0.91       473\n",
      "\n",
      "    accuracy                           0.93      4215\n",
      "   macro avg       0.94      0.93      0.93      4215\n",
      "weighted avg       0.94      0.93      0.93      4215\n",
      "\n"
     ]
    }
   ],
   "source": [
    "lr = LogisticRegression(max_iter=6000).fit(X_train, y_train)\n",
    "predicted = lr.predict(X_test)\n",
    "\n",
    "print(classification_report(y_true=y_test, y_pred=predicted))"
   ]
  },
  {
   "cell_type": "code",
   "execution_count": 70,
   "metadata": {},
   "outputs": [
    {
     "name": "stdout",
     "output_type": "stream",
     "text": [
      "              precision    recall  f1-score   support\n",
      "\n",
      "           0       0.78      0.78      0.78       976\n",
      "           1       0.77      0.78      0.78       827\n",
      "           2       0.82      0.77      0.79       840\n",
      "           3       0.72      0.74      0.73      1099\n",
      "           4       0.64      0.65      0.65       473\n",
      "\n",
      "    accuracy                           0.75      4215\n",
      "   macro avg       0.75      0.74      0.74      4215\n",
      "weighted avg       0.75      0.75      0.75      4215\n",
      "\n"
     ]
    }
   ],
   "source": [
    "# Decision tree classifier\n",
    "dt = DecisionTreeClassifier().fit(X_train, y_train)\n",
    "predicted = dt.predict(X_test)\n",
    "\n",
    "print(classification_report(y_pred=predicted, y_true=y_test))"
   ]
  },
  {
   "cell_type": "code",
   "execution_count": 77,
   "metadata": {},
   "outputs": [
    {
     "name": "stdout",
     "output_type": "stream",
     "text": [
      "              precision    recall  f1-score   support\n",
      "\n",
      "           0       0.80      0.92      0.86       976\n",
      "           1       0.83      0.86      0.84       827\n",
      "           2       0.90      0.86      0.88       840\n",
      "           3       0.80      0.87      0.83      1099\n",
      "           4       0.93      0.46      0.61       473\n",
      "\n",
      "    accuracy                           0.83      4215\n",
      "   macro avg       0.85      0.79      0.81      4215\n",
      "weighted avg       0.84      0.83      0.83      4215\n",
      "\n"
     ]
    }
   ],
   "source": [
    "rfc = RandomForestClassifier(max_depth=100)\n",
    "rfc.fit(X_train, y_train)\n",
    "predicted = rfc.predict(X_test)\n",
    "\n",
    "print(classification_report(y_pred=predicted, y_true=y_test))"
   ]
  },
  {
   "cell_type": "markdown",
   "metadata": {},
   "source": [
    "## Based on overall accuracy logistic regression is best model with 93% acuracy"
   ]
  },
  {
   "cell_type": "markdown",
   "metadata": {},
   "source": [
    "## Model Verification and Infernce"
   ]
  },
  {
   "cell_type": "code",
   "execution_count": 87,
   "metadata": {},
   "outputs": [],
   "source": [
    "with open('/Users/arunprakash/Desktop/test.json', 'r') as test_file:\n",
    "    test_data = json.load(test_file)\n",
    "\n",
    "test_df=pd.json_normalize(test_data)"
   ]
  },
  {
   "cell_type": "code",
   "execution_count": 88,
   "metadata": {},
   "outputs": [
    {
     "data": {
      "text/plain": [
       "Index(['_index', '_type', '_id', '_score', '_source.tags', '_source.zip_code',\n",
       "       '_source.complaint_id', '_source.issue', '_source.date_received',\n",
       "       '_source.state', '_source.consumer_disputed', '_source.product',\n",
       "       '_source.company_response', '_source.company', '_source.submitted_via',\n",
       "       '_source.date_sent_to_company', '_source.company_public_response',\n",
       "       '_source.sub_product', '_source.timely',\n",
       "       '_source.complaint_what_happened', '_source.sub_issue',\n",
       "       '_source.consumer_consent_provided'],\n",
       "      dtype='object')"
      ]
     },
     "execution_count": 88,
     "metadata": {},
     "output_type": "execute_result"
    }
   ],
   "source": [
    "test_df.columns"
   ]
  },
  {
   "cell_type": "code",
   "execution_count": 89,
   "metadata": {},
   "outputs": [
    {
     "data": {
      "text/plain": [
       "(10, 22)"
      ]
     },
     "execution_count": 89,
     "metadata": {},
     "output_type": "execute_result"
    }
   ],
   "source": [
    "test_df.shape"
   ]
  },
  {
   "cell_type": "code",
   "execution_count": 96,
   "metadata": {},
   "outputs": [],
   "source": [
    "test_df['_source.complaint_what_happened'].replace(['', 'N/A', 'null', 'NaN'], np.nan, inplace=True)\n",
    "test_df.dropna(subset=['_source.complaint_what_happened'],inplace=True)"
   ]
  },
  {
   "cell_type": "code",
   "execution_count": 97,
   "metadata": {},
   "outputs": [
    {
     "data": {
      "text/plain": [
       "1    I received a letter from XYZ Financial claiming I owe a debt, but I have no record of this debt.\n",
       "2                                                   I was charged an annual fee without prior notice.\n",
       "6                                           There is an incorrect account listed on my credit report.\n",
       "8                          I am having trouble making my mortgage payments due to financial hardship.\n",
       "9                                      I was scammed into sending money through a fraudulent website.\n",
       "Name: _source.complaint_what_happened, dtype: object"
      ]
     },
     "execution_count": 97,
     "metadata": {},
     "output_type": "execute_result"
    }
   ],
   "source": [
    "test_df['_source.complaint_what_happened']"
   ]
  },
  {
   "cell_type": "code",
   "execution_count": null,
   "metadata": {},
   "outputs": [],
   "source": []
  },
  {
   "cell_type": "code",
   "execution_count": 107,
   "metadata": {},
   "outputs": [],
   "source": [
    "\n",
    "def predict_lr(text):\n",
    "    Topic_names = {0:'Account Services', 1:'Others', 2:'Mortgage/Loan', 3:'Credit card or prepaid card', 4:'Theft/Dispute Reporting'}\n",
    "    test_counts = count_vect.transform(text)\n",
    "    test_tfidf = tfidf_transformer.transform(test_counts)\n",
    "    predicted = lr.predict(test_tfidf)\n",
    "    return Topic_names[predicted[0]]"
   ]
  },
  {
   "cell_type": "code",
   "execution_count": 108,
   "metadata": {},
   "outputs": [
    {
     "data": {
      "text/html": [
       "<div>\n",
       "<style scoped>\n",
       "    .dataframe tbody tr th:only-of-type {\n",
       "        vertical-align: middle;\n",
       "    }\n",
       "\n",
       "    .dataframe tbody tr th {\n",
       "        vertical-align: top;\n",
       "    }\n",
       "\n",
       "    .dataframe thead th {\n",
       "        text-align: right;\n",
       "    }\n",
       "</style>\n",
       "<table border=\"1\" class=\"dataframe\">\n",
       "  <thead>\n",
       "    <tr style=\"text-align: right;\">\n",
       "      <th></th>\n",
       "      <th>_source.complaint_what_happened</th>\n",
       "      <th>tag</th>\n",
       "    </tr>\n",
       "  </thead>\n",
       "  <tbody>\n",
       "    <tr>\n",
       "      <th>1</th>\n",
       "      <td>I received a letter from XYZ Financial claiming I owe a debt, but I have no record of this debt.</td>\n",
       "      <td>Mortgage/Loan</td>\n",
       "    </tr>\n",
       "    <tr>\n",
       "      <th>2</th>\n",
       "      <td>I was charged an annual fee without prior notice.</td>\n",
       "      <td>Credit card or prepaid card</td>\n",
       "    </tr>\n",
       "    <tr>\n",
       "      <th>6</th>\n",
       "      <td>There is an incorrect account listed on my credit report.</td>\n",
       "      <td>Others</td>\n",
       "    </tr>\n",
       "    <tr>\n",
       "      <th>8</th>\n",
       "      <td>I am having trouble making my mortgage payments due to financial hardship.</td>\n",
       "      <td>Mortgage/Loan</td>\n",
       "    </tr>\n",
       "    <tr>\n",
       "      <th>9</th>\n",
       "      <td>I was scammed into sending money through a fraudulent website.</td>\n",
       "      <td>Credit card or prepaid card</td>\n",
       "    </tr>\n",
       "  </tbody>\n",
       "</table>\n",
       "</div>"
      ],
      "text/plain": [
       "                                                                    _source.complaint_what_happened  \\\n",
       "1  I received a letter from XYZ Financial claiming I owe a debt, but I have no record of this debt.   \n",
       "2                                                 I was charged an annual fee without prior notice.   \n",
       "6                                         There is an incorrect account listed on my credit report.   \n",
       "8                        I am having trouble making my mortgage payments due to financial hardship.   \n",
       "9                                    I was scammed into sending money through a fraudulent website.   \n",
       "\n",
       "                           tag  \n",
       "1                Mortgage/Loan  \n",
       "2  Credit card or prepaid card  \n",
       "6                       Others  \n",
       "8                Mortgage/Loan  \n",
       "9  Credit card or prepaid card  "
      ]
     },
     "execution_count": 108,
     "metadata": {},
     "output_type": "execute_result"
    }
   ],
   "source": [
    "test_df['tag'] = test_df['_source.complaint_what_happened'].apply(lambda x: predict_lr([x]))\n",
    "test_df[['_source.complaint_what_happened','tag']]"
   ]
  },
  {
   "cell_type": "code",
   "execution_count": null,
   "metadata": {},
   "outputs": [],
   "source": []
  }
 ],
 "metadata": {
  "colab": {
   "collapsed_sections": [
    "T9jD_6SeJrF3",
    "5DfCSbbmJrF4",
    "yYzD85nTJrGA",
    "piyLxzj6v07j",
    "280Vbqk-7a8M"
   ],
   "provenance": []
  },
  "kernelspec": {
   "display_name": "Python 3 (ipykernel)",
   "language": "python",
   "name": "python3"
  },
  "language_info": {
   "codemirror_mode": {
    "name": "ipython",
    "version": 3
   },
   "file_extension": ".py",
   "mimetype": "text/x-python",
   "name": "python",
   "nbconvert_exporter": "python",
   "pygments_lexer": "ipython3",
   "version": "3.11.7"
  }
 },
 "nbformat": 4,
 "nbformat_minor": 4
}
