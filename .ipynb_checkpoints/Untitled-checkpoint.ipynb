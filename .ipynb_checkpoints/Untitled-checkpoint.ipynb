{
 "cells": [
  {
   "cell_type": "code",
   "execution_count": 1,
   "id": "cbf43a54-9c4e-4f85-90c8-c6852aabdd8f",
   "metadata": {},
   "outputs": [],
   "source": [
    "import gensim"
   ]
  },
  {
   "cell_type": "code",
   "execution_count": 3,
   "id": "842c6aa9-468e-469c-a73f-0495ae6c8fbf",
   "metadata": {},
   "outputs": [],
   "source": [
    "from gensim.models import Word2Vec"
   ]
  },
  {
   "cell_type": "code",
   "execution_count": 4,
   "id": "4f7d750c-b31b-4e0f-b79c-87db336e702e",
   "metadata": {},
   "outputs": [],
   "source": [
    "sentences = [ [\"cat\", \"say\", \"meow\"], [\"dog\", \"say\", \"woof\"], [\"cat\", \"chase\", \"mouse\"], [\"dog\", \"chase\", \"cat\"], ]"
   ]
  },
  {
   "cell_type": "code",
   "execution_count": 5,
   "id": "c44d08d7-563a-4477-8d96-78c8cc2cd788",
   "metadata": {},
   "outputs": [],
   "source": [
    "model=Word2Vec(sentences,vector_size=50,window=3,min_count=1)\n",
    "vector=model.wv['cat']"
   ]
  },
  {
   "cell_type": "code",
   "execution_count": 6,
   "id": "7967d7af-df51-4aa1-ae87-044f3e35f899",
   "metadata": {},
   "outputs": [
    {
     "data": {
      "text/plain": [
       "(50,)"
      ]
     },
     "execution_count": 6,
     "metadata": {},
     "output_type": "execute_result"
    }
   ],
   "source": [
    "vector.shape"
   ]
  },
  {
   "cell_type": "code",
   "execution_count": 7,
   "id": "2d0a141d-fb07-4682-8164-70dd273d2c77",
   "metadata": {},
   "outputs": [
    {
     "data": {
      "text/plain": [
       "array([-1.0724545e-03,  4.7286271e-04,  1.0206699e-02,  1.8018546e-02,\n",
       "       -1.8605899e-02, -1.4233618e-02,  1.2917745e-02,  1.7945977e-02,\n",
       "       -1.0030856e-02, -7.5267432e-03,  1.4761009e-02, -3.0669428e-03,\n",
       "       -9.0732267e-03,  1.3108104e-02, -9.7203208e-03, -3.6320353e-03,\n",
       "        5.7531595e-03,  1.9837476e-03, -1.6570430e-02, -1.8897636e-02,\n",
       "        1.4623532e-02,  1.0140524e-02,  1.3515387e-02,  1.5257311e-03,\n",
       "        1.2701781e-02, -6.8107317e-03, -1.8928028e-03,  1.1537147e-02,\n",
       "       -1.5043275e-02, -7.8722071e-03, -1.5023164e-02, -1.8600845e-03,\n",
       "        1.9076237e-02, -1.4638334e-02, -4.6675373e-03, -3.8754821e-03,\n",
       "        1.6154874e-02, -1.1861792e-02,  9.0324880e-05, -9.5074680e-03,\n",
       "       -1.9207101e-02,  1.0014586e-02, -1.7519170e-02, -8.7836506e-03,\n",
       "       -7.0199967e-05, -5.9236289e-04, -1.5322480e-02,  1.9229487e-02,\n",
       "        9.9641159e-03,  1.8466286e-02], dtype=float32)"
      ]
     },
     "execution_count": 7,
     "metadata": {},
     "output_type": "execute_result"
    }
   ],
   "source": [
    "vector"
   ]
  },
  {
   "cell_type": "code",
   "execution_count": 8,
   "id": "967ea463-0d09-4b77-80ce-32ccef296d83",
   "metadata": {},
   "outputs": [],
   "source": [
    "similar_words=model.wv.most_similar('cat',topn=3)\n"
   ]
  },
  {
   "cell_type": "code",
   "execution_count": 10,
   "id": "4bdb8ae0-86ab-4109-a646-06d2019c2cb1",
   "metadata": {},
   "outputs": [
    {
     "name": "stdout",
     "output_type": "stream",
     "text": [
      "dog:0.1267007291316986\n",
      "chase:0.042373016476631165\n",
      "woof:0.012442173436284065\n"
     ]
    }
   ],
   "source": [
    "for word,similarity in similar_words:\n",
    "    print(f\"{word}:{similarity}\")"
   ]
  },
  {
   "cell_type": "code",
   "execution_count": 11,
   "id": "7049dc3c-e4be-4cc2-91c9-eb1231eba999",
   "metadata": {},
   "outputs": [],
   "source": [
    "model.save('word2vecclass.model')#saveing and loading model"
   ]
  },
  {
   "cell_type": "code",
   "execution_count": 13,
   "id": "a721fe6d-5091-4fb7-80eb-483a0eb16cd1",
   "metadata": {},
   "outputs": [],
   "source": [
    "loaded_model=Word2Vec.load('word2vecclass.model')"
   ]
  },
  {
   "cell_type": "code",
   "execution_count": 14,
   "id": "45e3c2ef-3f90-4850-a44f-0944dc0f55cd",
   "metadata": {},
   "outputs": [
    {
     "name": "stdout",
     "output_type": "stream",
     "text": [
      "[-1.0724545e-03  4.7286271e-04  1.0206699e-02  1.8018546e-02\n",
      " -1.8605899e-02 -1.4233618e-02  1.2917745e-02  1.7945977e-02\n",
      " -1.0030856e-02 -7.5267432e-03  1.4761009e-02 -3.0669428e-03\n",
      " -9.0732267e-03  1.3108104e-02 -9.7203208e-03 -3.6320353e-03\n",
      "  5.7531595e-03  1.9837476e-03 -1.6570430e-02 -1.8897636e-02\n",
      "  1.4623532e-02  1.0140524e-02  1.3515387e-02  1.5257311e-03\n",
      "  1.2701781e-02 -6.8107317e-03 -1.8928028e-03  1.1537147e-02\n",
      " -1.5043275e-02 -7.8722071e-03 -1.5023164e-02 -1.8600845e-03\n",
      "  1.9076237e-02 -1.4638334e-02 -4.6675373e-03 -3.8754821e-03\n",
      "  1.6154874e-02 -1.1861792e-02  9.0324880e-05 -9.5074680e-03\n",
      " -1.9207101e-02  1.0014586e-02 -1.7519170e-02 -8.7836506e-03\n",
      " -7.0199967e-05 -5.9236289e-04 -1.5322480e-02  1.9229487e-02\n",
      "  9.9641159e-03  1.8466286e-02]\n"
     ]
    }
   ],
   "source": [
    "print(loaded_model.wv['cat'])"
   ]
  },
  {
   "cell_type": "code",
   "execution_count": null,
   "id": "a54c65b3-87be-451d-97b0-dc9b24b0258a",
   "metadata": {},
   "outputs": [],
   "source": []
  }
 ],
 "metadata": {
  "kernelspec": {
   "display_name": "Python 3 (ipykernel)",
   "language": "python",
   "name": "python3"
  },
  "language_info": {
   "codemirror_mode": {
    "name": "ipython",
    "version": 3
   },
   "file_extension": ".py",
   "mimetype": "text/x-python",
   "name": "python",
   "nbconvert_exporter": "python",
   "pygments_lexer": "ipython3",
   "version": "3.11.7"
  }
 },
 "nbformat": 4,
 "nbformat_minor": 5
}
